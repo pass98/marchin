{
 "cells": [
  {
   "cell_type": "markdown",
   "id": "ae955362",
   "metadata": {},
   "source": [
    ".[머신러닝 학습단계(7단계)].\n",
    "1. 문제를 정의하는 단계 : 어떤 문제를 어떻게 해결할 것인지 정의\n",
    "2. 데이터 수집 : 1단계에서 정의된 문제를 해결하기 위해 데이터를 수집하는 단계\n",
    "    - 변수 = pd.DataFrame('가지고 온 데이터')\n",
    "3. 데이터 전처리 : 결측치와 이상치를 수정하는단계, 결측치, 이상치를 확인하고 수정\n",
    "    - 변수.info() : 결측치 확인\n",
    "    - 변수.describe() : 이상치 확인(수치형만 확인)\n",
    " 4. 탐색적 데이터 분석(EDA) : 시간이 충분치 않을 때는 많이 생략되는 과정, 데이터를 그래프로 시각화, 기술통계값으로 데이터를 살펴보는 과정\n",
    "5. 모델 선택 및 하이퍼파라미터 튜닝 : \n",
    "    - 사용할 모델을 불러와서 파라미터를 수정 \n",
    "      트리모델 = DecisionTreeClassifier(max_depth =n)\n",
    "    - 데이터 분리(문제/정답-인덱서, 훈련/평가-train_test_split())\n",
    "       X : 문제(데이터프레임 형태), y : 정답(시리즈 형태)\n",
    "       X_train, X-test, y_train, y_test = train_test_split(X,y, test_size=0.3)\n",
    "6. 학습 : 모델이 규칙을 찾기위한 과정, 훈련데이터(train data)로 학습\n",
    "    - 트리모델.fit(X_train, y_train)\n",
    "7. 평가 : 모델 자체 평가, 훈련/평가용 데이터의 점수를 확인 => 과대적합/과소적합 여부 확인\n",
    "    - 교차 검증 X : 트리모델.score(X-train, y-train)\n",
    "                    트리모델.score(X_test, y_test)\n",
    "    - 교차 검증 O : cross_val_score(트리모델, X-train, y-train, cv=5).mean()\n",
    "                    cross_val_score(트리모델, X_test, y_test).mean()\n",
    "    - 교차검증 : 모델이 훈련데이터에 얼마나 민감한지 파악하는 용도\n",
    "                ==> 나타내는 결과값의 대역폭(변하는값)이 넓다면 민감하다.\n",
    "                ==> 모델이 안정적이지 않다.\n",
    "                나타내는 값이 균등하다면 데이터에 대해 민감하지 않다 -> 모델이 안정적이다.\n",
    "   모델이 예측하는 값 확인 \n",
    "   - 트리모델.predict([[이차원 형태의 새로운 데이터]]"
   ]
  },
  {
   "cell_type": "markdown",
   "id": "53a1c9fb",
   "metadata": {},
   "source": [
    "### 문제 정의\n",
    "- 타이타닉 데이터를 활용하여 생존과 사망을 구분하는 머신러닝 모델을 만들자\n",
    "- kaggle 경진대회에서 높은 순위를 차지해보자."
   ]
  },
  {
   "cell_type": "markdown",
   "id": "60ddb690",
   "metadata": {},
   "source": [
    "### 데이터 수집\n",
    " - kaggle 사이트에서 데이터 다운로드"
   ]
  },
  {
   "cell_type": "code",
   "execution_count": null,
   "id": "6dbd5436",
   "metadata": {},
   "outputs": [],
   "source": []
  },
  {
   "cell_type": "code",
   "execution_count": 1,
   "id": "b6cf6590",
   "metadata": {
    "ExecuteTime": {
     "end_time": "2023-08-30T01:58:32.978267Z",
     "start_time": "2023-08-30T01:58:32.540818Z"
    }
   },
   "outputs": [
    {
     "name": "stdout",
     "output_type": "stream",
     "text": [
      "(891, 12)\n",
      "(418, 11)\n"
     ]
    }
   ],
   "source": [
    "# train과 test 데이터 가져오기\n",
    "# train 변수 : train.csv 파일\n",
    "# test 변수 : test.csv 파일\n",
    "import pandas as pd \n",
    "train = pd.read_csv('./Data/titanic/train.csv')\n",
    "test = pd.read_csv('./Data/titanic/test.csv')\n",
    "print(train.shape)\n",
    "print(test.shape)\n",
    "# train과 test의 특성(컬럼)의 차이는 Survived 컬럼의 차이\n",
    "# 머신러닝 학습을 통해서 찾은 규칙을 기반으로 예측해야 하는 컬럼.\n"
   ]
  },
  {
   "cell_type": "markdown",
   "id": "72891e11",
   "metadata": {},
   "source": [
    "#### 컬럼들의 특징\n",
    "![특징](\"/titanic/info.png\")"
   ]
  },
  {
   "cell_type": "markdown",
   "id": "c7482b6a",
   "metadata": {},
   "source": [
    "### 데이터 전처리\n"
   ]
  },
  {
   "cell_type": "markdown",
   "id": "5f5a67e7",
   "metadata": {},
   "source": [
    "#### 이상치 확인"
   ]
  },
  {
   "cell_type": "code",
   "execution_count": 2,
   "id": "b0f1445c",
   "metadata": {
    "ExecuteTime": {
     "end_time": "2023-08-30T01:58:32.993101Z",
     "start_time": "2023-08-30T01:58:32.980225Z"
    }
   },
   "outputs": [
    {
     "name": "stdout",
     "output_type": "stream",
     "text": [
      "<class 'pandas.core.frame.DataFrame'>\n",
      "RangeIndex: 891 entries, 0 to 890\n",
      "Data columns (total 12 columns):\n",
      " #   Column       Non-Null Count  Dtype  \n",
      "---  ------       --------------  -----  \n",
      " 0   PassengerId  891 non-null    int64  \n",
      " 1   Survived     891 non-null    int64  \n",
      " 2   Pclass       891 non-null    int64  \n",
      " 3   Name         891 non-null    object \n",
      " 4   Sex          891 non-null    object \n",
      " 5   Age          714 non-null    float64\n",
      " 6   SibSp        891 non-null    int64  \n",
      " 7   Parch        891 non-null    int64  \n",
      " 8   Ticket       891 non-null    object \n",
      " 9   Fare         891 non-null    float64\n",
      " 10  Cabin        204 non-null    object \n",
      " 11  Embarked     889 non-null    object \n",
      "dtypes: float64(2), int64(5), object(5)\n",
      "memory usage: 83.7+ KB\n"
     ]
    }
   ],
   "source": [
    "train.info()\n",
    "# 결측치 컬럼 : Age, Cabin, Embarked\n",
    "# 머신러닝 학습을 위해 숫자형 자료로 변경 컬럼 : Name, Sex,Ticket,Cabin,Embarked => encording이 필요 \n"
   ]
  },
  {
   "cell_type": "code",
   "execution_count": 3,
   "id": "2f982670",
   "metadata": {
    "ExecuteTime": {
     "end_time": "2023-08-30T01:58:33.008389Z",
     "start_time": "2023-08-30T01:58:32.995222Z"
    }
   },
   "outputs": [
    {
     "name": "stdout",
     "output_type": "stream",
     "text": [
      "<class 'pandas.core.frame.DataFrame'>\n",
      "RangeIndex: 418 entries, 0 to 417\n",
      "Data columns (total 11 columns):\n",
      " #   Column       Non-Null Count  Dtype  \n",
      "---  ------       --------------  -----  \n",
      " 0   PassengerId  418 non-null    int64  \n",
      " 1   Pclass       418 non-null    int64  \n",
      " 2   Name         418 non-null    object \n",
      " 3   Sex          418 non-null    object \n",
      " 4   Age          332 non-null    float64\n",
      " 5   SibSp        418 non-null    int64  \n",
      " 6   Parch        418 non-null    int64  \n",
      " 7   Ticket       418 non-null    object \n",
      " 8   Fare         417 non-null    float64\n",
      " 9   Cabin        91 non-null     object \n",
      " 10  Embarked     418 non-null    object \n",
      "dtypes: float64(2), int64(4), object(5)\n",
      "memory usage: 36.0+ KB\n"
     ]
    }
   ],
   "source": [
    "test.info()\n",
    "# 결측치 컬럼 : Age, fair, Cabin : RangeIndex: 418 개가 아닌 값들\n",
    "# 머신러닝 학습을 위해 숫자형 자료로 변경 컬럼 :Name\n",
    "# Name, sex, Ticket, cabin, Embarked => encoding 필요"
   ]
  },
  {
   "cell_type": "markdown",
   "id": "2789da09",
   "metadata": {},
   "source": [
    "#### 이상치 확인\n",
    " - describe()"
   ]
  },
  {
   "cell_type": "code",
   "execution_count": 4,
   "id": "9a3617f8",
   "metadata": {
    "ExecuteTime": {
     "end_time": "2023-08-30T01:58:33.039663Z",
     "start_time": "2023-08-30T01:58:33.009387Z"
    }
   },
   "outputs": [
    {
     "data": {
      "text/html": [
       "<div>\n",
       "<style scoped>\n",
       "    .dataframe tbody tr th:only-of-type {\n",
       "        vertical-align: middle;\n",
       "    }\n",
       "\n",
       "    .dataframe tbody tr th {\n",
       "        vertical-align: top;\n",
       "    }\n",
       "\n",
       "    .dataframe thead th {\n",
       "        text-align: right;\n",
       "    }\n",
       "</style>\n",
       "<table border=\"1\" class=\"dataframe\">\n",
       "  <thead>\n",
       "    <tr style=\"text-align: right;\">\n",
       "      <th></th>\n",
       "      <th>PassengerId</th>\n",
       "      <th>Survived</th>\n",
       "      <th>Pclass</th>\n",
       "      <th>Age</th>\n",
       "      <th>SibSp</th>\n",
       "      <th>Parch</th>\n",
       "      <th>Fare</th>\n",
       "    </tr>\n",
       "  </thead>\n",
       "  <tbody>\n",
       "    <tr>\n",
       "      <th>count</th>\n",
       "      <td>891.000000</td>\n",
       "      <td>891.000000</td>\n",
       "      <td>891.000000</td>\n",
       "      <td>714.000000</td>\n",
       "      <td>891.000000</td>\n",
       "      <td>891.000000</td>\n",
       "      <td>891.000000</td>\n",
       "    </tr>\n",
       "    <tr>\n",
       "      <th>mean</th>\n",
       "      <td>446.000000</td>\n",
       "      <td>0.383838</td>\n",
       "      <td>2.308642</td>\n",
       "      <td>29.699118</td>\n",
       "      <td>0.523008</td>\n",
       "      <td>0.381594</td>\n",
       "      <td>32.204208</td>\n",
       "    </tr>\n",
       "    <tr>\n",
       "      <th>std</th>\n",
       "      <td>257.353842</td>\n",
       "      <td>0.486592</td>\n",
       "      <td>0.836071</td>\n",
       "      <td>14.526497</td>\n",
       "      <td>1.102743</td>\n",
       "      <td>0.806057</td>\n",
       "      <td>49.693429</td>\n",
       "    </tr>\n",
       "    <tr>\n",
       "      <th>min</th>\n",
       "      <td>1.000000</td>\n",
       "      <td>0.000000</td>\n",
       "      <td>1.000000</td>\n",
       "      <td>0.420000</td>\n",
       "      <td>0.000000</td>\n",
       "      <td>0.000000</td>\n",
       "      <td>0.000000</td>\n",
       "    </tr>\n",
       "    <tr>\n",
       "      <th>25%</th>\n",
       "      <td>223.500000</td>\n",
       "      <td>0.000000</td>\n",
       "      <td>2.000000</td>\n",
       "      <td>20.125000</td>\n",
       "      <td>0.000000</td>\n",
       "      <td>0.000000</td>\n",
       "      <td>7.910400</td>\n",
       "    </tr>\n",
       "    <tr>\n",
       "      <th>50%</th>\n",
       "      <td>446.000000</td>\n",
       "      <td>0.000000</td>\n",
       "      <td>3.000000</td>\n",
       "      <td>28.000000</td>\n",
       "      <td>0.000000</td>\n",
       "      <td>0.000000</td>\n",
       "      <td>14.454200</td>\n",
       "    </tr>\n",
       "    <tr>\n",
       "      <th>75%</th>\n",
       "      <td>668.500000</td>\n",
       "      <td>1.000000</td>\n",
       "      <td>3.000000</td>\n",
       "      <td>38.000000</td>\n",
       "      <td>1.000000</td>\n",
       "      <td>0.000000</td>\n",
       "      <td>31.000000</td>\n",
       "    </tr>\n",
       "    <tr>\n",
       "      <th>max</th>\n",
       "      <td>891.000000</td>\n",
       "      <td>1.000000</td>\n",
       "      <td>3.000000</td>\n",
       "      <td>80.000000</td>\n",
       "      <td>8.000000</td>\n",
       "      <td>6.000000</td>\n",
       "      <td>512.329200</td>\n",
       "    </tr>\n",
       "  </tbody>\n",
       "</table>\n",
       "</div>"
      ],
      "text/plain": [
       "       PassengerId    Survived      Pclass         Age       SibSp  \\\n",
       "count   891.000000  891.000000  891.000000  714.000000  891.000000   \n",
       "mean    446.000000    0.383838    2.308642   29.699118    0.523008   \n",
       "std     257.353842    0.486592    0.836071   14.526497    1.102743   \n",
       "min       1.000000    0.000000    1.000000    0.420000    0.000000   \n",
       "25%     223.500000    0.000000    2.000000   20.125000    0.000000   \n",
       "50%     446.000000    0.000000    3.000000   28.000000    0.000000   \n",
       "75%     668.500000    1.000000    3.000000   38.000000    1.000000   \n",
       "max     891.000000    1.000000    3.000000   80.000000    8.000000   \n",
       "\n",
       "            Parch        Fare  \n",
       "count  891.000000  891.000000  \n",
       "mean     0.381594   32.204208  \n",
       "std      0.806057   49.693429  \n",
       "min      0.000000    0.000000  \n",
       "25%      0.000000    7.910400  \n",
       "50%      0.000000   14.454200  \n",
       "75%      0.000000   31.000000  \n",
       "max      6.000000  512.329200  "
      ]
     },
     "execution_count": 4,
     "metadata": {},
     "output_type": "execute_result"
    }
   ],
   "source": [
    "train.describe()\n",
    "# passengerld : 승객의 번호를 의미, 필요없는 데이터 -> 삭제\n",
    "# Survived(0,1) -> 38%가 생존\n",
    "# Pclass : 객실의 등급(1,2,3)으로 평규읜 의미 (std)가 없음\n",
    "# Age : 평균값이 의미가 있음. 20~30대 승객이 많음.\n",
    "# SibSp : 형제 자매/ 배우자 수 --> 이상치 의미가 없음\n",
    "# Parch : 부모/자식 수  --> 이상치 의미가 없음\n",
    "# fare : 평균은 어느정도 의미가 있음.\n",
    "#  평균과 중앙값을 비교했을 때 중앙값에 비해 평균이 높다는 의미는?\n",
    "#  1.데이터 수집이 잘못\n",
    "#  2.티켓의 가격이 잘못\n",
    "#  3.진짜로 1등급을 넘어서는 가격이 존재 \n",
    "\n",
    "# Fare 컬럼을 제외하고는 특별한 이상치가 있다고 볼 수 없음."
   ]
  },
  {
   "cell_type": "markdown",
   "id": "88cf7d5b",
   "metadata": {},
   "source": [
    "#### Embarked 결측치 채우기\n",
    "- 탑승항구 : S, C, Q 정보\n",
    "- 결측치 수가 상대적으로 작기때문에(2) 먼저 처리"
   ]
  },
  {
   "cell_type": "code",
   "execution_count": 5,
   "id": "6403f212",
   "metadata": {
    "ExecuteTime": {
     "end_time": "2023-08-30T01:58:33.054982Z",
     "start_time": "2023-08-30T01:58:33.042662Z"
    }
   },
   "outputs": [
    {
     "data": {
      "text/plain": [
       "S    644\n",
       "C    168\n",
       "Q     77\n",
       "Name: Embarked, dtype: int64"
      ]
     },
     "execution_count": 5,
     "metadata": {},
     "output_type": "execute_result"
    }
   ],
   "source": [
    "# 해당 컬럼의 데이터 갯수를 세어주는 함수 : value_counts()\n",
    "train['Embarked'].value_counts()\n",
    "\n",
    "# 결측치를 채울 때 주의할 점\n",
    "# - 어떤 기준으로 값을 채울 것인가 확인이 중요\n",
    "# 탑승하는 항구의 값을 채우기 위해 다른 컬럼이나 추가적인 정보를 확인  필요. \n",
    "# 탑승하는 항구별로 티켓의 가격이 다른지 확인하는 것도 의미가 있을 수 있음 .\n",
    "\n",
    "# 결측치가 2개이므로 전체적인 흐름에 영향을 주지 않을 것 같아서 ==> 대표값으로 측정"
   ]
  },
  {
   "cell_type": "markdown",
   "id": "bb7d0bc8",
   "metadata": {},
   "source": [
    "##### train데이터 - 결측치 채우기"
   ]
  },
  {
   "cell_type": "code",
   "execution_count": 6,
   "id": "d6b61df9",
   "metadata": {
    "ExecuteTime": {
     "end_time": "2023-08-30T01:58:33.070365Z",
     "start_time": "2023-08-30T01:58:33.056981Z"
    }
   },
   "outputs": [],
   "source": [
    "# 결측치 2개(891-> 889)를 최빈값(S) ==> 대표값으로 채우기 \n",
    "#  전체 결측치를 한번에 채워주는 함수 : fillna(입력값)\n",
    "\n",
    "train['Embarked'].fillna('S', inplace=True) #inplace = True : 변경된 값을 저장"
   ]
  },
  {
   "cell_type": "code",
   "execution_count": 7,
   "id": "97f67d68",
   "metadata": {
    "ExecuteTime": {
     "end_time": "2023-08-30T01:58:33.086366Z",
     "start_time": "2023-08-30T01:58:33.072361Z"
    }
   },
   "outputs": [
    {
     "name": "stdout",
     "output_type": "stream",
     "text": [
      "<class 'pandas.core.frame.DataFrame'>\n",
      "RangeIndex: 891 entries, 0 to 890\n",
      "Data columns (total 12 columns):\n",
      " #   Column       Non-Null Count  Dtype  \n",
      "---  ------       --------------  -----  \n",
      " 0   PassengerId  891 non-null    int64  \n",
      " 1   Survived     891 non-null    int64  \n",
      " 2   Pclass       891 non-null    int64  \n",
      " 3   Name         891 non-null    object \n",
      " 4   Sex          891 non-null    object \n",
      " 5   Age          714 non-null    float64\n",
      " 6   SibSp        891 non-null    int64  \n",
      " 7   Parch        891 non-null    int64  \n",
      " 8   Ticket       891 non-null    object \n",
      " 9   Fare         891 non-null    float64\n",
      " 10  Cabin        204 non-null    object \n",
      " 11  Embarked     891 non-null    object \n",
      "dtypes: float64(2), int64(5), object(5)\n",
      "memory usage: 83.7+ KB\n"
     ]
    }
   ],
   "source": [
    "train.info()"
   ]
  },
  {
   "cell_type": "markdown",
   "id": "d4549577",
   "metadata": {
    "ExecuteTime": {
     "end_time": "2023-08-28T02:38:47.976374Z",
     "start_time": "2023-08-28T02:38:47.964871Z"
    }
   },
   "source": [
    "##### test데이터 -Fare 결측치 채우기 "
   ]
  },
  {
   "cell_type": "code",
   "execution_count": 8,
   "id": "69d8ef23",
   "metadata": {
    "ExecuteTime": {
     "end_time": "2023-08-30T01:58:33.116517Z",
     "start_time": "2023-08-30T01:58:33.087366Z"
    }
   },
   "outputs": [
    {
     "data": {
      "text/html": [
       "<div>\n",
       "<style scoped>\n",
       "    .dataframe tbody tr th:only-of-type {\n",
       "        vertical-align: middle;\n",
       "    }\n",
       "\n",
       "    .dataframe tbody tr th {\n",
       "        vertical-align: top;\n",
       "    }\n",
       "\n",
       "    .dataframe thead th {\n",
       "        text-align: right;\n",
       "    }\n",
       "</style>\n",
       "<table border=\"1\" class=\"dataframe\">\n",
       "  <thead>\n",
       "    <tr style=\"text-align: right;\">\n",
       "      <th></th>\n",
       "      <th>PassengerId</th>\n",
       "      <th>Pclass</th>\n",
       "      <th>Age</th>\n",
       "      <th>SibSp</th>\n",
       "      <th>Parch</th>\n",
       "      <th>Fare</th>\n",
       "    </tr>\n",
       "  </thead>\n",
       "  <tbody>\n",
       "    <tr>\n",
       "      <th>count</th>\n",
       "      <td>418.000000</td>\n",
       "      <td>418.000000</td>\n",
       "      <td>332.000000</td>\n",
       "      <td>418.000000</td>\n",
       "      <td>418.000000</td>\n",
       "      <td>417.000000</td>\n",
       "    </tr>\n",
       "    <tr>\n",
       "      <th>mean</th>\n",
       "      <td>1100.500000</td>\n",
       "      <td>2.265550</td>\n",
       "      <td>30.272590</td>\n",
       "      <td>0.447368</td>\n",
       "      <td>0.392344</td>\n",
       "      <td>35.627188</td>\n",
       "    </tr>\n",
       "    <tr>\n",
       "      <th>std</th>\n",
       "      <td>120.810458</td>\n",
       "      <td>0.841838</td>\n",
       "      <td>14.181209</td>\n",
       "      <td>0.896760</td>\n",
       "      <td>0.981429</td>\n",
       "      <td>55.907576</td>\n",
       "    </tr>\n",
       "    <tr>\n",
       "      <th>min</th>\n",
       "      <td>892.000000</td>\n",
       "      <td>1.000000</td>\n",
       "      <td>0.170000</td>\n",
       "      <td>0.000000</td>\n",
       "      <td>0.000000</td>\n",
       "      <td>0.000000</td>\n",
       "    </tr>\n",
       "    <tr>\n",
       "      <th>25%</th>\n",
       "      <td>996.250000</td>\n",
       "      <td>1.000000</td>\n",
       "      <td>21.000000</td>\n",
       "      <td>0.000000</td>\n",
       "      <td>0.000000</td>\n",
       "      <td>7.895800</td>\n",
       "    </tr>\n",
       "    <tr>\n",
       "      <th>50%</th>\n",
       "      <td>1100.500000</td>\n",
       "      <td>3.000000</td>\n",
       "      <td>27.000000</td>\n",
       "      <td>0.000000</td>\n",
       "      <td>0.000000</td>\n",
       "      <td>14.454200</td>\n",
       "    </tr>\n",
       "    <tr>\n",
       "      <th>75%</th>\n",
       "      <td>1204.750000</td>\n",
       "      <td>3.000000</td>\n",
       "      <td>39.000000</td>\n",
       "      <td>1.000000</td>\n",
       "      <td>0.000000</td>\n",
       "      <td>31.500000</td>\n",
       "    </tr>\n",
       "    <tr>\n",
       "      <th>max</th>\n",
       "      <td>1309.000000</td>\n",
       "      <td>3.000000</td>\n",
       "      <td>76.000000</td>\n",
       "      <td>8.000000</td>\n",
       "      <td>9.000000</td>\n",
       "      <td>512.329200</td>\n",
       "    </tr>\n",
       "  </tbody>\n",
       "</table>\n",
       "</div>"
      ],
      "text/plain": [
       "       PassengerId      Pclass         Age       SibSp       Parch        Fare\n",
       "count   418.000000  418.000000  332.000000  418.000000  418.000000  417.000000\n",
       "mean   1100.500000    2.265550   30.272590    0.447368    0.392344   35.627188\n",
       "std     120.810458    0.841838   14.181209    0.896760    0.981429   55.907576\n",
       "min     892.000000    1.000000    0.170000    0.000000    0.000000    0.000000\n",
       "25%     996.250000    1.000000   21.000000    0.000000    0.000000    7.895800\n",
       "50%    1100.500000    3.000000   27.000000    0.000000    0.000000   14.454200\n",
       "75%    1204.750000    3.000000   39.000000    1.000000    0.000000   31.500000\n",
       "max    1309.000000    3.000000   76.000000    8.000000    9.000000  512.329200"
      ]
     },
     "execution_count": 8,
     "metadata": {},
     "output_type": "execute_result"
    }
   ],
   "source": [
    "test.describe()"
   ]
  },
  {
   "cell_type": "code",
   "execution_count": 9,
   "id": "667b79f5",
   "metadata": {
    "ExecuteTime": {
     "end_time": "2023-08-30T01:58:33.131462Z",
     "start_time": "2023-08-30T01:58:33.117514Z"
    }
   },
   "outputs": [],
   "source": [
    "#test['Fare'].value_counts()\n",
    "# Embarked 컬럼처럼 그 컬럼의 최빈값으로 채우는 게 의미가 없음\n",
    "# 연속적인 숫자값으로 가장 최빈값이 7.75 ==> 평균도 아니고 중앙값에도 미치지 못하는 값\n",
    "\n",
    "# Fare 컬럼의 중앙값으로 사용하여 결측치를 채워보자\n",
    "test['Fare'].fillna(14.454200,inplace=True) # 중앙값으로 변경허고 저장"
   ]
  },
  {
   "cell_type": "code",
   "execution_count": 10,
   "id": "f3c9969f",
   "metadata": {
    "ExecuteTime": {
     "end_time": "2023-08-30T01:58:33.146955Z",
     "start_time": "2023-08-30T01:58:33.133458Z"
    }
   },
   "outputs": [
    {
     "name": "stdout",
     "output_type": "stream",
     "text": [
      "<class 'pandas.core.frame.DataFrame'>\n",
      "RangeIndex: 418 entries, 0 to 417\n",
      "Data columns (total 11 columns):\n",
      " #   Column       Non-Null Count  Dtype  \n",
      "---  ------       --------------  -----  \n",
      " 0   PassengerId  418 non-null    int64  \n",
      " 1   Pclass       418 non-null    int64  \n",
      " 2   Name         418 non-null    object \n",
      " 3   Sex          418 non-null    object \n",
      " 4   Age          332 non-null    float64\n",
      " 5   SibSp        418 non-null    int64  \n",
      " 6   Parch        418 non-null    int64  \n",
      " 7   Ticket       418 non-null    object \n",
      " 8   Fare         418 non-null    float64\n",
      " 9   Cabin        91 non-null     object \n",
      " 10  Embarked     418 non-null    object \n",
      "dtypes: float64(2), int64(4), object(5)\n",
      "memory usage: 36.0+ KB\n"
     ]
    }
   ],
   "source": [
    "test.info()"
   ]
  },
  {
   "cell_type": "markdown",
   "id": "fae21398",
   "metadata": {},
   "source": [
    "#### Age 결측치 채우기\n",
    "#### - 다른른 컴럼들과의 상관관계를 사용해서 결측치를 채우기"
   ]
  },
  {
   "cell_type": "code",
   "execution_count": 11,
   "id": "c19b8292",
   "metadata": {
    "ExecuteTime": {
     "end_time": "2023-08-30T01:58:33.162908Z",
     "start_time": "2023-08-30T01:58:33.147954Z"
    },
    "scrolled": true
   },
   "outputs": [
    {
     "name": "stderr",
     "output_type": "stream",
     "text": [
      "C:\\Users\\gjaischool\\AppData\\Local\\Temp\\ipykernel_14152\\2965203234.py:7: FutureWarning: The default value of numeric_only in DataFrame.corr is deprecated. In a future version, it will default to False. Select only valid columns or specify the value of numeric_only to silence this warning.\n",
      "  train.corr()\n"
     ]
    },
    {
     "data": {
      "text/html": [
       "<div>\n",
       "<style scoped>\n",
       "    .dataframe tbody tr th:only-of-type {\n",
       "        vertical-align: middle;\n",
       "    }\n",
       "\n",
       "    .dataframe tbody tr th {\n",
       "        vertical-align: top;\n",
       "    }\n",
       "\n",
       "    .dataframe thead th {\n",
       "        text-align: right;\n",
       "    }\n",
       "</style>\n",
       "<table border=\"1\" class=\"dataframe\">\n",
       "  <thead>\n",
       "    <tr style=\"text-align: right;\">\n",
       "      <th></th>\n",
       "      <th>PassengerId</th>\n",
       "      <th>Survived</th>\n",
       "      <th>Pclass</th>\n",
       "      <th>Age</th>\n",
       "      <th>SibSp</th>\n",
       "      <th>Parch</th>\n",
       "      <th>Fare</th>\n",
       "    </tr>\n",
       "  </thead>\n",
       "  <tbody>\n",
       "    <tr>\n",
       "      <th>PassengerId</th>\n",
       "      <td>1.000000</td>\n",
       "      <td>-0.005007</td>\n",
       "      <td>-0.035144</td>\n",
       "      <td>0.036847</td>\n",
       "      <td>-0.057527</td>\n",
       "      <td>-0.001652</td>\n",
       "      <td>0.012658</td>\n",
       "    </tr>\n",
       "    <tr>\n",
       "      <th>Survived</th>\n",
       "      <td>-0.005007</td>\n",
       "      <td>1.000000</td>\n",
       "      <td>-0.338481</td>\n",
       "      <td>-0.077221</td>\n",
       "      <td>-0.035322</td>\n",
       "      <td>0.081629</td>\n",
       "      <td>0.257307</td>\n",
       "    </tr>\n",
       "    <tr>\n",
       "      <th>Pclass</th>\n",
       "      <td>-0.035144</td>\n",
       "      <td>-0.338481</td>\n",
       "      <td>1.000000</td>\n",
       "      <td>-0.369226</td>\n",
       "      <td>0.083081</td>\n",
       "      <td>0.018443</td>\n",
       "      <td>-0.549500</td>\n",
       "    </tr>\n",
       "    <tr>\n",
       "      <th>Age</th>\n",
       "      <td>0.036847</td>\n",
       "      <td>-0.077221</td>\n",
       "      <td>-0.369226</td>\n",
       "      <td>1.000000</td>\n",
       "      <td>-0.308247</td>\n",
       "      <td>-0.189119</td>\n",
       "      <td>0.096067</td>\n",
       "    </tr>\n",
       "    <tr>\n",
       "      <th>SibSp</th>\n",
       "      <td>-0.057527</td>\n",
       "      <td>-0.035322</td>\n",
       "      <td>0.083081</td>\n",
       "      <td>-0.308247</td>\n",
       "      <td>1.000000</td>\n",
       "      <td>0.414838</td>\n",
       "      <td>0.159651</td>\n",
       "    </tr>\n",
       "    <tr>\n",
       "      <th>Parch</th>\n",
       "      <td>-0.001652</td>\n",
       "      <td>0.081629</td>\n",
       "      <td>0.018443</td>\n",
       "      <td>-0.189119</td>\n",
       "      <td>0.414838</td>\n",
       "      <td>1.000000</td>\n",
       "      <td>0.216225</td>\n",
       "    </tr>\n",
       "    <tr>\n",
       "      <th>Fare</th>\n",
       "      <td>0.012658</td>\n",
       "      <td>0.257307</td>\n",
       "      <td>-0.549500</td>\n",
       "      <td>0.096067</td>\n",
       "      <td>0.159651</td>\n",
       "      <td>0.216225</td>\n",
       "      <td>1.000000</td>\n",
       "    </tr>\n",
       "  </tbody>\n",
       "</table>\n",
       "</div>"
      ],
      "text/plain": [
       "             PassengerId  Survived    Pclass       Age     SibSp     Parch  \\\n",
       "PassengerId     1.000000 -0.005007 -0.035144  0.036847 -0.057527 -0.001652   \n",
       "Survived       -0.005007  1.000000 -0.338481 -0.077221 -0.035322  0.081629   \n",
       "Pclass         -0.035144 -0.338481  1.000000 -0.369226  0.083081  0.018443   \n",
       "Age             0.036847 -0.077221 -0.369226  1.000000 -0.308247 -0.189119   \n",
       "SibSp          -0.057527 -0.035322  0.083081 -0.308247  1.000000  0.414838   \n",
       "Parch          -0.001652  0.081629  0.018443 -0.189119  0.414838  1.000000   \n",
       "Fare            0.012658  0.257307 -0.549500  0.096067  0.159651  0.216225   \n",
       "\n",
       "                 Fare  \n",
       "PassengerId  0.012658  \n",
       "Survived     0.257307  \n",
       "Pclass      -0.549500  \n",
       "Age          0.096067  \n",
       "SibSp        0.159651  \n",
       "Parch        0.216225  \n",
       "Fare         1.000000  "
      ]
     },
     "execution_count": 11,
     "metadata": {},
     "output_type": "execute_result"
    }
   ],
   "source": [
    "# 수치형 컬럼들 간의 상관관계를 나타내는 함수 : corr()\n",
    "# 그래프의 값이 마이너스에 가까울때는 반비례 관계. 1에 가까울 때는 비례 관계.\n",
    "# 나이와 Pclass,sibSp,Parch는 반비례관계, Fard는 비례관계\n",
    "# -1 ~ 1 사이의 숫자로 표현 \n",
    "# -1에 가까울 수록 반비례 관계 : 나이가 많을 수록 객실등급은 1등급에 가까울 거다.\n",
    "# 1에 가까울 수록 (정)비례 : \n",
    "train.corr()\n",
    "\n",
    "# corr 함수가 오류가 날 경우 train.select_dtypes(include=['int64', 'float64']).corr()\n",
    "\n",
    "# corr는 파이썬 버전에 따라 오류가 자주 생길 수 있는 함수\n",
    "# corr() 사용시 흔히 발생하는 문제\n",
    "# 1.누락된 값이 있는 경우 NaN 값의 행렬 반환\n",
    "# 2. 숫자가 아닌 열 데이터 유형이 포함되어 있는 경우 : 이들을 무시하고 실행하기 떄문에 오류 발생\n",
    "# 3. 내가 가져온 데이터 프레임에 불균형한 데이터가 포함되어 있을 경우\n",
    "#     상관계쑤가 의미가 없어지는 경우 \n",
    "\n",
    "# 해결방법\n",
    "# 1.누락된 값은 삭제:corr()을 적용하기 전에 dropna()를 이용해서 누락된 값을 포함하고 있는 행을 삭제 ,\n",
    "# 2.숫자가 아닌 열 삭제 : select_dtypes  corr()적용하기 전에 select_dtypes() 숫자열만 선택\n",
    "#    select_dtypes(include=[], exclude=[]) - 열에 포함된 데이터들을 내가 명시한 dtypes를 기준으로 인덱싱.\n",
    "#    - 데이터프레임 형태가 기본\n",
    "#    - include에 넣은 값을 포함, exclude에 넣은 값은 제외한 열을 DataFrame 형태로 변환 \n",
    "# 3. 데이터를 표준화 : scikit-learn 라이브랑 scatter를 사용해서 데이터를 표준화시켜주는 방법\n",
    "\n",
    "# 수치 앞의 부호는 정비례. 반비례인지 판단 기준\n",
    "# 부호뒤의 숫자의 절대값이 1에 가까울 수록 서로 영향을 준다고 판단\n",
    "# 형제자매/배우자수, 객실등급이 나이와 상관이 있을 것이다."
   ]
  },
  {
   "cell_type": "code",
   "execution_count": 12,
   "id": "4da1c766",
   "metadata": {
    "ExecuteTime": {
     "end_time": "2023-08-30T01:58:33.178618Z",
     "start_time": "2023-08-30T01:58:33.164414Z"
    }
   },
   "outputs": [
    {
     "data": {
      "text/html": [
       "<div>\n",
       "<style scoped>\n",
       "    .dataframe tbody tr th:only-of-type {\n",
       "        vertical-align: middle;\n",
       "    }\n",
       "\n",
       "    .dataframe tbody tr th {\n",
       "        vertical-align: top;\n",
       "    }\n",
       "\n",
       "    .dataframe thead th {\n",
       "        text-align: right;\n",
       "    }\n",
       "</style>\n",
       "<table border=\"1\" class=\"dataframe\">\n",
       "  <thead>\n",
       "    <tr style=\"text-align: right;\">\n",
       "      <th></th>\n",
       "      <th>Age</th>\n",
       "    </tr>\n",
       "    <tr>\n",
       "      <th>Pclass</th>\n",
       "      <th></th>\n",
       "    </tr>\n",
       "  </thead>\n",
       "  <tbody>\n",
       "    <tr>\n",
       "      <th>1</th>\n",
       "      <td>37.0</td>\n",
       "    </tr>\n",
       "    <tr>\n",
       "      <th>2</th>\n",
       "      <td>29.0</td>\n",
       "    </tr>\n",
       "    <tr>\n",
       "      <th>3</th>\n",
       "      <td>24.0</td>\n",
       "    </tr>\n",
       "  </tbody>\n",
       "</table>\n",
       "</div>"
      ],
      "text/plain": [
       "         Age\n",
       "Pclass      \n",
       "1       37.0\n",
       "2       29.0\n",
       "3       24.0"
      ]
     },
     "execution_count": 12,
     "metadata": {},
     "output_type": "execute_result"
    }
   ],
   "source": [
    "# Age 컬럼을 Pclass컬럼과 비교해서 결측치 채우기\n",
    "\n",
    "train[['Pclass','Age']] # -> pclass 별로 묶어서 중앙값 확인\n",
    "\n",
    "train[['Pclass', 'Age']].groupby(by='Pclass').median()\n",
    "# Pclass 별로 탑승한 승객의 나이의 중앙값\n",
    "\n",
    "#Pclass = 1,2,3 : 숫자자료이지만 등급을 나타내는 범주형 자료 "
   ]
  },
  {
   "cell_type": "code",
   "execution_count": 13,
   "id": "2a29f32e",
   "metadata": {
    "ExecuteTime": {
     "end_time": "2023-08-30T01:58:33.194457Z",
     "start_time": "2023-08-30T01:58:33.179615Z"
    }
   },
   "outputs": [
    {
     "data": {
      "text/html": [
       "<div>\n",
       "<style scoped>\n",
       "    .dataframe tbody tr th:only-of-type {\n",
       "        vertical-align: middle;\n",
       "    }\n",
       "\n",
       "    .dataframe tbody tr th {\n",
       "        vertical-align: top;\n",
       "    }\n",
       "\n",
       "    .dataframe thead th {\n",
       "        text-align: right;\n",
       "    }\n",
       "</style>\n",
       "<table border=\"1\" class=\"dataframe\">\n",
       "  <thead>\n",
       "    <tr style=\"text-align: right;\">\n",
       "      <th></th>\n",
       "      <th></th>\n",
       "      <th>Age</th>\n",
       "    </tr>\n",
       "    <tr>\n",
       "      <th>Pclass</th>\n",
       "      <th>Sex</th>\n",
       "      <th></th>\n",
       "    </tr>\n",
       "  </thead>\n",
       "  <tbody>\n",
       "    <tr>\n",
       "      <th rowspan=\"2\" valign=\"top\">1</th>\n",
       "      <th>female</th>\n",
       "      <td>35.0</td>\n",
       "    </tr>\n",
       "    <tr>\n",
       "      <th>male</th>\n",
       "      <td>40.0</td>\n",
       "    </tr>\n",
       "    <tr>\n",
       "      <th rowspan=\"2\" valign=\"top\">2</th>\n",
       "      <th>female</th>\n",
       "      <td>28.0</td>\n",
       "    </tr>\n",
       "    <tr>\n",
       "      <th>male</th>\n",
       "      <td>30.0</td>\n",
       "    </tr>\n",
       "    <tr>\n",
       "      <th rowspan=\"2\" valign=\"top\">3</th>\n",
       "      <th>female</th>\n",
       "      <td>21.5</td>\n",
       "    </tr>\n",
       "    <tr>\n",
       "      <th>male</th>\n",
       "      <td>25.0</td>\n",
       "    </tr>\n",
       "  </tbody>\n",
       "</table>\n",
       "</div>"
      ],
      "text/plain": [
       "                Age\n",
       "Pclass Sex         \n",
       "1      female  35.0\n",
       "       male    40.0\n",
       "2      female  28.0\n",
       "       male    30.0\n",
       "3      female  21.5\n",
       "       male    25.0"
      ]
     },
     "execution_count": 13,
     "metadata": {},
     "output_type": "execute_result"
    }
   ],
   "source": [
    "# Age 컬럼을 Pclass 먼저, Sex 컬럼 추가하기 \n",
    "# Pclass 컬럼별로 탑승한 승객의 나이의 중앙값\n",
    "\n",
    "# 3개의 컬럼을 보기 위해서 age_table로 저장 (테이블 형태로)\n",
    "age_table= train[['Pclass','Sex','Age']].groupby(by=['Pclass','Sex']).median()\n",
    "age_table"
   ]
  },
  {
   "cell_type": "code",
   "execution_count": 14,
   "id": "6a7a764d",
   "metadata": {
    "ExecuteTime": {
     "end_time": "2023-08-30T01:58:33.210361Z",
     "start_time": "2023-08-30T01:58:33.198831Z"
    }
   },
   "outputs": [
    {
     "data": {
      "text/plain": [
       "PassengerId                          7\n",
       "Survived                             0\n",
       "Pclass                               1\n",
       "Name           McCarthy, Mr. Timothy J\n",
       "Sex                               male\n",
       "Age                               54.0\n",
       "SibSp                                0\n",
       "Parch                                0\n",
       "Ticket                           17463\n",
       "Fare                           51.8625\n",
       "Cabin                              E46\n",
       "Embarked                             S\n",
       "Name: 6, dtype: object"
      ]
     },
     "execution_count": 14,
     "metadata": {},
     "output_type": "execute_result"
    }
   ],
   "source": [
    "train.iloc[6]\n",
    "# 행 1개 : 승객 1명의 정보"
   ]
  },
  {
   "cell_type": "code",
   "execution_count": 15,
   "id": "e5962931",
   "metadata": {
    "ExecuteTime": {
     "end_time": "2023-08-30T01:58:33.226555Z",
     "start_time": "2023-08-30T01:58:33.212356Z"
    }
   },
   "outputs": [],
   "source": [
    "# 1. 함수 정의 \n",
    "# 하나의 행을 가져와서\n",
    "# Age가 결측치가 아닌 경우 --> 원래 가지고 있던 값을 그대로 사용\n",
    "# Age가 결측치라면 --> Pclass와 Sex 컬럼을 확인하고 해당하는 값을 age_table에서 검색해서 해당 값으로 채우기 \n",
    "# 꺼내오는 하나의 행 정보 : 넘파이 배열형태 \n",
    "import numpy as np\n",
    "\n",
    "# 함수를 만들 때 주의할 점 \n",
    "# 행단위로 데이터가 들어올 것으로 예상하고 만들기 \n",
    "def fill_age(person) : \n",
    "    if np.isnan(person['Age']) : # 꺼내온 정보에서 Age 컬럼이 결측치 0 \n",
    "        return age_table.loc[person['Pclass'], person['Sex']]['Age']\n",
    "        # 결측치라면 age_table의 객실등급과 성별을 확인하고 age 값을 적음\n",
    "    else : # Age 컬럼이 결측치가 아님\n",
    "        return person['Age'] #가지고 있는 값 사용 "
   ]
  },
  {
   "cell_type": "code",
   "execution_count": 16,
   "id": "89aa3ed2",
   "metadata": {
    "ExecuteTime": {
     "end_time": "2023-08-30T01:58:33.241827Z",
     "start_time": "2023-08-30T01:58:33.228553Z"
    }
   },
   "outputs": [
    {
     "data": {
      "text/plain": [
       "25.0"
      ]
     },
     "execution_count": 16,
     "metadata": {},
     "output_type": "execute_result"
    }
   ],
   "source": [
    "# 2. 사용자 승객의 정보를 확인하고 함수 적용 ==> apply()\n",
    "# apply() : 행과 열단위의 복잡한 계산을 할 때 사용하는 함수 \n",
    "age_table.loc[3, 'male']['Age']"
   ]
  },
  {
   "cell_type": "code",
   "execution_count": 17,
   "id": "15915583",
   "metadata": {
    "ExecuteTime": {
     "end_time": "2023-08-30T01:58:33.287586Z",
     "start_time": "2023-08-30T01:58:33.242824Z"
    }
   },
   "outputs": [
    {
     "data": {
      "text/plain": [
       "0      22.0\n",
       "1      38.0\n",
       "2      26.0\n",
       "3      35.0\n",
       "4      35.0\n",
       "       ... \n",
       "886    27.0\n",
       "887    19.0\n",
       "888    21.5\n",
       "889    26.0\n",
       "890    32.0\n",
       "Length: 891, dtype: float64"
      ]
     },
     "execution_count": 17,
     "metadata": {},
     "output_type": "execute_result"
    }
   ],
   "source": [
    "age_table.loc[3, 'male']['Age']\n",
    "train.apply(fill_age, axis = 1)"
   ]
  },
  {
   "cell_type": "code",
   "execution_count": 18,
   "id": "5516a6e8",
   "metadata": {
    "ExecuteTime": {
     "end_time": "2023-08-30T01:58:33.349787Z",
     "start_time": "2023-08-30T01:58:33.288587Z"
    }
   },
   "outputs": [],
   "source": [
    "train['Age'] = train.apply(fill_age , axis =1 )\n",
    "test['Age'] = test.apply(fill_age, axis= 1)"
   ]
  },
  {
   "cell_type": "code",
   "execution_count": 19,
   "id": "1d1d6595",
   "metadata": {
    "ExecuteTime": {
     "end_time": "2023-08-30T01:58:33.365493Z",
     "start_time": "2023-08-30T01:58:33.351782Z"
    }
   },
   "outputs": [
    {
     "name": "stdout",
     "output_type": "stream",
     "text": [
      "<class 'pandas.core.frame.DataFrame'>\n",
      "RangeIndex: 891 entries, 0 to 890\n",
      "Data columns (total 12 columns):\n",
      " #   Column       Non-Null Count  Dtype  \n",
      "---  ------       --------------  -----  \n",
      " 0   PassengerId  891 non-null    int64  \n",
      " 1   Survived     891 non-null    int64  \n",
      " 2   Pclass       891 non-null    int64  \n",
      " 3   Name         891 non-null    object \n",
      " 4   Sex          891 non-null    object \n",
      " 5   Age          891 non-null    float64\n",
      " 6   SibSp        891 non-null    int64  \n",
      " 7   Parch        891 non-null    int64  \n",
      " 8   Ticket       891 non-null    object \n",
      " 9   Fare         891 non-null    float64\n",
      " 10  Cabin        204 non-null    object \n",
      " 11  Embarked     891 non-null    object \n",
      "dtypes: float64(2), int64(5), object(5)\n",
      "memory usage: 83.7+ KB\n"
     ]
    }
   ],
   "source": [
    "train.info()"
   ]
  },
  {
   "cell_type": "markdown",
   "id": "e10d56eb",
   "metadata": {},
   "source": [
    "#### Cabin 결측치 채우기"
   ]
  },
  {
   "cell_type": "code",
   "execution_count": 20,
   "id": "3f936710",
   "metadata": {
    "ExecuteTime": {
     "end_time": "2023-08-30T01:58:33.380865Z",
     "start_time": "2023-08-30T01:58:33.367520Z"
    }
   },
   "outputs": [
    {
     "data": {
      "text/plain": [
       "array([nan, 'C85', 'C123', 'E46', 'G6', 'C103', 'D56', 'A6',\n",
       "       'C23 C25 C27', 'B78', 'D33', 'B30', 'C52', 'B28', 'C83', 'F33',\n",
       "       'F G73', 'E31', 'A5', 'D10 D12', 'D26', 'C110', 'B58 B60', 'E101',\n",
       "       'F E69', 'D47', 'B86', 'F2', 'C2', 'E33', 'B19', 'A7', 'C49', 'F4',\n",
       "       'A32', 'B4', 'B80', 'A31', 'D36', 'D15', 'C93', 'C78', 'D35',\n",
       "       'C87', 'B77', 'E67', 'B94', 'C125', 'C99', 'C118', 'D7', 'A19',\n",
       "       'B49', 'D', 'C22 C26', 'C106', 'C65', 'E36', 'C54',\n",
       "       'B57 B59 B63 B66', 'C7', 'E34', 'C32', 'B18', 'C124', 'C91', 'E40',\n",
       "       'T', 'C128', 'D37', 'B35', 'E50', 'C82', 'B96 B98', 'E10', 'E44',\n",
       "       'A34', 'C104', 'C111', 'C92', 'E38', 'D21', 'E12', 'E63', 'A14',\n",
       "       'B37', 'C30', 'D20', 'B79', 'E25', 'D46', 'B73', 'C95', 'B38',\n",
       "       'B39', 'B22', 'C86', 'C70', 'A16', 'C101', 'C68', 'A10', 'E68',\n",
       "       'B41', 'A20', 'D19', 'D50', 'D9', 'A23', 'B50', 'A26', 'D48',\n",
       "       'E58', 'C126', 'B71', 'B51 B53 B55', 'D49', 'B5', 'B20', 'F G63',\n",
       "       'C62 C64', 'E24', 'C90', 'C45', 'E8', 'B101', 'D45', 'C46', 'D30',\n",
       "       'E121', 'D11', 'E77', 'F38', 'B3', 'D6', 'B82 B84', 'D17', 'A36',\n",
       "       'B102', 'B69', 'E49', 'C47', 'D28', 'E17', 'A24', 'C50', 'B42',\n",
       "       'C148'], dtype=object)"
      ]
     },
     "execution_count": 20,
     "metadata": {},
     "output_type": "execute_result"
    }
   ],
   "source": [
    "train['Cabin'].unique()\n",
    "\n",
    "# 앞 - 알파벳 : 타이타닉 호의 구역\n",
    "# 뒤 - 숫자 : 방번호\n",
    "# 데이터의 종류가 너무 많아서 규칙으로 만들기 부적합 "
   ]
  },
  {
   "cell_type": "code",
   "execution_count": 21,
   "id": "64b232d9",
   "metadata": {
    "ExecuteTime": {
     "end_time": "2023-08-30T01:58:33.396466Z",
     "start_time": "2023-08-30T01:58:33.382861Z"
    }
   },
   "outputs": [],
   "source": [
    "# 앞에있는 알파벳만을 사용해서 공통 특성으로 그룹화 문자열 인덱싱 사용 \n",
    "train['Cabin']= train['Cabin'].str[0]\n",
    "test['Cabin']= test['Cabin'].str[0]"
   ]
  },
  {
   "cell_type": "code",
   "execution_count": 22,
   "id": "b97b01a9",
   "metadata": {
    "ExecuteTime": {
     "end_time": "2023-08-30T01:58:33.412576Z",
     "start_time": "2023-08-30T01:58:33.398463Z"
    }
   },
   "outputs": [
    {
     "data": {
      "text/plain": [
       "array([nan, 'C', 'E', 'G', 'D', 'A', 'B', 'F', 'T'], dtype=object)"
      ]
     },
     "execution_count": 22,
     "metadata": {},
     "output_type": "execute_result"
    }
   ],
   "source": [
    "train['Cabin'].unique()"
   ]
  },
  {
   "cell_type": "code",
   "execution_count": 23,
   "id": "b7639914",
   "metadata": {
    "ExecuteTime": {
     "end_time": "2023-08-30T01:58:33.428409Z",
     "start_time": "2023-08-30T01:58:33.414082Z"
    }
   },
   "outputs": [
    {
     "data": {
      "text/plain": [
       "C    59\n",
       "B    47\n",
       "D    33\n",
       "E    32\n",
       "A    15\n",
       "F    13\n",
       "G     4\n",
       "T     1\n",
       "Name: Cabin, dtype: int64"
      ]
     },
     "execution_count": 23,
     "metadata": {},
     "output_type": "execute_result"
    }
   ],
   "source": [
    "train['Cabin'].value_counts()"
   ]
  },
  {
   "cell_type": "code",
   "execution_count": 24,
   "id": "3b08de4b",
   "metadata": {
    "ExecuteTime": {
     "end_time": "2023-08-30T01:58:33.444132Z",
     "start_time": "2023-08-30T01:58:33.430403Z"
    }
   },
   "outputs": [],
   "source": [
    "# 원래 cabin의 값은 규칙에 큰 의미가 없고 결측치가 많으므로 행자체를 삭제할 수 있으나 이번에는 실습이기때문에 넣고 실습함.\n",
    "#Cabin : 결측치가 가장 많은 컬럼\n",
    " # 삭제하기 보다는 많은 결측치를 보존하는 방법을 사용\n",
    "\n",
    "#결측치를 하나의 데이터로 생각\n",
    "# 1. 사망자의 데이터\n",
    "# 2. 데이터를 받지못해서 \n",
    "# 3. NaN값을 제대로 활용해서 'n'이라는 값으로 채우기\n",
    "\n",
    "train['Cabin'].fillna('N', inplace=True)\n",
    "test['Cabin'].fillna('N', inplace= True)"
   ]
  },
  {
   "cell_type": "code",
   "execution_count": 25,
   "id": "cdb6c7c5",
   "metadata": {
    "ExecuteTime": {
     "end_time": "2023-08-30T01:58:33.459824Z",
     "start_time": "2023-08-30T01:58:33.446348Z"
    }
   },
   "outputs": [
    {
     "data": {
      "text/plain": [
       "N    687\n",
       "C     59\n",
       "B     47\n",
       "D     33\n",
       "E     32\n",
       "A     15\n",
       "F     13\n",
       "G      4\n",
       "T      1\n",
       "Name: Cabin, dtype: int64"
      ]
     },
     "execution_count": 25,
     "metadata": {},
     "output_type": "execute_result"
    }
   ],
   "source": [
    "train['Cabin'].value_counts()"
   ]
  },
  {
   "cell_type": "code",
   "execution_count": 26,
   "id": "f008d67c",
   "metadata": {
    "ExecuteTime": {
     "end_time": "2023-08-30T01:58:33.475393Z",
     "start_time": "2023-08-30T01:58:33.461818Z"
    }
   },
   "outputs": [
    {
     "name": "stdout",
     "output_type": "stream",
     "text": [
      "<class 'pandas.core.frame.DataFrame'>\n",
      "RangeIndex: 891 entries, 0 to 890\n",
      "Data columns (total 12 columns):\n",
      " #   Column       Non-Null Count  Dtype  \n",
      "---  ------       --------------  -----  \n",
      " 0   PassengerId  891 non-null    int64  \n",
      " 1   Survived     891 non-null    int64  \n",
      " 2   Pclass       891 non-null    int64  \n",
      " 3   Name         891 non-null    object \n",
      " 4   Sex          891 non-null    object \n",
      " 5   Age          891 non-null    float64\n",
      " 6   SibSp        891 non-null    int64  \n",
      " 7   Parch        891 non-null    int64  \n",
      " 8   Ticket       891 non-null    object \n",
      " 9   Fare         891 non-null    float64\n",
      " 10  Cabin        891 non-null    object \n",
      " 11  Embarked     891 non-null    object \n",
      "dtypes: float64(2), int64(5), object(5)\n",
      "memory usage: 83.7+ KB\n"
     ]
    }
   ],
   "source": [
    "train.info()"
   ]
  },
  {
   "cell_type": "markdown",
   "id": "cb94747c",
   "metadata": {},
   "source": [
    "#### Passengerld 삭제\n",
    "- 승객의 탑승번호는 생존여부와는 연관이 없으므로 필요없는 데이터"
   ]
  },
  {
   "cell_type": "code",
   "execution_count": 27,
   "id": "c2f1dcb3",
   "metadata": {
    "ExecuteTime": {
     "end_time": "2023-08-30T01:58:33.490442Z",
     "start_time": "2023-08-30T01:58:33.476876Z"
    }
   },
   "outputs": [],
   "source": [
    "# 행이나 열단위로 데이터를 삭제 : drop()\n",
    "# drop()은 별도로 확인하지 않고 바로 삭제되기 때문에 매우 조심해야함.\n",
    "train.drop('PassengerId', axis= 1, inplace = True)\n",
    "test.drop('PassengerId', axis= 1, inplace = True)"
   ]
  },
  {
   "cell_type": "code",
   "execution_count": 28,
   "id": "c336fa70",
   "metadata": {
    "ExecuteTime": {
     "end_time": "2023-08-30T01:58:33.505200Z",
     "start_time": "2023-08-30T01:58:33.492436Z"
    }
   },
   "outputs": [
    {
     "data": {
      "text/plain": [
       "((891, 11), (418, 10))"
      ]
     },
     "execution_count": 28,
     "metadata": {},
     "output_type": "execute_result"
    }
   ],
   "source": [
    "train.shape, test.shape"
   ]
  },
  {
   "cell_type": "code",
   "execution_count": 29,
   "id": "243ef1c5",
   "metadata": {
    "ExecuteTime": {
     "end_time": "2023-08-30T01:58:33.520328Z",
     "start_time": "2023-08-30T01:58:33.506385Z"
    }
   },
   "outputs": [
    {
     "name": "stdout",
     "output_type": "stream",
     "text": [
      "<class 'pandas.core.frame.DataFrame'>\n",
      "RangeIndex: 418 entries, 0 to 417\n",
      "Data columns (total 10 columns):\n",
      " #   Column    Non-Null Count  Dtype  \n",
      "---  ------    --------------  -----  \n",
      " 0   Pclass    418 non-null    int64  \n",
      " 1   Name      418 non-null    object \n",
      " 2   Sex       418 non-null    object \n",
      " 3   Age       418 non-null    float64\n",
      " 4   SibSp     418 non-null    int64  \n",
      " 5   Parch     418 non-null    int64  \n",
      " 6   Ticket    418 non-null    object \n",
      " 7   Fare      418 non-null    float64\n",
      " 8   Cabin     418 non-null    object \n",
      " 9   Embarked  418 non-null    object \n",
      "dtypes: float64(2), int64(3), object(5)\n",
      "memory usage: 32.8+ KB\n"
     ]
    }
   ],
   "source": [
    "test.info()"
   ]
  },
  {
   "cell_type": "markdown",
   "id": "02282398",
   "metadata": {},
   "source": [
    "### 탐색적 데이터 분석 (EDA \n",
    " - 그래프를 그림으로 확인하는 단계\n"
   ]
  },
  {
   "cell_type": "code",
   "execution_count": 30,
   "id": "96952d21",
   "metadata": {
    "ExecuteTime": {
     "end_time": "2023-08-30T01:58:33.536442Z",
     "start_time": "2023-08-30T01:58:33.521325Z"
    }
   },
   "outputs": [],
   "source": [
    "# 그래프를 쉽게 그려주느 라이브러리\n",
    "# !pip install seaborn"
   ]
  },
  {
   "cell_type": "code",
   "execution_count": 31,
   "id": "3b17c5c3",
   "metadata": {
    "ExecuteTime": {
     "end_time": "2023-08-30T01:58:34.449912Z",
     "start_time": "2023-08-30T01:58:33.537439Z"
    }
   },
   "outputs": [],
   "source": [
    "import seaborn as sns"
   ]
  },
  {
   "cell_type": "code",
   "execution_count": 32,
   "id": "8037c4a3",
   "metadata": {
    "ExecuteTime": {
     "end_time": "2023-08-30T01:58:34.464409Z",
     "start_time": "2023-08-30T01:58:34.450912Z"
    }
   },
   "outputs": [
    {
     "name": "stdout",
     "output_type": "stream",
     "text": [
      "<class 'pandas.core.frame.DataFrame'>\n",
      "RangeIndex: 891 entries, 0 to 890\n",
      "Data columns (total 11 columns):\n",
      " #   Column    Non-Null Count  Dtype  \n",
      "---  ------    --------------  -----  \n",
      " 0   Survived  891 non-null    int64  \n",
      " 1   Pclass    891 non-null    int64  \n",
      " 2   Name      891 non-null    object \n",
      " 3   Sex       891 non-null    object \n",
      " 4   Age       891 non-null    float64\n",
      " 5   SibSp     891 non-null    int64  \n",
      " 6   Parch     891 non-null    int64  \n",
      " 7   Ticket    891 non-null    object \n",
      " 8   Fare      891 non-null    float64\n",
      " 9   Cabin     891 non-null    object \n",
      " 10  Embarked  891 non-null    object \n",
      "dtypes: float64(2), int64(4), object(5)\n",
      "memory usage: 76.7+ KB\n"
     ]
    }
   ],
   "source": [
    "train.info()"
   ]
  },
  {
   "cell_type": "markdown",
   "id": "111b7d9c",
   "metadata": {
    "ExecuteTime": {
     "end_time": "2023-08-29T02:11:21.938005Z",
     "start_time": "2023-08-29T02:11:21.932496Z"
    }
   },
   "source": [
    "#### 범주형 데이터 \n",
    "- object 타입 \n",
    "- Name, Sex, Ticket, Embrked, Pclass\n",
    "- Name, Ticket은 값이 몇개 있는지 확인해서 차트로 보는게 별 의미가 없음. 삭제\n",
    "- bar 차트 사용"
   ]
  },
  {
   "cell_type": "code",
   "execution_count": 33,
   "id": "0e11976d",
   "metadata": {
    "ExecuteTime": {
     "end_time": "2023-08-30T01:58:34.480410Z",
     "start_time": "2023-08-30T01:58:34.465917Z"
    }
   },
   "outputs": [
    {
     "data": {
      "text/html": [
       "<div>\n",
       "<style scoped>\n",
       "    .dataframe tbody tr th:only-of-type {\n",
       "        vertical-align: middle;\n",
       "    }\n",
       "\n",
       "    .dataframe tbody tr th {\n",
       "        vertical-align: top;\n",
       "    }\n",
       "\n",
       "    .dataframe thead th {\n",
       "        text-align: right;\n",
       "    }\n",
       "</style>\n",
       "<table border=\"1\" class=\"dataframe\">\n",
       "  <thead>\n",
       "    <tr style=\"text-align: right;\">\n",
       "      <th></th>\n",
       "      <th>Survived</th>\n",
       "      <th>Pclass</th>\n",
       "      <th>Name</th>\n",
       "      <th>Sex</th>\n",
       "      <th>Age</th>\n",
       "      <th>SibSp</th>\n",
       "      <th>Parch</th>\n",
       "      <th>Ticket</th>\n",
       "      <th>Fare</th>\n",
       "      <th>Cabin</th>\n",
       "      <th>Embarked</th>\n",
       "    </tr>\n",
       "  </thead>\n",
       "  <tbody>\n",
       "    <tr>\n",
       "      <th>0</th>\n",
       "      <td>0</td>\n",
       "      <td>3</td>\n",
       "      <td>Braund, Mr. Owen Harris</td>\n",
       "      <td>male</td>\n",
       "      <td>22.0</td>\n",
       "      <td>1</td>\n",
       "      <td>0</td>\n",
       "      <td>A/5 21171</td>\n",
       "      <td>7.2500</td>\n",
       "      <td>N</td>\n",
       "      <td>S</td>\n",
       "    </tr>\n",
       "    <tr>\n",
       "      <th>1</th>\n",
       "      <td>1</td>\n",
       "      <td>1</td>\n",
       "      <td>Cumings, Mrs. John Bradley (Florence Briggs Th...</td>\n",
       "      <td>female</td>\n",
       "      <td>38.0</td>\n",
       "      <td>1</td>\n",
       "      <td>0</td>\n",
       "      <td>PC 17599</td>\n",
       "      <td>71.2833</td>\n",
       "      <td>C</td>\n",
       "      <td>C</td>\n",
       "    </tr>\n",
       "    <tr>\n",
       "      <th>2</th>\n",
       "      <td>1</td>\n",
       "      <td>3</td>\n",
       "      <td>Heikkinen, Miss. Laina</td>\n",
       "      <td>female</td>\n",
       "      <td>26.0</td>\n",
       "      <td>0</td>\n",
       "      <td>0</td>\n",
       "      <td>STON/O2. 3101282</td>\n",
       "      <td>7.9250</td>\n",
       "      <td>N</td>\n",
       "      <td>S</td>\n",
       "    </tr>\n",
       "    <tr>\n",
       "      <th>3</th>\n",
       "      <td>1</td>\n",
       "      <td>1</td>\n",
       "      <td>Futrelle, Mrs. Jacques Heath (Lily May Peel)</td>\n",
       "      <td>female</td>\n",
       "      <td>35.0</td>\n",
       "      <td>1</td>\n",
       "      <td>0</td>\n",
       "      <td>113803</td>\n",
       "      <td>53.1000</td>\n",
       "      <td>C</td>\n",
       "      <td>S</td>\n",
       "    </tr>\n",
       "    <tr>\n",
       "      <th>4</th>\n",
       "      <td>0</td>\n",
       "      <td>3</td>\n",
       "      <td>Allen, Mr. William Henry</td>\n",
       "      <td>male</td>\n",
       "      <td>35.0</td>\n",
       "      <td>0</td>\n",
       "      <td>0</td>\n",
       "      <td>373450</td>\n",
       "      <td>8.0500</td>\n",
       "      <td>N</td>\n",
       "      <td>S</td>\n",
       "    </tr>\n",
       "  </tbody>\n",
       "</table>\n",
       "</div>"
      ],
      "text/plain": [
       "   Survived  Pclass                                               Name  \\\n",
       "0         0       3                            Braund, Mr. Owen Harris   \n",
       "1         1       1  Cumings, Mrs. John Bradley (Florence Briggs Th...   \n",
       "2         1       3                             Heikkinen, Miss. Laina   \n",
       "3         1       1       Futrelle, Mrs. Jacques Heath (Lily May Peel)   \n",
       "4         0       3                           Allen, Mr. William Henry   \n",
       "\n",
       "      Sex   Age  SibSp  Parch            Ticket     Fare Cabin Embarked  \n",
       "0    male  22.0      1      0         A/5 21171   7.2500     N        S  \n",
       "1  female  38.0      1      0          PC 17599  71.2833     C        C  \n",
       "2  female  26.0      0      0  STON/O2. 3101282   7.9250     N        S  \n",
       "3  female  35.0      1      0            113803  53.1000     C        S  \n",
       "4    male  35.0      0      0            373450   8.0500     N        S  "
      ]
     },
     "execution_count": 33,
     "metadata": {},
     "output_type": "execute_result"
    }
   ],
   "source": [
    "train.head()"
   ]
  },
  {
   "cell_type": "markdown",
   "id": "6a64cc07",
   "metadata": {
    "ExecuteTime": {
     "end_time": "2023-08-29T02:16:37.725257Z",
     "start_time": "2023-08-29T02:16:37.708841Z"
    }
   },
   "source": [
    "#### Cabin 시각화"
   ]
  },
  {
   "cell_type": "code",
   "execution_count": 34,
   "id": "ad7d45d9",
   "metadata": {
    "ExecuteTime": {
     "end_time": "2023-08-30T01:58:34.715419Z",
     "start_time": "2023-08-30T01:58:34.482405Z"
    }
   },
   "outputs": [
    {
     "data": {
      "text/plain": [
       "<Axes: xlabel='Cabin', ylabel='count'>"
      ]
     },
     "execution_count": 34,
     "metadata": {},
     "output_type": "execute_result"
    },
    {
     "data": {
      "image/png": "[encoded data removed]",
      "text/plain": [
       "<Figure size 640x480 with 1 Axes>"
      ]
     },
     "metadata": {},
     "output_type": "display_data"
    }
   ],
   "source": [
    "sns.countplot(data=train, x='Cabin', hue='Survived')\n",
    "\n",
    "#  <Axes : xlabel='Cabin', ylabel = 'count'>를 삭제하고 싶다면\n",
    "# matplotlib.pyplot을 불러와서\n",
    "#plt.show()\n",
    "# 그래프 상에서 많은 정보를 보여주는 bar차트\n",
    "#값의 개수를 보여줌,\n",
    "#하나의 x축에 2개의 값이 존재\n",
    "# countplot : 값의 개수, y => 자동으로 카운트 \n",
    "# x : 객실의 구역 - Cabin\n",
    "# hue : x축에 명시된 컬럼에서 생존자/ 사망자 수 count, Survived(0따로 1따로 카운트)"
   ]
  },
  {
   "cell_type": "markdown",
   "id": "498fda21",
   "metadata": {},
   "source": [
    " - Cabin의 결측치를 N이라는 값으로 채운게 어느정도 의미가 있었음.\n",
    " - 상대적으로 N에서 많은 사라들이 사망했음"
   ]
  },
  {
   "cell_type": "markdown",
   "id": "6cea0317",
   "metadata": {},
   "source": [
    "#### Pclass 시각화"
   ]
  },
  {
   "cell_type": "code",
   "execution_count": 35,
   "id": "d6d33b55",
   "metadata": {
    "ExecuteTime": {
     "end_time": "2023-08-30T01:58:34.870389Z",
     "start_time": "2023-08-30T01:58:34.717287Z"
    }
   },
   "outputs": [
    {
     "data": {
      "text/plain": [
       "<Axes: xlabel='Pclass', ylabel='count'>"
      ]
     },
     "execution_count": 35,
     "metadata": {},
     "output_type": "execute_result"
    },
    {
     "data": {
      "image/png": "[encoded data removed]",
      "text/plain": [
       "<Figure size 640x480 with 1 Axes>"
      ]
     },
     "metadata": {},
     "output_type": "display_data"
    }
   ],
   "source": [
    "sns.countplot (data=train, x='Pclass',hue='Survived')"
   ]
  },
  {
   "cell_type": "markdown",
   "id": "1b230083",
   "metadata": {},
   "source": [
    "- 객실 등급이 높아질 수록 생존율이 올라감"
   ]
  },
  {
   "cell_type": "markdown",
   "id": "7a2ef346",
   "metadata": {},
   "source": [
    "#### 숫자형 데이터\n",
    "- int, float64 타입\n",
    "- 구간을 나눠서 데이터의 분포를 추정하는 자료 (연속적인 숫자)\n",
    "- suvived, Age, SibSp, parch, Fare\n",
    "- 히스토그램"
   ]
  },
  {
   "cell_type": "markdown",
   "id": "d9a4dd8f",
   "metadata": {
    "ExecuteTime": {
     "end_time": "2023-08-29T03:09:38.099647Z",
     "start_time": "2023-08-29T03:09:38.086508Z"
    }
   },
   "source": [
    "#### Sex,Age, Survived 시각화"
   ]
  },
  {
   "cell_type": "code",
   "execution_count": 36,
   "id": "ba85a412",
   "metadata": {
    "ExecuteTime": {
     "end_time": "2023-08-30T01:58:35.091461Z",
     "start_time": "2023-08-30T01:58:34.871354Z"
    }
   },
   "outputs": [
    {
     "data": {
      "text/plain": [
       "<Axes: xlabel='Sex', ylabel='Age'>"
      ]
     },
     "execution_count": 36,
     "metadata": {},
     "output_type": "execute_result"
    },
    {
     "data": {
      "image/png": "[encoded data removed]",
      "text/plain": [
       "<Figure size 640x480 with 1 Axes>"
      ]
     },
     "metadata": {},
     "output_type": "display_data"
    }
   ],
   "source": [
    "sns.violinplot(data=train, x='Sex', y='Age', hue='Survived', split=True)\n",
    "# split =  True : 생존/사망을 한번에 보여줌\n",
    "# 나이를 생존자와 사망자의 비율을 성별로 나타내준 히스토그램"
   ]
  },
  {
   "cell_type": "markdown",
   "id": "1137e694",
   "metadata": {},
   "source": [
    "- 20-40대 사이가 많이 사망했음.\n",
    "- 어린아이 중에서는 남자아이가 여자아이에 비해 많이 생존했음.\n",
    "- 고령층에서는 여성이 남성에 비해 상대적으로 많이 생존했음."
   ]
  },
  {
   "cell_type": "markdown",
   "id": "78fb9cac",
   "metadata": {
    "ExecuteTime": {
     "end_time": "2023-08-29T03:18:48.416755Z",
     "start_time": "2023-08-29T03:18:48.408208Z"
    }
   },
   "source": [
    "#### Fare,Sex,Survived 시각화"
   ]
  },
  {
   "cell_type": "code",
   "execution_count": 37,
   "id": "35418bd3",
   "metadata": {
    "ExecuteTime": {
     "end_time": "2023-08-30T01:58:35.305922Z",
     "start_time": "2023-08-30T01:58:35.093527Z"
    }
   },
   "outputs": [
    {
     "data": {
      "text/plain": [
       "<Axes: xlabel='Sex', ylabel='Fare'>"
      ]
     },
     "execution_count": 37,
     "metadata": {},
     "output_type": "execute_result"
    },
    {
     "data": {
      "image/png": "[encoded data removed]",
      "text/plain": [
       "<Figure size 640x480 with 1 Axes>"
      ]
     },
     "metadata": {},
     "output_type": "display_data"
    }
   ],
   "source": [
    "sns.violinplot(data=train, x='Sex', y='Fare', hue='Survived', split=True)"
   ]
  },
  {
   "cell_type": "markdown",
   "id": "e0847c5b",
   "metadata": {},
   "source": [
    "- 요금이 싼 사람이 상대적으로 많이 사망햇음\n",
    "- violinplot에서 Fare처럼 연속적인 수치값으로 이루어진 데이터를 표현.\n",
    "- 각 값의 개수를 세는 것 보다는 연속적인 부분을 확인하며 \n",
    "- 정보를 얻는 방법. 수치형 데이터를 시각화 하는 방법"
   ]
  },
  {
   "cell_type": "markdown",
   "id": "af29e7c6",
   "metadata": {
    "ExecuteTime": {
     "end_time": "2023-08-29T02:36:31.492600Z",
     "start_time": "2023-08-29T02:36:31.476826Z"
    }
   },
   "source": [
    "#### Cabin과 Pclasss 시각화"
   ]
  },
  {
   "cell_type": "code",
   "execution_count": 38,
   "id": "7b378bf6",
   "metadata": {
    "ExecuteTime": {
     "end_time": "2023-08-30T01:58:35.524208Z",
     "start_time": "2023-08-30T01:58:35.308011Z"
    }
   },
   "outputs": [
    {
     "data": {
      "text/plain": [
       "<Axes: xlabel='Cabin', ylabel='count'>"
      ]
     },
     "execution_count": 38,
     "metadata": {},
     "output_type": "execute_result"
    },
    {
     "data": {
      "image/png": "[encoded data removed]",
      "text/plain": [
       "<Figure size 640x480 with 1 Axes>"
      ]
     },
     "metadata": {},
     "output_type": "display_data"
    }
   ],
   "source": [
    "sns.countplot(data=train, x='Cabin', hue = 'Pclass') #x축 : 객실의 구역 y축 : 객실 등급 카운트"
   ]
  },
  {
   "cell_type": "markdown",
   "id": "70aae2c3",
   "metadata": {},
   "source": [
    "- N구역의 사람들은 3등 객실의 사람들이 많았기 때문에 사망률도 높았음.\n",
    "- A,B,C,D,E 구역은 1등 객실의 사람들이 많았음 -> 생존율도 상대적으로 높았다.\n",
    "- 가장 결측치가 많았던 N구역의 사람들이 가장 많았음.\n",
    "- 그 중 3등급의 객실의 사람이 가장 많았음."
   ]
  },
  {
   "cell_type": "markdown",
   "id": "e0c38f40",
   "metadata": {
    "ExecuteTime": {
     "end_time": "2023-08-29T02:43:58.254990Z",
     "start_time": "2023-08-29T02:43:58.240916Z"
    }
   },
   "source": [
    "#### 성별로 생존/사망비율 확인"
   ]
  },
  {
   "cell_type": "code",
   "execution_count": 39,
   "id": "48851b3c",
   "metadata": {
    "ExecuteTime": {
     "end_time": "2023-08-30T01:58:35.664432Z",
     "start_time": "2023-08-30T01:58:35.525208Z"
    }
   },
   "outputs": [
    {
     "data": {
      "text/plain": [
       "<Axes: xlabel='Sex', ylabel='count'>"
      ]
     },
     "execution_count": 39,
     "metadata": {},
     "output_type": "execute_result"
    },
    {
     "data": {
      "image/png": "[encoded data removed]",
      "text/plain": [
       "<Figure size 640x480 with 1 Axes>"
      ]
     },
     "metadata": {},
     "output_type": "display_data"
    }
   ],
   "source": [
    "sns.countplot(data=train, x='Sex', hue = 'Survived')"
   ]
  },
  {
   "cell_type": "markdown",
   "id": "fc9a37ed",
   "metadata": {},
   "source": [
    "- 남성은 사망비율이 높고, 여성은 생존비율이 높음"
   ]
  },
  {
   "cell_type": "markdown",
   "id": "c651437f",
   "metadata": {},
   "source": [
    "#### Embarked와 Pclass 시각화"
   ]
  },
  {
   "cell_type": "code",
   "execution_count": 40,
   "id": "13c05479",
   "metadata": {
    "ExecuteTime": {
     "end_time": "2023-08-30T01:58:35.835738Z",
     "start_time": "2023-08-30T01:58:35.666445Z"
    },
    "scrolled": true
   },
   "outputs": [
    {
     "data": {
      "text/plain": [
       "<Axes: xlabel='Embarked', ylabel='count'>"
      ]
     },
     "execution_count": 40,
     "metadata": {},
     "output_type": "execute_result"
    },
    {
     "data": {
      "image/png": "[encoded data removed]",
      "text/plain": [
       "<Figure size 640x480 with 1 Axes>"
      ]
     },
     "metadata": {},
     "output_type": "display_data"
    }
   ],
   "source": [
    "sns.countplot(data=train, x='Embarked', hue = 'Pclass')"
   ]
  },
  {
   "cell_type": "markdown",
   "id": "b15fa427",
   "metadata": {},
   "source": [
    "- Q라는 도시는 3등 객실의 탑승객이 많은 것을 보면 S,C에 비해 좀 낙후된 도시가 아닐까? 라는 생각\n",
    "- 각 항구에 따른 객실들의 연관성을 생각해볼 필요가 있음.\n",
    "- countplot()은 숫자형 자료보다는 범주형 데이터에서 더 유용한 함수(자료의 유형별로 카운트해서 보기 쉽게 시각화해주기 때문)"
   ]
  },
  {
   "cell_type": "markdown",
   "id": "a020f615",
   "metadata": {
    "ExecuteTime": {
     "end_time": "2023-08-29T03:33:38.822654Z",
     "start_time": "2023-08-29T03:33:38.811168Z"
    }
   },
   "source": [
    "#### 특성공학\n",
    "- 가지고 있는 특성을 기반으로 새로운 특성을 만드는 것\n",
    "- SibSp, Parch을 더해서 가족의 숫자라는 새로운 컬럼을 생성 ==> 가족의 수 특성 만들기"
   ]
  },
  {
   "cell_type": "markdown",
   "id": "432c9fa2",
   "metadata": {
    "ExecuteTime": {
     "end_time": "2023-08-29T03:33:49.160217Z",
     "start_time": "2023-08-29T03:33:49.145924Z"
    }
   },
   "source": [
    "#### 가족의 수 특성 만들기\n",
    "- SibSp(형제자매, 배우자 수) + Parch(부모. 자식의 수) + 1(본인) => Family_size(가족의 수)"
   ]
  },
  {
   "cell_type": "code",
   "execution_count": 41,
   "id": "55d51385",
   "metadata": {
    "ExecuteTime": {
     "end_time": "2023-08-30T01:58:35.850703Z",
     "start_time": "2023-08-30T01:58:35.843297Z"
    }
   },
   "outputs": [],
   "source": [
    "# 가지고 있는 특성이라면 값이 수정, 없다면 새로운 특성이 생성\n",
    "train['Family_size'] = train['SibSp']+train['Parch']+1\n",
    "test['Family_size'] = train['SibSp']+train['Parch']+1"
   ]
  },
  {
   "cell_type": "code",
   "execution_count": 42,
   "id": "852736c7",
   "metadata": {
    "ExecuteTime": {
     "end_time": "2023-08-30T01:58:35.865427Z",
     "start_time": "2023-08-30T01:58:35.852697Z"
    }
   },
   "outputs": [
    {
     "data": {
      "text/html": [
       "<div>\n",
       "<style scoped>\n",
       "    .dataframe tbody tr th:only-of-type {\n",
       "        vertical-align: middle;\n",
       "    }\n",
       "\n",
       "    .dataframe tbody tr th {\n",
       "        vertical-align: top;\n",
       "    }\n",
       "\n",
       "    .dataframe thead th {\n",
       "        text-align: right;\n",
       "    }\n",
       "</style>\n",
       "<table border=\"1\" class=\"dataframe\">\n",
       "  <thead>\n",
       "    <tr style=\"text-align: right;\">\n",
       "      <th></th>\n",
       "      <th>Survived</th>\n",
       "      <th>Pclass</th>\n",
       "      <th>Name</th>\n",
       "      <th>Sex</th>\n",
       "      <th>Age</th>\n",
       "      <th>SibSp</th>\n",
       "      <th>Parch</th>\n",
       "      <th>Ticket</th>\n",
       "      <th>Fare</th>\n",
       "      <th>Cabin</th>\n",
       "      <th>Embarked</th>\n",
       "      <th>Family_size</th>\n",
       "    </tr>\n",
       "  </thead>\n",
       "  <tbody>\n",
       "    <tr>\n",
       "      <th>0</th>\n",
       "      <td>0</td>\n",
       "      <td>3</td>\n",
       "      <td>Braund, Mr. Owen Harris</td>\n",
       "      <td>male</td>\n",
       "      <td>22.0</td>\n",
       "      <td>1</td>\n",
       "      <td>0</td>\n",
       "      <td>A/5 21171</td>\n",
       "      <td>7.2500</td>\n",
       "      <td>N</td>\n",
       "      <td>S</td>\n",
       "      <td>2</td>\n",
       "    </tr>\n",
       "    <tr>\n",
       "      <th>1</th>\n",
       "      <td>1</td>\n",
       "      <td>1</td>\n",
       "      <td>Cumings, Mrs. John Bradley (Florence Briggs Th...</td>\n",
       "      <td>female</td>\n",
       "      <td>38.0</td>\n",
       "      <td>1</td>\n",
       "      <td>0</td>\n",
       "      <td>PC 17599</td>\n",
       "      <td>71.2833</td>\n",
       "      <td>C</td>\n",
       "      <td>C</td>\n",
       "      <td>2</td>\n",
       "    </tr>\n",
       "    <tr>\n",
       "      <th>2</th>\n",
       "      <td>1</td>\n",
       "      <td>3</td>\n",
       "      <td>Heikkinen, Miss. Laina</td>\n",
       "      <td>female</td>\n",
       "      <td>26.0</td>\n",
       "      <td>0</td>\n",
       "      <td>0</td>\n",
       "      <td>STON/O2. 3101282</td>\n",
       "      <td>7.9250</td>\n",
       "      <td>N</td>\n",
       "      <td>S</td>\n",
       "      <td>1</td>\n",
       "    </tr>\n",
       "    <tr>\n",
       "      <th>3</th>\n",
       "      <td>1</td>\n",
       "      <td>1</td>\n",
       "      <td>Futrelle, Mrs. Jacques Heath (Lily May Peel)</td>\n",
       "      <td>female</td>\n",
       "      <td>35.0</td>\n",
       "      <td>1</td>\n",
       "      <td>0</td>\n",
       "      <td>113803</td>\n",
       "      <td>53.1000</td>\n",
       "      <td>C</td>\n",
       "      <td>S</td>\n",
       "      <td>2</td>\n",
       "    </tr>\n",
       "    <tr>\n",
       "      <th>4</th>\n",
       "      <td>0</td>\n",
       "      <td>3</td>\n",
       "      <td>Allen, Mr. William Henry</td>\n",
       "      <td>male</td>\n",
       "      <td>35.0</td>\n",
       "      <td>0</td>\n",
       "      <td>0</td>\n",
       "      <td>373450</td>\n",
       "      <td>8.0500</td>\n",
       "      <td>N</td>\n",
       "      <td>S</td>\n",
       "      <td>1</td>\n",
       "    </tr>\n",
       "  </tbody>\n",
       "</table>\n",
       "</div>"
      ],
      "text/plain": [
       "   Survived  Pclass                                               Name  \\\n",
       "0         0       3                            Braund, Mr. Owen Harris   \n",
       "1         1       1  Cumings, Mrs. John Bradley (Florence Briggs Th...   \n",
       "2         1       3                             Heikkinen, Miss. Laina   \n",
       "3         1       1       Futrelle, Mrs. Jacques Heath (Lily May Peel)   \n",
       "4         0       3                           Allen, Mr. William Henry   \n",
       "\n",
       "      Sex   Age  SibSp  Parch            Ticket     Fare Cabin Embarked  \\\n",
       "0    male  22.0      1      0         A/5 21171   7.2500     N        S   \n",
       "1  female  38.0      1      0          PC 17599  71.2833     C        C   \n",
       "2  female  26.0      0      0  STON/O2. 3101282   7.9250     N        S   \n",
       "3  female  35.0      1      0            113803  53.1000     C        S   \n",
       "4    male  35.0      0      0            373450   8.0500     N        S   \n",
       "\n",
       "   Family_size  \n",
       "0            2  \n",
       "1            2  \n",
       "2            1  \n",
       "3            2  \n",
       "4            1  "
      ]
     },
     "execution_count": 42,
     "metadata": {},
     "output_type": "execute_result"
    }
   ],
   "source": [
    "train.head() #추가된 특성 확인"
   ]
  },
  {
   "cell_type": "code",
   "execution_count": 43,
   "id": "d9149f7b",
   "metadata": {
    "ExecuteTime": {
     "end_time": "2023-08-30T01:58:36.082048Z",
     "start_time": "2023-08-30T01:58:35.867436Z"
    }
   },
   "outputs": [
    {
     "data": {
      "text/plain": [
       "<Axes: xlabel='Family_size', ylabel='count'>"
      ]
     },
     "execution_count": 43,
     "metadata": {},
     "output_type": "execute_result"
    },
    {
     "data": {
      "image/png": "[encoded data removed]",
      "text/plain": [
       "<Figure size 640x480 with 1 Axes>"
      ]
     },
     "metadata": {},
     "output_type": "display_data"
    }
   ],
   "source": [
    "sns.countplot(data=train, x='Family_size', hue='Survived')"
   ]
  },
  {
   "cell_type": "markdown",
   "id": "347c5654",
   "metadata": {
    "ExecuteTime": {
     "end_time": "2023-08-29T03:43:25.503373Z",
     "start_time": "2023-08-29T03:43:25.493859Z"
    }
   },
   "source": [
    "- 전체 데이터가 3개의 구간으로 나위어져 있음을 확인\n",
    "- 가족의 수를 특징별로 묶어서 범주형으로 변환 예정\n",
    "- 1 : 사망율이 높은 비율 - Alone\n",
    "- 2 ~ 4 : 생존이 높은 비율 - Small\n",
    "- 5 ~ 11 : 사망이 높은 비율 - Large\n",
    "- 구간별로 구분된 수치형 데이터를 문자형 데이터(범주형으로 변경) -vining"
   ]
  },
  {
   "cell_type": "code",
   "execution_count": 44,
   "id": "95c2befe",
   "metadata": {
    "ExecuteTime": {
     "end_time": "2023-08-30T01:58:36.097888Z",
     "start_time": "2023-08-30T01:58:36.088951Z"
    }
   },
   "outputs": [],
   "source": [
    "#pd.cut() : 구간별로 데이터의 이름을 붙여주는 함수\n",
    "#필요한 정보\n",
    "#1.구간에 대한 정보 : bins\n",
    "#2. 구간에 대한 범주(라벨) 이름 : labels\n",
    "\n",
    "bins = [0,1,4,11] # 0초과 ~ 1이하 , 1초과 ~ 4이하, 4초과 ~ 11이하\n",
    "labels = ['Alone', 'Small', 'Large']"
   ]
  },
  {
   "cell_type": "code",
   "execution_count": 45,
   "id": "1ea1d0d8",
   "metadata": {
    "ExecuteTime": {
     "end_time": "2023-08-30T01:58:36.113381Z",
     "start_time": "2023-08-30T01:58:36.100884Z"
    }
   },
   "outputs": [
    {
     "data": {
      "text/plain": [
       "0    2\n",
       "1    2\n",
       "2    1\n",
       "3    2\n",
       "4    1\n",
       "Name: Family_size, dtype: int64"
      ]
     },
     "execution_count": 45,
     "metadata": {},
     "output_type": "execute_result"
    }
   ],
   "source": [
    "train['Family_size'].head()"
   ]
  },
  {
   "cell_type": "code",
   "execution_count": 46,
   "id": "01ffd4b8",
   "metadata": {
    "ExecuteTime": {
     "end_time": "2023-08-30T01:58:36.129133Z",
     "start_time": "2023-08-30T01:58:36.114379Z"
    },
    "scrolled": true
   },
   "outputs": [
    {
     "data": {
      "text/plain": [
       "0      Small\n",
       "1      Small\n",
       "2      Alone\n",
       "3      Small\n",
       "4      Alone\n",
       "       ...  \n",
       "886    Alone\n",
       "887    Alone\n",
       "888    Small\n",
       "889    Alone\n",
       "890    Alone\n",
       "Name: Family_size, Length: 891, dtype: category\n",
       "Categories (3, object): ['Alone' < 'Small' < 'Large']"
      ]
     },
     "execution_count": 46,
     "metadata": {},
     "output_type": "execute_result"
    }
   ],
   "source": [
    "pd.cut(train['Family_size'], bins=bins, labels=labels)"
   ]
  },
  {
   "cell_type": "code",
   "execution_count": 47,
   "id": "fa8c1111",
   "metadata": {
    "ExecuteTime": {
     "end_time": "2023-08-30T01:58:36.144389Z",
     "start_time": "2023-08-30T01:58:36.131127Z"
    }
   },
   "outputs": [],
   "source": [
    "# train['Family_size'] = pd.cut(train['Family_size'], bins=bins, labels= labels)\n",
    "# test['Family_size'] = pd.cut(test['Family_size'], bins=bins, labels=labels)"
   ]
  },
  {
   "cell_type": "code",
   "execution_count": 48,
   "id": "ad194fb3",
   "metadata": {
    "ExecuteTime": {
     "end_time": "2023-08-30T01:58:36.159270Z",
     "start_time": "2023-08-30T01:58:36.145433Z"
    }
   },
   "outputs": [],
   "source": [
    "train['Family_group'] = pd.cut(train['Family_size'], bins=bins, labels= labels)\n",
    "test['Family_group'] = pd.cut(test['Family_size'], bins=bins, labels= labels)"
   ]
  },
  {
   "cell_type": "code",
   "execution_count": 49,
   "id": "b3135ccf",
   "metadata": {
    "ExecuteTime": {
     "end_time": "2023-08-30T01:58:36.175348Z",
     "start_time": "2023-08-30T01:58:36.161260Z"
    }
   },
   "outputs": [
    {
     "data": {
      "text/html": [
       "<div>\n",
       "<style scoped>\n",
       "    .dataframe tbody tr th:only-of-type {\n",
       "        vertical-align: middle;\n",
       "    }\n",
       "\n",
       "    .dataframe tbody tr th {\n",
       "        vertical-align: top;\n",
       "    }\n",
       "\n",
       "    .dataframe thead th {\n",
       "        text-align: right;\n",
       "    }\n",
       "</style>\n",
       "<table border=\"1\" class=\"dataframe\">\n",
       "  <thead>\n",
       "    <tr style=\"text-align: right;\">\n",
       "      <th></th>\n",
       "      <th>Survived</th>\n",
       "      <th>Pclass</th>\n",
       "      <th>Name</th>\n",
       "      <th>Sex</th>\n",
       "      <th>Age</th>\n",
       "      <th>SibSp</th>\n",
       "      <th>Parch</th>\n",
       "      <th>Ticket</th>\n",
       "      <th>Fare</th>\n",
       "      <th>Cabin</th>\n",
       "      <th>Embarked</th>\n",
       "      <th>Family_size</th>\n",
       "      <th>Family_group</th>\n",
       "    </tr>\n",
       "  </thead>\n",
       "  <tbody>\n",
       "    <tr>\n",
       "      <th>0</th>\n",
       "      <td>0</td>\n",
       "      <td>3</td>\n",
       "      <td>Braund, Mr. Owen Harris</td>\n",
       "      <td>male</td>\n",
       "      <td>22.0</td>\n",
       "      <td>1</td>\n",
       "      <td>0</td>\n",
       "      <td>A/5 21171</td>\n",
       "      <td>7.2500</td>\n",
       "      <td>N</td>\n",
       "      <td>S</td>\n",
       "      <td>2</td>\n",
       "      <td>Small</td>\n",
       "    </tr>\n",
       "    <tr>\n",
       "      <th>1</th>\n",
       "      <td>1</td>\n",
       "      <td>1</td>\n",
       "      <td>Cumings, Mrs. John Bradley (Florence Briggs Th...</td>\n",
       "      <td>female</td>\n",
       "      <td>38.0</td>\n",
       "      <td>1</td>\n",
       "      <td>0</td>\n",
       "      <td>PC 17599</td>\n",
       "      <td>71.2833</td>\n",
       "      <td>C</td>\n",
       "      <td>C</td>\n",
       "      <td>2</td>\n",
       "      <td>Small</td>\n",
       "    </tr>\n",
       "    <tr>\n",
       "      <th>2</th>\n",
       "      <td>1</td>\n",
       "      <td>3</td>\n",
       "      <td>Heikkinen, Miss. Laina</td>\n",
       "      <td>female</td>\n",
       "      <td>26.0</td>\n",
       "      <td>0</td>\n",
       "      <td>0</td>\n",
       "      <td>STON/O2. 3101282</td>\n",
       "      <td>7.9250</td>\n",
       "      <td>N</td>\n",
       "      <td>S</td>\n",
       "      <td>1</td>\n",
       "      <td>Alone</td>\n",
       "    </tr>\n",
       "    <tr>\n",
       "      <th>3</th>\n",
       "      <td>1</td>\n",
       "      <td>1</td>\n",
       "      <td>Futrelle, Mrs. Jacques Heath (Lily May Peel)</td>\n",
       "      <td>female</td>\n",
       "      <td>35.0</td>\n",
       "      <td>1</td>\n",
       "      <td>0</td>\n",
       "      <td>113803</td>\n",
       "      <td>53.1000</td>\n",
       "      <td>C</td>\n",
       "      <td>S</td>\n",
       "      <td>2</td>\n",
       "      <td>Small</td>\n",
       "    </tr>\n",
       "    <tr>\n",
       "      <th>4</th>\n",
       "      <td>0</td>\n",
       "      <td>3</td>\n",
       "      <td>Allen, Mr. William Henry</td>\n",
       "      <td>male</td>\n",
       "      <td>35.0</td>\n",
       "      <td>0</td>\n",
       "      <td>0</td>\n",
       "      <td>373450</td>\n",
       "      <td>8.0500</td>\n",
       "      <td>N</td>\n",
       "      <td>S</td>\n",
       "      <td>1</td>\n",
       "      <td>Alone</td>\n",
       "    </tr>\n",
       "  </tbody>\n",
       "</table>\n",
       "</div>"
      ],
      "text/plain": [
       "   Survived  Pclass                                               Name  \\\n",
       "0         0       3                            Braund, Mr. Owen Harris   \n",
       "1         1       1  Cumings, Mrs. John Bradley (Florence Briggs Th...   \n",
       "2         1       3                             Heikkinen, Miss. Laina   \n",
       "3         1       1       Futrelle, Mrs. Jacques Heath (Lily May Peel)   \n",
       "4         0       3                           Allen, Mr. William Henry   \n",
       "\n",
       "      Sex   Age  SibSp  Parch            Ticket     Fare Cabin Embarked  \\\n",
       "0    male  22.0      1      0         A/5 21171   7.2500     N        S   \n",
       "1  female  38.0      1      0          PC 17599  71.2833     C        C   \n",
       "2  female  26.0      0      0  STON/O2. 3101282   7.9250     N        S   \n",
       "3  female  35.0      1      0            113803  53.1000     C        S   \n",
       "4    male  35.0      0      0            373450   8.0500     N        S   \n",
       "\n",
       "   Family_size Family_group  \n",
       "0            2        Small  \n",
       "1            2        Small  \n",
       "2            1        Alone  \n",
       "3            2        Small  \n",
       "4            1        Alone  "
      ]
     },
     "execution_count": 49,
     "metadata": {},
     "output_type": "execute_result"
    }
   ],
   "source": [
    "train.head()"
   ]
  },
  {
   "cell_type": "markdown",
   "id": "c0f6f4e1",
   "metadata": {},
   "source": [
    "#### Family_group 그룹화"
   ]
  },
  {
   "cell_type": "code",
   "execution_count": 50,
   "id": "0be3fac6",
   "metadata": {
    "ExecuteTime": {
     "end_time": "2023-08-30T01:58:36.332007Z",
     "start_time": "2023-08-30T01:58:36.177345Z"
    }
   },
   "outputs": [
    {
     "data": {
      "text/plain": [
       "<Axes: xlabel='Family_group', ylabel='count'>"
      ]
     },
     "execution_count": 50,
     "metadata": {},
     "output_type": "execute_result"
    },
    {
     "data": {
      "image/png": "[encoded data removed]",
      "text/plain": [
       "<Figure size 640x480 with 1 Axes>"
      ]
     },
     "metadata": {},
     "output_type": "display_data"
    }
   ],
   "source": [
    "sns.countplot(data=train, x='Family_group', hue='Survived')"
   ]
  },
  {
   "cell_type": "code",
   "execution_count": 51,
   "id": "1233b00c",
   "metadata": {
    "ExecuteTime": {
     "end_time": "2023-08-30T01:58:36.363172Z",
     "start_time": "2023-08-30T01:58:36.335391Z"
    }
   },
   "outputs": [
    {
     "data": {
      "text/html": [
       "<div>\n",
       "<style scoped>\n",
       "    .dataframe tbody tr th:only-of-type {\n",
       "        vertical-align: middle;\n",
       "    }\n",
       "\n",
       "    .dataframe tbody tr th {\n",
       "        vertical-align: top;\n",
       "    }\n",
       "\n",
       "    .dataframe thead th {\n",
       "        text-align: right;\n",
       "    }\n",
       "</style>\n",
       "<table border=\"1\" class=\"dataframe\">\n",
       "  <thead>\n",
       "    <tr style=\"text-align: right;\">\n",
       "      <th></th>\n",
       "      <th>Survived</th>\n",
       "      <th>Pclass</th>\n",
       "      <th>Name</th>\n",
       "      <th>Sex</th>\n",
       "      <th>Age</th>\n",
       "      <th>SibSp</th>\n",
       "      <th>Parch</th>\n",
       "      <th>Ticket</th>\n",
       "      <th>Fare</th>\n",
       "      <th>Cabin</th>\n",
       "      <th>Embarked</th>\n",
       "      <th>Family_size</th>\n",
       "      <th>Family_group</th>\n",
       "    </tr>\n",
       "  </thead>\n",
       "  <tbody>\n",
       "    <tr>\n",
       "      <th>0</th>\n",
       "      <td>0</td>\n",
       "      <td>3</td>\n",
       "      <td>Braund, Mr. Owen Harris</td>\n",
       "      <td>male</td>\n",
       "      <td>22.0</td>\n",
       "      <td>1</td>\n",
       "      <td>0</td>\n",
       "      <td>A/5 21171</td>\n",
       "      <td>7.2500</td>\n",
       "      <td>N</td>\n",
       "      <td>S</td>\n",
       "      <td>2</td>\n",
       "      <td>Small</td>\n",
       "    </tr>\n",
       "    <tr>\n",
       "      <th>1</th>\n",
       "      <td>1</td>\n",
       "      <td>1</td>\n",
       "      <td>Cumings, Mrs. John Bradley (Florence Briggs Th...</td>\n",
       "      <td>female</td>\n",
       "      <td>38.0</td>\n",
       "      <td>1</td>\n",
       "      <td>0</td>\n",
       "      <td>PC 17599</td>\n",
       "      <td>71.2833</td>\n",
       "      <td>C</td>\n",
       "      <td>C</td>\n",
       "      <td>2</td>\n",
       "      <td>Small</td>\n",
       "    </tr>\n",
       "    <tr>\n",
       "      <th>2</th>\n",
       "      <td>1</td>\n",
       "      <td>3</td>\n",
       "      <td>Heikkinen, Miss. Laina</td>\n",
       "      <td>female</td>\n",
       "      <td>26.0</td>\n",
       "      <td>0</td>\n",
       "      <td>0</td>\n",
       "      <td>STON/O2. 3101282</td>\n",
       "      <td>7.9250</td>\n",
       "      <td>N</td>\n",
       "      <td>S</td>\n",
       "      <td>1</td>\n",
       "      <td>Alone</td>\n",
       "    </tr>\n",
       "    <tr>\n",
       "      <th>3</th>\n",
       "      <td>1</td>\n",
       "      <td>1</td>\n",
       "      <td>Futrelle, Mrs. Jacques Heath (Lily May Peel)</td>\n",
       "      <td>female</td>\n",
       "      <td>35.0</td>\n",
       "      <td>1</td>\n",
       "      <td>0</td>\n",
       "      <td>113803</td>\n",
       "      <td>53.1000</td>\n",
       "      <td>C</td>\n",
       "      <td>S</td>\n",
       "      <td>2</td>\n",
       "      <td>Small</td>\n",
       "    </tr>\n",
       "    <tr>\n",
       "      <th>4</th>\n",
       "      <td>0</td>\n",
       "      <td>3</td>\n",
       "      <td>Allen, Mr. William Henry</td>\n",
       "      <td>male</td>\n",
       "      <td>35.0</td>\n",
       "      <td>0</td>\n",
       "      <td>0</td>\n",
       "      <td>373450</td>\n",
       "      <td>8.0500</td>\n",
       "      <td>N</td>\n",
       "      <td>S</td>\n",
       "      <td>1</td>\n",
       "      <td>Alone</td>\n",
       "    </tr>\n",
       "  </tbody>\n",
       "</table>\n",
       "</div>"
      ],
      "text/plain": [
       "   Survived  Pclass                                               Name  \\\n",
       "0         0       3                            Braund, Mr. Owen Harris   \n",
       "1         1       1  Cumings, Mrs. John Bradley (Florence Briggs Th...   \n",
       "2         1       3                             Heikkinen, Miss. Laina   \n",
       "3         1       1       Futrelle, Mrs. Jacques Heath (Lily May Peel)   \n",
       "4         0       3                           Allen, Mr. William Henry   \n",
       "\n",
       "      Sex   Age  SibSp  Parch            Ticket     Fare Cabin Embarked  \\\n",
       "0    male  22.0      1      0         A/5 21171   7.2500     N        S   \n",
       "1  female  38.0      1      0          PC 17599  71.2833     C        C   \n",
       "2  female  26.0      0      0  STON/O2. 3101282   7.9250     N        S   \n",
       "3  female  35.0      1      0            113803  53.1000     C        S   \n",
       "4    male  35.0      0      0            373450   8.0500     N        S   \n",
       "\n",
       "   Family_size Family_group  \n",
       "0            2        Small  \n",
       "1            2        Small  \n",
       "2            1        Alone  \n",
       "3            2        Small  \n",
       "4            1        Alone  "
      ]
     },
     "execution_count": 51,
     "metadata": {},
     "output_type": "execute_result"
    }
   ],
   "source": [
    "train.head()"
   ]
  },
  {
   "cell_type": "markdown",
   "id": "6331a633",
   "metadata": {},
   "source": [
    "#### Text 데이터 \n",
    "- Name. Ticket \n",
    "- Text 데이터 ====> 비정형 데이터 (틀도 없도 연산도 안되는데이터)\n",
    "- 비정형 데이터를 형태가 있는 데이터로 수정 : 반정형 or 정형 데이터로 \n"
   ]
  },
  {
   "cell_type": "markdown",
   "id": "6c508f4f",
   "metadata": {},
   "source": [
    "####  Name\n",
    "- 1. 이름데이터들 사이에서 공통적인 특징 찾기\n",
    "- 2. 찾은 특지들로 데이터를 다시 정리\n",
    "\n",
    "- 이름 데이터의 공통 점 : 이름과 성 사이에 호칭이 존재\n",
    "- 이름이라는 글자자체는 중요하지 않고 호칭으로 그룹화한 것들을 숫자로 바꿈."
   ]
  },
  {
   "cell_type": "code",
   "execution_count": 52,
   "id": "eedb1d63",
   "metadata": {
    "ExecuteTime": {
     "end_time": "2023-08-30T01:58:36.379093Z",
     "start_time": "2023-08-30T01:58:36.365177Z"
    }
   },
   "outputs": [
    {
     "data": {
      "text/plain": [
       "0                                Braund, Mr. Owen Harris\n",
       "1      Cumings, Mrs. John Bradley (Florence Briggs Th...\n",
       "2                                 Heikkinen, Miss. Laina\n",
       "3           Futrelle, Mrs. Jacques Heath (Lily May Peel)\n",
       "4                               Allen, Mr. William Henry\n",
       "                             ...                        \n",
       "886                                Montvila, Rev. Juozas\n",
       "887                         Graham, Miss. Margaret Edith\n",
       "888             Johnston, Miss. Catherine Helen \"Carrie\"\n",
       "889                                Behr, Mr. Karl Howell\n",
       "890                                  Dooley, Mr. Patrick\n",
       "Name: Name, Length: 891, dtype: object"
      ]
     },
     "execution_count": 52,
     "metadata": {},
     "output_type": "execute_result"
    }
   ],
   "source": [
    "train['Name']"
   ]
  },
  {
   "cell_type": "code",
   "execution_count": 53,
   "id": "658b9338",
   "metadata": {
    "ExecuteTime": {
     "end_time": "2023-08-30T01:58:36.395314Z",
     "start_time": "2023-08-30T01:58:36.381088Z"
    }
   },
   "outputs": [
    {
     "data": {
      "text/plain": [
       "'Braund, Mr. Owen Harris'"
      ]
     },
     "execution_count": 53,
     "metadata": {},
     "output_type": "execute_result"
    }
   ],
   "source": [
    "# 이름 중간에 있는 호칭만 가져오기 (Mr, MS, ...)\n",
    "train['Name'][0]\n",
    "\n",
    "# 1. 쉼표를 기준으로 (호칭 앞에는 쉼표가 잇음) 데이터를 분해하고 쉼표 뒤에 있는 데이터를 사용할 예정\n",
    "# 2. 마침표(.)를 기준으로 데이터를 분할하고 앞에 있는 데이터를 사용 \n",
    "# train['Name'][0].split(',')[1].split('.')[0].strip()  # strip() : 앞뒤의 공백을 제거하는 함수"
   ]
  },
  {
   "cell_type": "code",
   "execution_count": 54,
   "id": "f61bae6f",
   "metadata": {
    "ExecuteTime": {
     "end_time": "2023-08-30T01:58:36.410787Z",
     "start_time": "2023-08-30T01:58:36.397309Z"
    }
   },
   "outputs": [],
   "source": [
    "# 중간 호칭을 가져오는 함수 만들기\n",
    "def split_name(name):\n",
    "    return name.split(',')[1].split('.')[0].strip()"
   ]
  },
  {
   "cell_type": "code",
   "execution_count": 55,
   "id": "3d25a706",
   "metadata": {
    "ExecuteTime": {
     "end_time": "2023-08-30T01:58:36.427037Z",
     "start_time": "2023-08-30T01:58:36.412777Z"
    }
   },
   "outputs": [
    {
     "data": {
      "text/plain": [
       "0                                Braund, Mr. Owen Harris\n",
       "1      Cumings, Mrs. John Bradley (Florence Briggs Th...\n",
       "2                                 Heikkinen, Miss. Laina\n",
       "3           Futrelle, Mrs. Jacques Heath (Lily May Peel)\n",
       "4                               Allen, Mr. William Henry\n",
       "                             ...                        \n",
       "886                                Montvila, Rev. Juozas\n",
       "887                         Graham, Miss. Margaret Edith\n",
       "888             Johnston, Miss. Catherine Helen \"Carrie\"\n",
       "889                                Behr, Mr. Karl Howell\n",
       "890                                  Dooley, Mr. Patrick\n",
       "Name: Name, Length: 891, dtype: object"
      ]
     },
     "execution_count": 55,
     "metadata": {},
     "output_type": "execute_result"
    }
   ],
   "source": [
    "train['Name']"
   ]
  },
  {
   "cell_type": "code",
   "execution_count": 56,
   "id": "67853927",
   "metadata": {
    "ExecuteTime": {
     "end_time": "2023-08-30T01:58:36.442085Z",
     "start_time": "2023-08-30T01:58:36.428037Z"
    }
   },
   "outputs": [
    {
     "data": {
      "text/plain": [
       "0                                  Kelly, Mr. James\n",
       "1                  Wilkes, Mrs. James (Ellen Needs)\n",
       "2                         Myles, Mr. Thomas Francis\n",
       "3                                  Wirz, Mr. Albert\n",
       "4      Hirvonen, Mrs. Alexander (Helga E Lindqvist)\n",
       "                           ...                     \n",
       "413                              Spector, Mr. Woolf\n",
       "414                    Oliva y Ocana, Dona. Fermina\n",
       "415                    Saether, Mr. Simon Sivertsen\n",
       "416                             Ware, Mr. Frederick\n",
       "417                        Peter, Master. Michael J\n",
       "Name: Name, Length: 418, dtype: object"
      ]
     },
     "execution_count": 56,
     "metadata": {},
     "output_type": "execute_result"
    }
   ],
   "source": [
    "test['Name']"
   ]
  },
  {
   "cell_type": "code",
   "execution_count": 57,
   "id": "798aa64e",
   "metadata": {
    "ExecuteTime": {
     "end_time": "2023-08-30T01:58:36.457864Z",
     "start_time": "2023-08-30T01:58:36.443062Z"
    }
   },
   "outputs": [],
   "source": [
    "# apply() 함수 적용\n",
    "train['Name'] = train['Name'].apply(split_name)\n",
    "test['Name'] = test['Name'].apply(split_name)"
   ]
  },
  {
   "cell_type": "code",
   "execution_count": 58,
   "id": "dbd89d37",
   "metadata": {
    "ExecuteTime": {
     "end_time": "2023-08-30T01:58:36.474075Z",
     "start_time": "2023-08-30T01:58:36.458862Z"
    }
   },
   "outputs": [
    {
     "data": {
      "text/plain": [
       "Mr              517\n",
       "Miss            182\n",
       "Mrs             125\n",
       "Master           40\n",
       "Dr                7\n",
       "Rev               6\n",
       "Mlle              2\n",
       "Major             2\n",
       "Col               2\n",
       "the Countess      1\n",
       "Capt              1\n",
       "Ms                1\n",
       "Sir               1\n",
       "Lady              1\n",
       "Mme               1\n",
       "Don               1\n",
       "Jonkheer          1\n",
       "Name: Name, dtype: int64"
      ]
     },
     "execution_count": 58,
     "metadata": {},
     "output_type": "execute_result"
    }
   ],
   "source": [
    "# 바뀐 Name 확인 \n",
    "train['Name'].value_counts()"
   ]
  },
  {
   "cell_type": "code",
   "execution_count": 59,
   "id": "04f7b179",
   "metadata": {
    "ExecuteTime": {
     "end_time": "2023-08-30T01:58:36.489834Z",
     "start_time": "2023-08-30T01:58:36.475105Z"
    }
   },
   "outputs": [
    {
     "data": {
      "text/plain": [
       "Mr        240\n",
       "Miss       78\n",
       "Mrs        72\n",
       "Master     21\n",
       "Col         2\n",
       "Rev         2\n",
       "Ms          1\n",
       "Dr          1\n",
       "Dona        1\n",
       "Name: Name, dtype: int64"
      ]
     },
     "execution_count": 59,
     "metadata": {},
     "output_type": "execute_result"
    }
   ],
   "source": [
    "test['Name'].value_counts()"
   ]
  },
  {
   "cell_type": "code",
   "execution_count": 60,
   "id": "f3a8e199",
   "metadata": {
    "ExecuteTime": {
     "end_time": "2023-08-30T01:58:36.505444Z",
     "start_time": "2023-08-30T01:58:36.491829Z"
    }
   },
   "outputs": [],
   "source": [
    "# 가지수가 별로 없는 데이터는 사용하지 않는게 좋음\n",
    "\n",
    "# --> 데이터의 범주를 줄이다\n",
    "# Label 인코딩 \n",
    "convert_title_dic = {\n",
    "    'Mr' : 'Mr',\n",
    "    'Miss' : 'Miss',\n",
    "    'Mrs' : 'Mrs',\n",
    "    'Master' : 'Master',\n",
    "    'Dr' : 'Dr',\n",
    "    'Rev' : 'Rev',\n",
    "    'Mlle' : 'Other',\n",
    "    'Major' : 'Other',\n",
    "    'Col' : 'Other',\n",
    "    'the Countess' : 'Other',\n",
    "    'Capt' : 'Other',\n",
    "    'Ms' : 'Other',\n",
    "    'Sir' : 'Other',\n",
    "    'Lady' : 'Other',\n",
    "    'Mme' : 'Other',\n",
    "    'Don' : 'Other',\n",
    "    'Jonkheer' : 'Other',\n",
    "    'Dona' : 'Other'}"
   ]
  },
  {
   "cell_type": "code",
   "execution_count": 61,
   "id": "76e2870e",
   "metadata": {
    "ExecuteTime": {
     "end_time": "2023-08-30T01:58:36.520917Z",
     "start_time": "2023-08-30T01:58:36.506443Z"
    }
   },
   "outputs": [],
   "source": [
    "# Label 인코딩 : map() - key 값을 value값으로 대체해 주는 함수\n",
    "train['Name'] = train['Name'].map(convert_title_dic)\n",
    "test['Name'] = test['Name'].map(convert_title_dic)"
   ]
  },
  {
   "cell_type": "code",
   "execution_count": 62,
   "id": "0d33d6ba",
   "metadata": {
    "ExecuteTime": {
     "end_time": "2023-08-30T01:58:36.536393Z",
     "start_time": "2023-08-30T01:58:36.521914Z"
    }
   },
   "outputs": [
    {
     "data": {
      "text/plain": [
       "Mr        517\n",
       "Miss      182\n",
       "Mrs       125\n",
       "Master     40\n",
       "Other      14\n",
       "Dr          7\n",
       "Rev         6\n",
       "Name: Name, dtype: int64"
      ]
     },
     "execution_count": 62,
     "metadata": {},
     "output_type": "execute_result"
    }
   ],
   "source": [
    "train['Name'].value_counts()"
   ]
  },
  {
   "cell_type": "code",
   "execution_count": 63,
   "id": "3856c295",
   "metadata": {
    "ExecuteTime": {
     "end_time": "2023-08-30T01:58:36.551564Z",
     "start_time": "2023-08-30T01:58:36.537900Z"
    }
   },
   "outputs": [
    {
     "data": {
      "text/plain": [
       "Mr        240\n",
       "Miss       78\n",
       "Mrs        72\n",
       "Master     21\n",
       "Other       4\n",
       "Rev         2\n",
       "Dr          1\n",
       "Name: Name, dtype: int64"
      ]
     },
     "execution_count": 63,
     "metadata": {},
     "output_type": "execute_result"
    }
   ],
   "source": [
    "test['Name'].value_counts()"
   ]
  },
  {
   "cell_type": "code",
   "execution_count": 64,
   "id": "3518b50c",
   "metadata": {
    "ExecuteTime": {
     "end_time": "2023-08-30T01:58:36.566559Z",
     "start_time": "2023-08-30T01:58:36.552562Z"
    }
   },
   "outputs": [
    {
     "data": {
      "text/plain": [
       "Index(['Survived', 'Pclass', 'Name', 'Sex', 'Age', 'SibSp', 'Parch', 'Ticket',\n",
       "       'Fare', 'Cabin', 'Embarked', 'Family_size', 'Family_group'],\n",
       "      dtype='object')"
      ]
     },
     "execution_count": 64,
     "metadata": {},
     "output_type": "execute_result"
    }
   ],
   "source": [
    "train.columns"
   ]
  },
  {
   "cell_type": "code",
   "execution_count": 65,
   "id": "d2a455ce",
   "metadata": {
    "ExecuteTime": {
     "end_time": "2023-08-30T01:58:36.582031Z",
     "start_time": "2023-08-30T01:58:36.568564Z"
    }
   },
   "outputs": [
    {
     "data": {
      "text/plain": [
       "Index(['Pclass', 'Name', 'Sex', 'Age', 'SibSp', 'Parch', 'Ticket', 'Fare',\n",
       "       'Cabin', 'Embarked', 'Family_size', 'Family_group'],\n",
       "      dtype='object')"
      ]
     },
     "execution_count": 65,
     "metadata": {},
     "output_type": "execute_result"
    }
   ],
   "source": [
    "test.columns"
   ]
  },
  {
   "cell_type": "code",
   "execution_count": 66,
   "id": "25f2ea24",
   "metadata": {
    "ExecuteTime": {
     "end_time": "2023-08-30T01:58:36.598055Z",
     "start_time": "2023-08-30T01:58:36.583028Z"
    }
   },
   "outputs": [
    {
     "data": {
      "text/plain": [
       "0             A/5 21171\n",
       "1              PC 17599\n",
       "2      STON/O2. 3101282\n",
       "3                113803\n",
       "4                373450\n",
       "             ...       \n",
       "886              211536\n",
       "887              112053\n",
       "888          W./C. 6607\n",
       "889              111369\n",
       "890              370376\n",
       "Name: Ticket, Length: 891, dtype: object"
      ]
     },
     "execution_count": 66,
     "metadata": {},
     "output_type": "execute_result"
    }
   ],
   "source": [
    "train['Ticket']"
   ]
  },
  {
   "cell_type": "code",
   "execution_count": 67,
   "id": "9d2f2a4d",
   "metadata": {
    "ExecuteTime": {
     "end_time": "2023-08-30T01:58:36.614133Z",
     "start_time": "2023-08-30T01:58:36.600049Z"
    }
   },
   "outputs": [],
   "source": [
    "# 공통점을 발견하는게 쉽지않고, 예측에 별로 도움이 될거 같지 않음 => 삭제"
   ]
  },
  {
   "cell_type": "code",
   "execution_count": 68,
   "id": "d3dfb89f",
   "metadata": {
    "ExecuteTime": {
     "end_time": "2023-08-30T01:58:36.629607Z",
     "start_time": "2023-08-30T01:58:36.616129Z"
    }
   },
   "outputs": [
    {
     "data": {
      "text/plain": [
       "((891, 13), (418, 12))"
      ]
     },
     "execution_count": 68,
     "metadata": {},
     "output_type": "execute_result"
    }
   ],
   "source": [
    "train.shape, test.shape"
   ]
  },
  {
   "cell_type": "markdown",
   "id": "0fcba136",
   "metadata": {},
   "source": [
    "#### 문자데이터를 숫자데이터로 변환\n",
    " - 원핫인코딩을 사용 "
   ]
  },
  {
   "cell_type": "code",
   "execution_count": 69,
   "id": "5e57fd8f",
   "metadata": {
    "ExecuteTime": {
     "end_time": "2023-08-30T01:58:36.645720Z",
     "start_time": "2023-08-30T01:58:36.631602Z"
    }
   },
   "outputs": [
    {
     "name": "stdout",
     "output_type": "stream",
     "text": [
      "<class 'pandas.core.frame.DataFrame'>\n",
      "RangeIndex: 891 entries, 0 to 890\n",
      "Data columns (total 13 columns):\n",
      " #   Column        Non-Null Count  Dtype   \n",
      "---  ------        --------------  -----   \n",
      " 0   Survived      891 non-null    int64   \n",
      " 1   Pclass        891 non-null    int64   \n",
      " 2   Name          891 non-null    object  \n",
      " 3   Sex           891 non-null    object  \n",
      " 4   Age           891 non-null    float64 \n",
      " 5   SibSp         891 non-null    int64   \n",
      " 6   Parch         891 non-null    int64   \n",
      " 7   Ticket        891 non-null    object  \n",
      " 8   Fare          891 non-null    float64 \n",
      " 9   Cabin         891 non-null    object  \n",
      " 10  Embarked      891 non-null    object  \n",
      " 11  Family_size   891 non-null    int64   \n",
      " 12  Family_group  891 non-null    category\n",
      "dtypes: category(1), float64(2), int64(5), object(5)\n",
      "memory usage: 84.7+ KB\n"
     ]
    }
   ],
   "source": [
    "train.info()"
   ]
  },
  {
   "cell_type": "code",
   "execution_count": 70,
   "id": "4dd7d54c",
   "metadata": {
    "ExecuteTime": {
     "end_time": "2023-08-30T01:58:36.661349Z",
     "start_time": "2023-08-30T01:58:36.647109Z"
    }
   },
   "outputs": [],
   "source": [
    "cat_feature= ['Name', 'Sex', 'Cabin', 'Embarked', 'Family_group']"
   ]
  },
  {
   "cell_type": "code",
   "execution_count": 71,
   "id": "e52706d8",
   "metadata": {
    "ExecuteTime": {
     "end_time": "2023-08-30T01:58:36.676369Z",
     "start_time": "2023-08-30T01:58:36.663345Z"
    }
   },
   "outputs": [],
   "source": [
    "# 현재 우리의 데이터는 train/test가 나뉘어 있는상태 \n",
    "# 두 데이터가 다를 수가 있음.\n",
    "# 다를경우 원핫인코딩을 수행하면 전혀 다른 데이터가 생성되는 문제 발생\n",
    "# 두 데이터(train, test)을 합쳐서 원핫 인코딩을 수행을 한 후 다시 train/test분리"
   ]
  },
  {
   "cell_type": "markdown",
   "id": "b2c65102",
   "metadata": {
    "ExecuteTime": {
     "end_time": "2023-08-30T01:36:51.389937Z",
     "start_time": "2023-08-30T01:36:51.372935Z"
    }
   },
   "source": [
    "##### train에 있는 survived 분리"
   ]
  },
  {
   "cell_type": "code",
   "execution_count": 72,
   "id": "2aa7eaef",
   "metadata": {
    "ExecuteTime": {
     "end_time": "2023-08-30T01:58:36.691841Z",
     "start_time": "2023-08-30T01:58:36.678368Z"
    }
   },
   "outputs": [],
   "source": [
    "#훈련용 정답 만들기\n",
    "y_train = train['Survived']"
   ]
  },
  {
   "cell_type": "code",
   "execution_count": 73,
   "id": "d08c0440",
   "metadata": {
    "ExecuteTime": {
     "end_time": "2023-08-30T01:58:36.707486Z",
     "start_time": "2023-08-30T01:58:36.694346Z"
    }
   },
   "outputs": [],
   "source": [
    "# train 데이터 세트에서 Survived 컬럼 삭제하기\n",
    "train.drop('Survived', axis=1, inplace =True)"
   ]
  },
  {
   "cell_type": "code",
   "execution_count": 74,
   "id": "c2acc7d9",
   "metadata": {
    "ExecuteTime": {
     "end_time": "2023-08-30T01:58:36.722660Z",
     "start_time": "2023-08-30T01:58:36.713438Z"
    }
   },
   "outputs": [
    {
     "data": {
      "text/plain": [
       "Index(['Pclass', 'Name', 'Sex', 'Age', 'SibSp', 'Parch', 'Ticket', 'Fare',\n",
       "       'Cabin', 'Embarked', 'Family_size', 'Family_group'],\n",
       "      dtype='object')"
      ]
     },
     "execution_count": 74,
     "metadata": {},
     "output_type": "execute_result"
    }
   ],
   "source": [
    "train.columns"
   ]
  },
  {
   "cell_type": "code",
   "execution_count": 75,
   "id": "12d8ffec",
   "metadata": {
    "ExecuteTime": {
     "end_time": "2023-08-30T01:58:36.738332Z",
     "start_time": "2023-08-30T01:58:36.724169Z"
    }
   },
   "outputs": [
    {
     "data": {
      "text/plain": [
       "Index(['Pclass', 'Name', 'Sex', 'Age', 'SibSp', 'Parch', 'Ticket', 'Fare',\n",
       "       'Cabin', 'Embarked', 'Family_size', 'Family_group'],\n",
       "      dtype='object')"
      ]
     },
     "execution_count": 75,
     "metadata": {},
     "output_type": "execute_result"
    }
   ],
   "source": [
    "test.columns"
   ]
  },
  {
   "cell_type": "code",
   "execution_count": 76,
   "id": "51e9dbd4",
   "metadata": {
    "ExecuteTime": {
     "end_time": "2023-08-30T01:58:36.754246Z",
     "start_time": "2023-08-30T01:58:36.739359Z"
    }
   },
   "outputs": [],
   "source": [
    "# 두 개의 데이터(train, test)의 데이터 세트를 합치자 : pd.concat()\n",
    "total = pd.concat([train, test], ignore_index=True)\n",
    "#concat() : 기본적으로 아래(행)로 합쳐주는 함수\n",
    "#기존에 가지고 있는 인덱스 번호를사용하지 않고, 새로운 인덱스 번호를 부여 -> ignore_index =True"
   ]
  },
  {
   "cell_type": "code",
   "execution_count": 80,
   "id": "456a077e",
   "metadata": {
    "ExecuteTime": {
     "end_time": "2023-08-30T01:59:32.782689Z",
     "start_time": "2023-08-30T01:59:32.768686Z"
    }
   },
   "outputs": [],
   "source": [
    "#원핫인코딩 : pd.get_dummies()\n",
    "one_hot = pd.get_dummies(total[cat_feature])"
   ]
  },
  {
   "cell_type": "code",
   "execution_count": 81,
   "id": "41dab2cd",
   "metadata": {
    "ExecuteTime": {
     "end_time": "2023-08-30T01:59:35.051942Z",
     "start_time": "2023-08-30T01:59:35.041459Z"
    }
   },
   "outputs": [
    {
     "data": {
      "text/plain": [
       "(1309, 24)"
      ]
     },
     "execution_count": 81,
     "metadata": {},
     "output_type": "execute_result"
    }
   ],
   "source": [
    "one_hot.shape"
   ]
  },
  {
   "cell_type": "code",
   "execution_count": 83,
   "id": "c76b7452",
   "metadata": {
    "ExecuteTime": {
     "end_time": "2023-08-30T02:05:55.252552Z",
     "start_time": "2023-08-30T02:05:55.236530Z"
    }
   },
   "outputs": [],
   "source": [
    "# 필요가 없어진 문다열 데이터(cat_feature) 식량\n",
    "total.drop(cat_feature, axis =1, inplace=True)"
   ]
  },
  {
   "cell_type": "code",
   "execution_count": 84,
   "id": "cf3cc0c1",
   "metadata": {
    "ExecuteTime": {
     "end_time": "2023-08-30T02:06:04.757430Z",
     "start_time": "2023-08-30T02:06:04.732423Z"
    }
   },
   "outputs": [
    {
     "data": {
      "text/html": [
       "<div>\n",
       "<style scoped>\n",
       "    .dataframe tbody tr th:only-of-type {\n",
       "        vertical-align: middle;\n",
       "    }\n",
       "\n",
       "    .dataframe tbody tr th {\n",
       "        vertical-align: top;\n",
       "    }\n",
       "\n",
       "    .dataframe thead th {\n",
       "        text-align: right;\n",
       "    }\n",
       "</style>\n",
       "<table border=\"1\" class=\"dataframe\">\n",
       "  <thead>\n",
       "    <tr style=\"text-align: right;\">\n",
       "      <th></th>\n",
       "      <th>Pclass</th>\n",
       "      <th>Age</th>\n",
       "      <th>SibSp</th>\n",
       "      <th>Parch</th>\n",
       "      <th>Ticket</th>\n",
       "      <th>Fare</th>\n",
       "      <th>Family_size</th>\n",
       "    </tr>\n",
       "  </thead>\n",
       "  <tbody>\n",
       "    <tr>\n",
       "      <th>0</th>\n",
       "      <td>3</td>\n",
       "      <td>22.0</td>\n",
       "      <td>1</td>\n",
       "      <td>0</td>\n",
       "      <td>A/5 21171</td>\n",
       "      <td>7.2500</td>\n",
       "      <td>2</td>\n",
       "    </tr>\n",
       "    <tr>\n",
       "      <th>1</th>\n",
       "      <td>1</td>\n",
       "      <td>38.0</td>\n",
       "      <td>1</td>\n",
       "      <td>0</td>\n",
       "      <td>PC 17599</td>\n",
       "      <td>71.2833</td>\n",
       "      <td>2</td>\n",
       "    </tr>\n",
       "    <tr>\n",
       "      <th>2</th>\n",
       "      <td>3</td>\n",
       "      <td>26.0</td>\n",
       "      <td>0</td>\n",
       "      <td>0</td>\n",
       "      <td>STON/O2. 3101282</td>\n",
       "      <td>7.9250</td>\n",
       "      <td>1</td>\n",
       "    </tr>\n",
       "    <tr>\n",
       "      <th>3</th>\n",
       "      <td>1</td>\n",
       "      <td>35.0</td>\n",
       "      <td>1</td>\n",
       "      <td>0</td>\n",
       "      <td>113803</td>\n",
       "      <td>53.1000</td>\n",
       "      <td>2</td>\n",
       "    </tr>\n",
       "    <tr>\n",
       "      <th>4</th>\n",
       "      <td>3</td>\n",
       "      <td>35.0</td>\n",
       "      <td>0</td>\n",
       "      <td>0</td>\n",
       "      <td>373450</td>\n",
       "      <td>8.0500</td>\n",
       "      <td>1</td>\n",
       "    </tr>\n",
       "    <tr>\n",
       "      <th>...</th>\n",
       "      <td>...</td>\n",
       "      <td>...</td>\n",
       "      <td>...</td>\n",
       "      <td>...</td>\n",
       "      <td>...</td>\n",
       "      <td>...</td>\n",
       "      <td>...</td>\n",
       "    </tr>\n",
       "    <tr>\n",
       "      <th>1304</th>\n",
       "      <td>3</td>\n",
       "      <td>25.0</td>\n",
       "      <td>0</td>\n",
       "      <td>0</td>\n",
       "      <td>A.5. 3236</td>\n",
       "      <td>8.0500</td>\n",
       "      <td>1</td>\n",
       "    </tr>\n",
       "    <tr>\n",
       "      <th>1305</th>\n",
       "      <td>1</td>\n",
       "      <td>39.0</td>\n",
       "      <td>0</td>\n",
       "      <td>0</td>\n",
       "      <td>PC 17758</td>\n",
       "      <td>108.9000</td>\n",
       "      <td>1</td>\n",
       "    </tr>\n",
       "    <tr>\n",
       "      <th>1306</th>\n",
       "      <td>3</td>\n",
       "      <td>38.5</td>\n",
       "      <td>0</td>\n",
       "      <td>0</td>\n",
       "      <td>SOTON/O.Q. 3101262</td>\n",
       "      <td>7.2500</td>\n",
       "      <td>1</td>\n",
       "    </tr>\n",
       "    <tr>\n",
       "      <th>1307</th>\n",
       "      <td>3</td>\n",
       "      <td>25.0</td>\n",
       "      <td>0</td>\n",
       "      <td>0</td>\n",
       "      <td>359309</td>\n",
       "      <td>8.0500</td>\n",
       "      <td>3</td>\n",
       "    </tr>\n",
       "    <tr>\n",
       "      <th>1308</th>\n",
       "      <td>3</td>\n",
       "      <td>25.0</td>\n",
       "      <td>1</td>\n",
       "      <td>1</td>\n",
       "      <td>2668</td>\n",
       "      <td>22.3583</td>\n",
       "      <td>3</td>\n",
       "    </tr>\n",
       "  </tbody>\n",
       "</table>\n",
       "<p>1309 rows × 7 columns</p>\n",
       "</div>"
      ],
      "text/plain": [
       "      Pclass   Age  SibSp  Parch              Ticket      Fare  Family_size\n",
       "0          3  22.0      1      0           A/5 21171    7.2500            2\n",
       "1          1  38.0      1      0            PC 17599   71.2833            2\n",
       "2          3  26.0      0      0    STON/O2. 3101282    7.9250            1\n",
       "3          1  35.0      1      0              113803   53.1000            2\n",
       "4          3  35.0      0      0              373450    8.0500            1\n",
       "...      ...   ...    ...    ...                 ...       ...          ...\n",
       "1304       3  25.0      0      0           A.5. 3236    8.0500            1\n",
       "1305       1  39.0      0      0            PC 17758  108.9000            1\n",
       "1306       3  38.5      0      0  SOTON/O.Q. 3101262    7.2500            1\n",
       "1307       3  25.0      0      0              359309    8.0500            3\n",
       "1308       3  25.0      1      1                2668   22.3583            3\n",
       "\n",
       "[1309 rows x 7 columns]"
      ]
     },
     "execution_count": 84,
     "metadata": {},
     "output_type": "execute_result"
    }
   ],
   "source": [
    "total"
   ]
  },
  {
   "cell_type": "code",
   "execution_count": 87,
   "id": "ff3e116c",
   "metadata": {
    "ExecuteTime": {
     "end_time": "2023-08-30T02:10:34.701271Z",
     "start_time": "2023-08-30T02:10:34.685786Z"
    },
    "scrolled": true
   },
   "outputs": [],
   "source": [
    "# 숫자데이터 + 원핫인코딩 열과합치기 ==> 같은 값을 공유, 열방향으로 붙어주기\n",
    "total= pd.concat([total, one_hot], axis=1)"
   ]
  },
  {
   "cell_type": "code",
   "execution_count": 88,
   "id": "090490c5",
   "metadata": {
    "ExecuteTime": {
     "end_time": "2023-08-30T02:10:36.304829Z",
     "start_time": "2023-08-30T02:10:36.289843Z"
    }
   },
   "outputs": [
    {
     "data": {
      "text/plain": [
       "(1309, 31)"
      ]
     },
     "execution_count": 88,
     "metadata": {},
     "output_type": "execute_result"
    }
   ],
   "source": [
    "total.shape"
   ]
  },
  {
   "cell_type": "markdown",
   "id": "1e329204",
   "metadata": {},
   "source": [
    "### 모델 선택 및 하이퍼 파라미터 튜닝"
   ]
  },
  {
   "cell_type": "markdown",
   "id": "b3f334d1",
   "metadata": {},
   "source": [
    "####  DecisionTree 모델 불러오기"
   ]
  },
  {
   "cell_type": "code",
   "execution_count": 90,
   "id": "60945d73",
   "metadata": {
    "ExecuteTime": {
     "end_time": "2023-08-30T02:12:27.161185Z",
     "start_time": "2023-08-30T02:12:27.143199Z"
    }
   },
   "outputs": [],
   "source": [
    "from sklearn.tree import DecisionTreeClassifier\n",
    "tree_model = DecisionTreeClassifier()"
   ]
  },
  {
   "cell_type": "code",
   "execution_count": 95,
   "id": "059bfc81",
   "metadata": {
    "ExecuteTime": {
     "end_time": "2023-08-30T02:17:59.797675Z",
     "start_time": "2023-08-30T02:17:59.778567Z"
    }
   },
   "outputs": [
    {
     "ename": "NameError",
     "evalue": "name 'y' is not defined",
     "output_type": "error",
     "traceback": [
      "\u001b[1;31m---------------------------------------------------------------------------\u001b[0m",
      "\u001b[1;31mNameError\u001b[0m                                 Traceback (most recent call last)",
      "Cell \u001b[1;32mIn[95], line 6\u001b[0m\n\u001b[0;32m      1\u001b[0m \u001b[38;5;66;03m# y_train - 정답\u001b[39;00m\n\u001b[0;32m      2\u001b[0m \u001b[38;5;66;03m# y_test는 기본 데이터에서도 없었음 -> 모델 학습을 통해 만들어내야하는 결과 - kaggle에 올릴 데이터\u001b[39;00m\n\u001b[0;32m      3\u001b[0m \n\u001b[0;32m      4\u001b[0m \u001b[38;5;66;03m# total X_train, X_test로 분리\u001b[39;00m\n\u001b[0;32m      5\u001b[0m \u001b[38;5;28;01mfrom\u001b[39;00m \u001b[38;5;21;01msklearn\u001b[39;00m\u001b[38;5;21;01m.\u001b[39;00m\u001b[38;5;21;01mmodel_selection\u001b[39;00m \u001b[38;5;28;01mimport\u001b[39;00m train_test_split\n\u001b[1;32m----> 6\u001b[0m X_train, X_test, y_train, y_test \u001b[38;5;241m=\u001b[39m train_test_split(one_hot, \u001b[43my\u001b[49m, test_size\u001b[38;5;241m=\u001b[39m\u001b[38;5;241m0.7\u001b[39m)\n",
      "\u001b[1;31mNameError\u001b[0m: name 'y' is not defined"
     ]
    }
   ],
   "source": [
    "# y_train - 정답\n",
    "# y_test는 기본 데이터에서도 없었음 -> 모델 학습을 통해 만들어내야하는 결과 - kaggle에 올릴 데이터\n",
    "\n",
    "# total X_train, X_test로 분리\n",
    "from sklearn.model_selection import train_test_split\n",
    "X_train, X_test, y_train, y_test = train_test_split(one_hot, y, test_size=0.7)"
   ]
  },
  {
   "cell_type": "code",
   "execution_count": 93,
   "id": "bb29ce53",
   "metadata": {
    "ExecuteTime": {
     "end_time": "2023-08-30T02:15:53.819384Z",
     "start_time": "2023-08-30T02:15:53.801893Z"
    }
   },
   "outputs": [
    {
     "ename": "NameError",
     "evalue": "name 'X_train' is not defined",
     "output_type": "error",
     "traceback": [
      "\u001b[1;31m---------------------------------------------------------------------------\u001b[0m",
      "\u001b[1;31mNameError\u001b[0m                                 Traceback (most recent call last)",
      "Cell \u001b[1;32mIn[93], line 1\u001b[0m\n\u001b[1;32m----> 1\u001b[0m \u001b[43mX_train\u001b[49m\u001b[38;5;241m.\u001b[39mshape, X_test\u001b[38;5;241m.\u001b[39mshape\n",
      "\u001b[1;31mNameError\u001b[0m: name 'X_train' is not defined"
     ]
    }
   ],
   "source": [
    "X_train.shape = , X_test.shape"
   ]
  },
  {
   "cell_type": "markdown",
   "id": "fc9338c1",
   "metadata": {},
   "source": [
    "### 학습"
   ]
  },
  {
   "cell_type": "markdown",
   "id": "c6afab6b",
   "metadata": {
    "heading_collapsed": true
   },
   "source": [
    "### 평가 "
   ]
  }
 ],
 "metadata": {
  "kernelspec": {
   "display_name": "Python 3 (ipykernel)",
   "language": "python",
   "name": "python3"
  },
  "language_info": {
   "codemirror_mode": {
    "name": "ipython",
    "version": 3
   },
   "file_extension": ".py",
   "mimetype": "text/x-python",
   "name": "python",
   "nbconvert_exporter": "python",
   "pygments_lexer": "ipython3",
   "version": "3.10.9"
  },
  "toc": {
   "base_numbering": 1,
   "nav_menu": {},
   "number_sections": true,
   "sideBar": true,
   "skip_h1_title": false,
   "title_cell": "Table of Contents",
   "title_sidebar": "Contents",
   "toc_cell": false,
   "toc_position": {
    "height": "calc(100% - 180px)",
    "left": "10px",
    "top": "150px",
    "width": "250.807px"
   },
   "toc_section_display": true,
   "toc_window_display": true
  }
 },
 "nbformat": 4,
 "nbformat_minor": 5
}
