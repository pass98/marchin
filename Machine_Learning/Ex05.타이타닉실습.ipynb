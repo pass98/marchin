{
 "cells": [
  {
   "cell_type": "markdown",
   "id": "ae955362",
   "metadata": {},
   "source": [
    ".[머신러닝 학습단계(7단계)].\n",
    "1. 문제를 정의하는 단계 : 어떤 문제를 어떻게 해결할 것인지 정의\n",
    "2. 데이터 수집 : 1단계에서 정의된 문제를 해결하기 위해 데이터를 수집하는 단계\n",
    "    - 변수 = pd.DataFrame('가지고 온 데이터')\n",
    "3. 데이터 전처리 : 결측치와 이상치를 수정하는단계, 결측치, 이상치를 확인하고 수정\n",
    "    - 변수.info() : 결측치 확인\n",
    "    - 변수.describe() : 이상치 확인\n",
    " 4. 탐색적 데이터 분석(EDA) : 시간이 충분치 않을 때는 많이 생략되는 과정, 데이터를 그래프로 시각화, 기술통계값으로 데이터를 살펴보는 과정\n",
    "5. 모델 선택 및 하이퍼파라미터 튜닝 : \n",
    "    - 사용할 모델을 불러와서 파라미터를 수정 \n",
    "      트리모델 = DecisionTreeClassifier(\n",
    "    - 데이터 분리(문제/정답-인덱서, 훈련/평가-train_test_split())\n",
    "       X : 문제(데이터프레임 형태), y : 정답(시리즈 형태)\n",
    "       X_train, X-test, y_train, y_test = train_test_split(X,y, test_size=0.3)\n",
    "6. 학습 : 모델이 규칙을 찾기위한 과정, 훈련데이터(train data)로 학습\n",
    "    - 트리모델.fit(X_train, y_train)\n",
    "7. 평가 : 모델 자체 평가, 훈련/평가용 데이터의 점수를 확인 => 과대적합/과소적합 여부 확인\n",
    "    - 교차 검증 X : 트리모델.score(X-train, y-train)\n",
    "                    트리모델.score(X_test, y_test)\n",
    "    - 교차 검증 O : cross_val_score(X-train, y-train)\n",
    "                    cross_val_score(X_test, y_test)\n",
    "   모델이 예측하는 값 확인 \n",
    "   - 트리모델.predict([[이차원 형태의 새로운 데이터]]"
   ]
  },
  {
   "cell_type": "markdown",
   "id": "53a1c9fb",
   "metadata": {},
   "source": [
    "### 문제 정의"
   ]
  },
  {
   "cell_type": "markdown",
   "id": "60ddb690",
   "metadata": {},
   "source": [
    "### 데이터 수집\n",
    " - kaggle 사이트에서 데이터 다운로드"
   ]
  },
  {
   "cell_type": "code",
   "execution_count": null,
   "id": "6dbd5436",
   "metadata": {},
   "outputs": [],
   "source": []
  },
  {
   "cell_type": "code",
   "execution_count": 1,
   "id": "b6cf6590",
   "metadata": {
    "ExecuteTime": {
     "end_time": "2023-08-28T03:49:19.675058Z",
     "start_time": "2023-08-28T03:49:19.175054Z"
    }
   },
   "outputs": [
    {
     "name": "stdout",
     "output_type": "stream",
     "text": [
      "(891, 12)\n",
      "(418, 11)\n"
     ]
    }
   ],
   "source": [
    "# train과 test 데이터 가져오기\n",
    "# train 변수 : train.csv 파일\n",
    "# test 변수 : test.csv 파일\n",
    "import pandas as pd \n",
    "train = pd.read_csv('./Data/titanic/train.csv')\n",
    "test = pd.read_csv('./Data/titanic/test.csv')\n",
    "\n",
    "\n",
    "print(train.shape)\n",
    "print(test.shape)\n",
    "# train과 test의 특성(컬럼)의 차이는 Survived 컬럼의 차이\n",
    "# 머신러닝 학습을 통해서 찾은 규칙을 기반으로 예측해야 하는 컬럼.\n"
   ]
  },
  {
   "cell_type": "markdown",
   "id": "72891e11",
   "metadata": {},
   "source": [
    "#### 컬럼들의 특징\n",
    "![특징](\"/titanic/info.png\")"
   ]
  },
  {
   "cell_type": "markdown",
   "id": "c7482b6a",
   "metadata": {},
   "source": [
    "### 데이터 전처리\n"
   ]
  },
  {
   "cell_type": "markdown",
   "id": "5f5a67e7",
   "metadata": {},
   "source": [
    "#### 이상치 확인"
   ]
  },
  {
   "cell_type": "code",
   "execution_count": 2,
   "id": "b0f1445c",
   "metadata": {
    "ExecuteTime": {
     "end_time": "2023-08-28T03:49:19.690148Z",
     "start_time": "2023-08-28T03:49:19.676060Z"
    }
   },
   "outputs": [
    {
     "name": "stdout",
     "output_type": "stream",
     "text": [
      "<class 'pandas.core.frame.DataFrame'>\n",
      "RangeIndex: 891 entries, 0 to 890\n",
      "Data columns (total 12 columns):\n",
      " #   Column       Non-Null Count  Dtype  \n",
      "---  ------       --------------  -----  \n",
      " 0   PassengerId  891 non-null    int64  \n",
      " 1   Survived     891 non-null    int64  \n",
      " 2   Pclass       891 non-null    int64  \n",
      " 3   Name         891 non-null    object \n",
      " 4   Sex          891 non-null    object \n",
      " 5   Age          714 non-null    float64\n",
      " 6   SibSp        891 non-null    int64  \n",
      " 7   Parch        891 non-null    int64  \n",
      " 8   Ticket       891 non-null    object \n",
      " 9   Fare         891 non-null    float64\n",
      " 10  Cabin        204 non-null    object \n",
      " 11  Embarked     889 non-null    object \n",
      "dtypes: float64(2), int64(5), object(5)\n",
      "memory usage: 83.7+ KB\n"
     ]
    }
   ],
   "source": [
    "train.info()\n",
    "# 결측치 컬럼 : Age, Cabin, Embarked\n",
    "# 머신러닝 학습을 위해 숫자형 자료로 변경 컬럼 : Name, Sex,Ticket,Cabin,Embarked\n"
   ]
  },
  {
   "cell_type": "code",
   "execution_count": 3,
   "id": "2f982670",
   "metadata": {
    "ExecuteTime": {
     "end_time": "2023-08-28T03:49:19.706246Z",
     "start_time": "2023-08-28T03:49:19.691146Z"
    }
   },
   "outputs": [
    {
     "name": "stdout",
     "output_type": "stream",
     "text": [
      "<class 'pandas.core.frame.DataFrame'>\n",
      "RangeIndex: 418 entries, 0 to 417\n",
      "Data columns (total 11 columns):\n",
      " #   Column       Non-Null Count  Dtype  \n",
      "---  ------       --------------  -----  \n",
      " 0   PassengerId  418 non-null    int64  \n",
      " 1   Pclass       418 non-null    int64  \n",
      " 2   Name         418 non-null    object \n",
      " 3   Sex          418 non-null    object \n",
      " 4   Age          332 non-null    float64\n",
      " 5   SibSp        418 non-null    int64  \n",
      " 6   Parch        418 non-null    int64  \n",
      " 7   Ticket       418 non-null    object \n",
      " 8   Fare         417 non-null    float64\n",
      " 9   Cabin        91 non-null     object \n",
      " 10  Embarked     418 non-null    object \n",
      "dtypes: float64(2), int64(4), object(5)\n",
      "memory usage: 36.0+ KB\n"
     ]
    }
   ],
   "source": [
    "test.info()\n",
    "# 결측치 컬럼 : Age, fair, Cabin : RangeIndex: 418 개가 아닌 값들\n",
    "# 머신러닝 학습을 위해 숫자형 자료로 변경 컬럼 :Name\n",
    "# Name, sex, Ticket, cabin, Embarked => encoding 필요"
   ]
  },
  {
   "cell_type": "markdown",
   "id": "2789da09",
   "metadata": {},
   "source": [
    "#### 이상치 확인\n",
    " - describe()"
   ]
  },
  {
   "cell_type": "code",
   "execution_count": 4,
   "id": "9a3617f8",
   "metadata": {
    "ExecuteTime": {
     "end_time": "2023-08-28T03:49:19.737179Z",
     "start_time": "2023-08-28T03:49:19.708268Z"
    }
   },
   "outputs": [
    {
     "data": {
      "text/html": [
       "<div>\n",
       "<style scoped>\n",
       "    .dataframe tbody tr th:only-of-type {\n",
       "        vertical-align: middle;\n",
       "    }\n",
       "\n",
       "    .dataframe tbody tr th {\n",
       "        vertical-align: top;\n",
       "    }\n",
       "\n",
       "    .dataframe thead th {\n",
       "        text-align: right;\n",
       "    }\n",
       "</style>\n",
       "<table border=\"1\" class=\"dataframe\">\n",
       "  <thead>\n",
       "    <tr style=\"text-align: right;\">\n",
       "      <th></th>\n",
       "      <th>PassengerId</th>\n",
       "      <th>Survived</th>\n",
       "      <th>Pclass</th>\n",
       "      <th>Age</th>\n",
       "      <th>SibSp</th>\n",
       "      <th>Parch</th>\n",
       "      <th>Fare</th>\n",
       "    </tr>\n",
       "  </thead>\n",
       "  <tbody>\n",
       "    <tr>\n",
       "      <th>count</th>\n",
       "      <td>891.000000</td>\n",
       "      <td>891.000000</td>\n",
       "      <td>891.000000</td>\n",
       "      <td>714.000000</td>\n",
       "      <td>891.000000</td>\n",
       "      <td>891.000000</td>\n",
       "      <td>891.000000</td>\n",
       "    </tr>\n",
       "    <tr>\n",
       "      <th>mean</th>\n",
       "      <td>446.000000</td>\n",
       "      <td>0.383838</td>\n",
       "      <td>2.308642</td>\n",
       "      <td>29.699118</td>\n",
       "      <td>0.523008</td>\n",
       "      <td>0.381594</td>\n",
       "      <td>32.204208</td>\n",
       "    </tr>\n",
       "    <tr>\n",
       "      <th>std</th>\n",
       "      <td>257.353842</td>\n",
       "      <td>0.486592</td>\n",
       "      <td>0.836071</td>\n",
       "      <td>14.526497</td>\n",
       "      <td>1.102743</td>\n",
       "      <td>0.806057</td>\n",
       "      <td>49.693429</td>\n",
       "    </tr>\n",
       "    <tr>\n",
       "      <th>min</th>\n",
       "      <td>1.000000</td>\n",
       "      <td>0.000000</td>\n",
       "      <td>1.000000</td>\n",
       "      <td>0.420000</td>\n",
       "      <td>0.000000</td>\n",
       "      <td>0.000000</td>\n",
       "      <td>0.000000</td>\n",
       "    </tr>\n",
       "    <tr>\n",
       "      <th>25%</th>\n",
       "      <td>223.500000</td>\n",
       "      <td>0.000000</td>\n",
       "      <td>2.000000</td>\n",
       "      <td>20.125000</td>\n",
       "      <td>0.000000</td>\n",
       "      <td>0.000000</td>\n",
       "      <td>7.910400</td>\n",
       "    </tr>\n",
       "    <tr>\n",
       "      <th>50%</th>\n",
       "      <td>446.000000</td>\n",
       "      <td>0.000000</td>\n",
       "      <td>3.000000</td>\n",
       "      <td>28.000000</td>\n",
       "      <td>0.000000</td>\n",
       "      <td>0.000000</td>\n",
       "      <td>14.454200</td>\n",
       "    </tr>\n",
       "    <tr>\n",
       "      <th>75%</th>\n",
       "      <td>668.500000</td>\n",
       "      <td>1.000000</td>\n",
       "      <td>3.000000</td>\n",
       "      <td>38.000000</td>\n",
       "      <td>1.000000</td>\n",
       "      <td>0.000000</td>\n",
       "      <td>31.000000</td>\n",
       "    </tr>\n",
       "    <tr>\n",
       "      <th>max</th>\n",
       "      <td>891.000000</td>\n",
       "      <td>1.000000</td>\n",
       "      <td>3.000000</td>\n",
       "      <td>80.000000</td>\n",
       "      <td>8.000000</td>\n",
       "      <td>6.000000</td>\n",
       "      <td>512.329200</td>\n",
       "    </tr>\n",
       "  </tbody>\n",
       "</table>\n",
       "</div>"
      ],
      "text/plain": [
       "       PassengerId    Survived      Pclass         Age       SibSp  \\\n",
       "count   891.000000  891.000000  891.000000  714.000000  891.000000   \n",
       "mean    446.000000    0.383838    2.308642   29.699118    0.523008   \n",
       "std     257.353842    0.486592    0.836071   14.526497    1.102743   \n",
       "min       1.000000    0.000000    1.000000    0.420000    0.000000   \n",
       "25%     223.500000    0.000000    2.000000   20.125000    0.000000   \n",
       "50%     446.000000    0.000000    3.000000   28.000000    0.000000   \n",
       "75%     668.500000    1.000000    3.000000   38.000000    1.000000   \n",
       "max     891.000000    1.000000    3.000000   80.000000    8.000000   \n",
       "\n",
       "            Parch        Fare  \n",
       "count  891.000000  891.000000  \n",
       "mean     0.381594   32.204208  \n",
       "std      0.806057   49.693429  \n",
       "min      0.000000    0.000000  \n",
       "25%      0.000000    7.910400  \n",
       "50%      0.000000   14.454200  \n",
       "75%      0.000000   31.000000  \n",
       "max      6.000000  512.329200  "
      ]
     },
     "execution_count": 4,
     "metadata": {},
     "output_type": "execute_result"
    }
   ],
   "source": [
    "train.describe()\n",
    "# passengerld : 승객의 번호를 의미, 필요없는 데이터 -> 삭제\n",
    "# Survived(0,1) -> 38%가 생존\n",
    "# Pclass : 객실의 등급(1,2,3)으로 평규읜 의미 (std)가 없음\n",
    "# Age : 평균값이 의미가 있음. 20~30대 승객이 많음.\n",
    "# SibSp : 형제 자매/ 배우자 수 --> 이상치 의미가 없음\n",
    "# Parch : 부모/자식 수  --> 이상치 의미가 없음\n",
    "# fare : 평균은 어느정도 의미가 있음.\n",
    "#  평균과 중앙값을 비교했을 때 중앙값에 비해 평균이 높다는 의미는?\n",
    "#  1.데이터 수집이 잘못\n",
    "#  2.티켓의 가격이 잘못\n",
    "#  3.진짜로 1등급을 넘어서는 가격이 존재 \n",
    "\n",
    "# Fare 컬럼을 제외하고는 특별한 이상치가 있다고 볼 수 없음."
   ]
  },
  {
   "cell_type": "markdown",
   "id": "88cf7d5b",
   "metadata": {},
   "source": [
    "#### Embarked 결측치 채우기\n",
    "- 탑승항구 : S, C, Q 정보\n",
    "- 결측치 수가 상대적으로 작기때문에(2) 먼저 처리"
   ]
  },
  {
   "cell_type": "code",
   "execution_count": 5,
   "id": "6403f212",
   "metadata": {
    "ExecuteTime": {
     "end_time": "2023-08-28T03:49:19.752940Z",
     "start_time": "2023-08-28T03:49:19.738252Z"
    }
   },
   "outputs": [
    {
     "data": {
      "text/plain": [
       "S    644\n",
       "C    168\n",
       "Q     77\n",
       "Name: Embarked, dtype: int64"
      ]
     },
     "execution_count": 5,
     "metadata": {},
     "output_type": "execute_result"
    }
   ],
   "source": [
    "# 해당 컬럼의 데이터 갯수를 세어주는 함수 : value_counts()\n",
    "train['Embarked'].value_counts()\n",
    "\n",
    "# 결측치를 채울 때 주의할 점\n",
    "# - 어떤 기준으로 값을 채울 것인가 확인이 중요\n",
    "# 탑승하는 항구의 값을 채우기 위해 다른 컬럼이나 추가적인 정보를 확인  필요. \n",
    "# 탑승하는 항구별로 티켓의 가격이 다른지 확인하는 것도 의미가 있을 수 있음 .\n",
    "\n",
    "# 결측치가 2개이므로 전체적인 흐름에 영향을 주지 않을 것 같아서 ==> 대표값으로 측정"
   ]
  },
  {
   "cell_type": "markdown",
   "id": "bb7d0bc8",
   "metadata": {},
   "source": [
    "##### train데이터 - 결측치 채우기"
   ]
  },
  {
   "cell_type": "code",
   "execution_count": 6,
   "id": "d6b61df9",
   "metadata": {
    "ExecuteTime": {
     "end_time": "2023-08-28T03:49:19.768041Z",
     "start_time": "2023-08-28T03:49:19.754935Z"
    }
   },
   "outputs": [],
   "source": [
    "# 결측치 2개(891-> 889)를 최빈값(S) ==> 대표값으로 채우기 \n",
    "#  전체 결측치를 한번에 채워주는 함수 : fillna(입력값)\n",
    "\n",
    "train['Embarked'].fillna('S', inplace=True) #inplace = True : 변경된 값을 저장"
   ]
  },
  {
   "cell_type": "code",
   "execution_count": 7,
   "id": "97f67d68",
   "metadata": {
    "ExecuteTime": {
     "end_time": "2023-08-28T03:49:19.783583Z",
     "start_time": "2023-08-28T03:49:19.770043Z"
    }
   },
   "outputs": [
    {
     "name": "stdout",
     "output_type": "stream",
     "text": [
      "<class 'pandas.core.frame.DataFrame'>\n",
      "RangeIndex: 891 entries, 0 to 890\n",
      "Data columns (total 12 columns):\n",
      " #   Column       Non-Null Count  Dtype  \n",
      "---  ------       --------------  -----  \n",
      " 0   PassengerId  891 non-null    int64  \n",
      " 1   Survived     891 non-null    int64  \n",
      " 2   Pclass       891 non-null    int64  \n",
      " 3   Name         891 non-null    object \n",
      " 4   Sex          891 non-null    object \n",
      " 5   Age          714 non-null    float64\n",
      " 6   SibSp        891 non-null    int64  \n",
      " 7   Parch        891 non-null    int64  \n",
      " 8   Ticket       891 non-null    object \n",
      " 9   Fare         891 non-null    float64\n",
      " 10  Cabin        204 non-null    object \n",
      " 11  Embarked     891 non-null    object \n",
      "dtypes: float64(2), int64(5), object(5)\n",
      "memory usage: 83.7+ KB\n"
     ]
    }
   ],
   "source": [
    "train.info()"
   ]
  },
  {
   "cell_type": "markdown",
   "id": "d4549577",
   "metadata": {
    "ExecuteTime": {
     "end_time": "2023-08-28T02:38:47.976374Z",
     "start_time": "2023-08-28T02:38:47.964871Z"
    }
   },
   "source": [
    "##### test데이터 -Fare 결측치 채우기 "
   ]
  },
  {
   "cell_type": "code",
   "execution_count": 8,
   "id": "69d8ef23",
   "metadata": {
    "ExecuteTime": {
     "end_time": "2023-08-28T03:49:19.814426Z",
     "start_time": "2023-08-28T03:49:19.785578Z"
    }
   },
   "outputs": [
    {
     "data": {
      "text/html": [
       "<div>\n",
       "<style scoped>\n",
       "    .dataframe tbody tr th:only-of-type {\n",
       "        vertical-align: middle;\n",
       "    }\n",
       "\n",
       "    .dataframe tbody tr th {\n",
       "        vertical-align: top;\n",
       "    }\n",
       "\n",
       "    .dataframe thead th {\n",
       "        text-align: right;\n",
       "    }\n",
       "</style>\n",
       "<table border=\"1\" class=\"dataframe\">\n",
       "  <thead>\n",
       "    <tr style=\"text-align: right;\">\n",
       "      <th></th>\n",
       "      <th>PassengerId</th>\n",
       "      <th>Pclass</th>\n",
       "      <th>Age</th>\n",
       "      <th>SibSp</th>\n",
       "      <th>Parch</th>\n",
       "      <th>Fare</th>\n",
       "    </tr>\n",
       "  </thead>\n",
       "  <tbody>\n",
       "    <tr>\n",
       "      <th>count</th>\n",
       "      <td>418.000000</td>\n",
       "      <td>418.000000</td>\n",
       "      <td>332.000000</td>\n",
       "      <td>418.000000</td>\n",
       "      <td>418.000000</td>\n",
       "      <td>417.000000</td>\n",
       "    </tr>\n",
       "    <tr>\n",
       "      <th>mean</th>\n",
       "      <td>1100.500000</td>\n",
       "      <td>2.265550</td>\n",
       "      <td>30.272590</td>\n",
       "      <td>0.447368</td>\n",
       "      <td>0.392344</td>\n",
       "      <td>35.627188</td>\n",
       "    </tr>\n",
       "    <tr>\n",
       "      <th>std</th>\n",
       "      <td>120.810458</td>\n",
       "      <td>0.841838</td>\n",
       "      <td>14.181209</td>\n",
       "      <td>0.896760</td>\n",
       "      <td>0.981429</td>\n",
       "      <td>55.907576</td>\n",
       "    </tr>\n",
       "    <tr>\n",
       "      <th>min</th>\n",
       "      <td>892.000000</td>\n",
       "      <td>1.000000</td>\n",
       "      <td>0.170000</td>\n",
       "      <td>0.000000</td>\n",
       "      <td>0.000000</td>\n",
       "      <td>0.000000</td>\n",
       "    </tr>\n",
       "    <tr>\n",
       "      <th>25%</th>\n",
       "      <td>996.250000</td>\n",
       "      <td>1.000000</td>\n",
       "      <td>21.000000</td>\n",
       "      <td>0.000000</td>\n",
       "      <td>0.000000</td>\n",
       "      <td>7.895800</td>\n",
       "    </tr>\n",
       "    <tr>\n",
       "      <th>50%</th>\n",
       "      <td>1100.500000</td>\n",
       "      <td>3.000000</td>\n",
       "      <td>27.000000</td>\n",
       "      <td>0.000000</td>\n",
       "      <td>0.000000</td>\n",
       "      <td>14.454200</td>\n",
       "    </tr>\n",
       "    <tr>\n",
       "      <th>75%</th>\n",
       "      <td>1204.750000</td>\n",
       "      <td>3.000000</td>\n",
       "      <td>39.000000</td>\n",
       "      <td>1.000000</td>\n",
       "      <td>0.000000</td>\n",
       "      <td>31.500000</td>\n",
       "    </tr>\n",
       "    <tr>\n",
       "      <th>max</th>\n",
       "      <td>1309.000000</td>\n",
       "      <td>3.000000</td>\n",
       "      <td>76.000000</td>\n",
       "      <td>8.000000</td>\n",
       "      <td>9.000000</td>\n",
       "      <td>512.329200</td>\n",
       "    </tr>\n",
       "  </tbody>\n",
       "</table>\n",
       "</div>"
      ],
      "text/plain": [
       "       PassengerId      Pclass         Age       SibSp       Parch        Fare\n",
       "count   418.000000  418.000000  332.000000  418.000000  418.000000  417.000000\n",
       "mean   1100.500000    2.265550   30.272590    0.447368    0.392344   35.627188\n",
       "std     120.810458    0.841838   14.181209    0.896760    0.981429   55.907576\n",
       "min     892.000000    1.000000    0.170000    0.000000    0.000000    0.000000\n",
       "25%     996.250000    1.000000   21.000000    0.000000    0.000000    7.895800\n",
       "50%    1100.500000    3.000000   27.000000    0.000000    0.000000   14.454200\n",
       "75%    1204.750000    3.000000   39.000000    1.000000    0.000000   31.500000\n",
       "max    1309.000000    3.000000   76.000000    8.000000    9.000000  512.329200"
      ]
     },
     "execution_count": 8,
     "metadata": {},
     "output_type": "execute_result"
    }
   ],
   "source": [
    "test.describe()"
   ]
  },
  {
   "cell_type": "code",
   "execution_count": 9,
   "id": "667b79f5",
   "metadata": {
    "ExecuteTime": {
     "end_time": "2023-08-28T03:49:19.829787Z",
     "start_time": "2023-08-28T03:49:19.817931Z"
    }
   },
   "outputs": [],
   "source": [
    "#test['Fare'].value_counts()\n",
    "# Embarked 컬럼처럼 그 컬럼의 최빈값으로 채우는 게 의미가 없음\n",
    "# 연속적인 숫자값으로 가장 최빈값이 7.75 ==> 평균도 아니고 중앙값에도 미치지 못하는 값\n",
    "\n",
    "# Fare 컬럼의 중앙값으로 사용하여 결측치를 채워보자\n",
    "test['Fare'].fillna(14.454200,inplace=True) # 중앙값으로 변경허고 저장"
   ]
  },
  {
   "cell_type": "code",
   "execution_count": 10,
   "id": "f3c9969f",
   "metadata": {
    "ExecuteTime": {
     "end_time": "2023-08-28T03:49:19.845098Z",
     "start_time": "2023-08-28T03:49:19.834243Z"
    }
   },
   "outputs": [
    {
     "name": "stdout",
     "output_type": "stream",
     "text": [
      "<class 'pandas.core.frame.DataFrame'>\n",
      "RangeIndex: 418 entries, 0 to 417\n",
      "Data columns (total 11 columns):\n",
      " #   Column       Non-Null Count  Dtype  \n",
      "---  ------       --------------  -----  \n",
      " 0   PassengerId  418 non-null    int64  \n",
      " 1   Pclass       418 non-null    int64  \n",
      " 2   Name         418 non-null    object \n",
      " 3   Sex          418 non-null    object \n",
      " 4   Age          332 non-null    float64\n",
      " 5   SibSp        418 non-null    int64  \n",
      " 6   Parch        418 non-null    int64  \n",
      " 7   Ticket       418 non-null    object \n",
      " 8   Fare         418 non-null    float64\n",
      " 9   Cabin        91 non-null     object \n",
      " 10  Embarked     418 non-null    object \n",
      "dtypes: float64(2), int64(4), object(5)\n",
      "memory usage: 36.0+ KB\n"
     ]
    }
   ],
   "source": [
    "test.info()"
   ]
  },
  {
   "cell_type": "markdown",
   "id": "fae21398",
   "metadata": {},
   "source": [
    "#### Age 결측치 채우기\n",
    "# - 다른른 컴럼들과의 상관관계를 사용해서 결측치를 채우기"
   ]
  },
  {
   "cell_type": "code",
   "execution_count": 11,
   "id": "c19b8292",
   "metadata": {
    "ExecuteTime": {
     "end_time": "2023-08-28T03:49:19.860344Z",
     "start_time": "2023-08-28T03:49:19.846088Z"
    },
    "scrolled": true
   },
   "outputs": [
    {
     "name": "stderr",
     "output_type": "stream",
     "text": [
      "C:\\Users\\gjaischool\\AppData\\Local\\Temp\\ipykernel_17028\\2458440882.py:7: FutureWarning: The default value of numeric_only in DataFrame.corr is deprecated. In a future version, it will default to False. Select only valid columns or specify the value of numeric_only to silence this warning.\n",
      "  train.corr()\n"
     ]
    },
    {
     "data": {
      "text/html": [
       "<div>\n",
       "<style scoped>\n",
       "    .dataframe tbody tr th:only-of-type {\n",
       "        vertical-align: middle;\n",
       "    }\n",
       "\n",
       "    .dataframe tbody tr th {\n",
       "        vertical-align: top;\n",
       "    }\n",
       "\n",
       "    .dataframe thead th {\n",
       "        text-align: right;\n",
       "    }\n",
       "</style>\n",
       "<table border=\"1\" class=\"dataframe\">\n",
       "  <thead>\n",
       "    <tr style=\"text-align: right;\">\n",
       "      <th></th>\n",
       "      <th>PassengerId</th>\n",
       "      <th>Survived</th>\n",
       "      <th>Pclass</th>\n",
       "      <th>Age</th>\n",
       "      <th>SibSp</th>\n",
       "      <th>Parch</th>\n",
       "      <th>Fare</th>\n",
       "    </tr>\n",
       "  </thead>\n",
       "  <tbody>\n",
       "    <tr>\n",
       "      <th>PassengerId</th>\n",
       "      <td>1.000000</td>\n",
       "      <td>-0.005007</td>\n",
       "      <td>-0.035144</td>\n",
       "      <td>0.036847</td>\n",
       "      <td>-0.057527</td>\n",
       "      <td>-0.001652</td>\n",
       "      <td>0.012658</td>\n",
       "    </tr>\n",
       "    <tr>\n",
       "      <th>Survived</th>\n",
       "      <td>-0.005007</td>\n",
       "      <td>1.000000</td>\n",
       "      <td>-0.338481</td>\n",
       "      <td>-0.077221</td>\n",
       "      <td>-0.035322</td>\n",
       "      <td>0.081629</td>\n",
       "      <td>0.257307</td>\n",
       "    </tr>\n",
       "    <tr>\n",
       "      <th>Pclass</th>\n",
       "      <td>-0.035144</td>\n",
       "      <td>-0.338481</td>\n",
       "      <td>1.000000</td>\n",
       "      <td>-0.369226</td>\n",
       "      <td>0.083081</td>\n",
       "      <td>0.018443</td>\n",
       "      <td>-0.549500</td>\n",
       "    </tr>\n",
       "    <tr>\n",
       "      <th>Age</th>\n",
       "      <td>0.036847</td>\n",
       "      <td>-0.077221</td>\n",
       "      <td>-0.369226</td>\n",
       "      <td>1.000000</td>\n",
       "      <td>-0.308247</td>\n",
       "      <td>-0.189119</td>\n",
       "      <td>0.096067</td>\n",
       "    </tr>\n",
       "    <tr>\n",
       "      <th>SibSp</th>\n",
       "      <td>-0.057527</td>\n",
       "      <td>-0.035322</td>\n",
       "      <td>0.083081</td>\n",
       "      <td>-0.308247</td>\n",
       "      <td>1.000000</td>\n",
       "      <td>0.414838</td>\n",
       "      <td>0.159651</td>\n",
       "    </tr>\n",
       "    <tr>\n",
       "      <th>Parch</th>\n",
       "      <td>-0.001652</td>\n",
       "      <td>0.081629</td>\n",
       "      <td>0.018443</td>\n",
       "      <td>-0.189119</td>\n",
       "      <td>0.414838</td>\n",
       "      <td>1.000000</td>\n",
       "      <td>0.216225</td>\n",
       "    </tr>\n",
       "    <tr>\n",
       "      <th>Fare</th>\n",
       "      <td>0.012658</td>\n",
       "      <td>0.257307</td>\n",
       "      <td>-0.549500</td>\n",
       "      <td>0.096067</td>\n",
       "      <td>0.159651</td>\n",
       "      <td>0.216225</td>\n",
       "      <td>1.000000</td>\n",
       "    </tr>\n",
       "  </tbody>\n",
       "</table>\n",
       "</div>"
      ],
      "text/plain": [
       "             PassengerId  Survived    Pclass       Age     SibSp     Parch  \\\n",
       "PassengerId     1.000000 -0.005007 -0.035144  0.036847 -0.057527 -0.001652   \n",
       "Survived       -0.005007  1.000000 -0.338481 -0.077221 -0.035322  0.081629   \n",
       "Pclass         -0.035144 -0.338481  1.000000 -0.369226  0.083081  0.018443   \n",
       "Age             0.036847 -0.077221 -0.369226  1.000000 -0.308247 -0.189119   \n",
       "SibSp          -0.057527 -0.035322  0.083081 -0.308247  1.000000  0.414838   \n",
       "Parch          -0.001652  0.081629  0.018443 -0.189119  0.414838  1.000000   \n",
       "Fare            0.012658  0.257307 -0.549500  0.096067  0.159651  0.216225   \n",
       "\n",
       "                 Fare  \n",
       "PassengerId  0.012658  \n",
       "Survived     0.257307  \n",
       "Pclass      -0.549500  \n",
       "Age          0.096067  \n",
       "SibSp        0.159651  \n",
       "Parch        0.216225  \n",
       "Fare         1.000000  "
      ]
     },
     "execution_count": 11,
     "metadata": {},
     "output_type": "execute_result"
    }
   ],
   "source": [
    "# 수치형 컬럼들 간의 상관관계를 나타내는 함수 : corr()\n",
    "# 그래프의 값이 마이너스에 가까울때는 반비례 관계. 1에 가까울 때는 비례 관계.\n",
    "# 나이와 Pclass,sibSp,Parch는 반비례관계, Fard는 비례관계\n",
    "# -1 ~ 1 사이의 숫자로 표현 \n",
    "# -1에 가까울 수록 반비례 관계 : 나이가 많을 수록 객실등급은 1등급에 가까울 거다.\n",
    "# 1에 가까울 수록 (정)비례 : \n",
    "train.corr()\n",
    "\n",
    "# corr 함수가 오류가 날 경우 train.select_dtypes(include=['int64', 'float64']).corr()\n",
    "# 수치 앞의 부호는 정비례. 반비례인지 판단 기준\n",
    "# 부호뒤의 숫자의 절대값이 1에 가까울 수록 서로 영향을 준다고 판단\n",
    "# 형제자매/배우자수, 객실등급이 나이와 상관이 있을 것이다."
   ]
  },
  {
   "cell_type": "code",
   "execution_count": 12,
   "id": "4da1c766",
   "metadata": {
    "ExecuteTime": {
     "end_time": "2023-08-28T03:49:19.875843Z",
     "start_time": "2023-08-28T03:49:19.861340Z"
    }
   },
   "outputs": [
    {
     "data": {
      "text/html": [
       "<div>\n",
       "<style scoped>\n",
       "    .dataframe tbody tr th:only-of-type {\n",
       "        vertical-align: middle;\n",
       "    }\n",
       "\n",
       "    .dataframe tbody tr th {\n",
       "        vertical-align: top;\n",
       "    }\n",
       "\n",
       "    .dataframe thead th {\n",
       "        text-align: right;\n",
       "    }\n",
       "</style>\n",
       "<table border=\"1\" class=\"dataframe\">\n",
       "  <thead>\n",
       "    <tr style=\"text-align: right;\">\n",
       "      <th></th>\n",
       "      <th>Age</th>\n",
       "    </tr>\n",
       "    <tr>\n",
       "      <th>Pclass</th>\n",
       "      <th></th>\n",
       "    </tr>\n",
       "  </thead>\n",
       "  <tbody>\n",
       "    <tr>\n",
       "      <th>1</th>\n",
       "      <td>37.0</td>\n",
       "    </tr>\n",
       "    <tr>\n",
       "      <th>2</th>\n",
       "      <td>29.0</td>\n",
       "    </tr>\n",
       "    <tr>\n",
       "      <th>3</th>\n",
       "      <td>24.0</td>\n",
       "    </tr>\n",
       "  </tbody>\n",
       "</table>\n",
       "</div>"
      ],
      "text/plain": [
       "         Age\n",
       "Pclass      \n",
       "1       37.0\n",
       "2       29.0\n",
       "3       24.0"
      ]
     },
     "execution_count": 12,
     "metadata": {},
     "output_type": "execute_result"
    }
   ],
   "source": [
    "# Age 컬럼을 Pclass컬럼과 비교해서 결측치 채우기\n",
    "\n",
    "train[['Pclass','Age']] # -> pclass 별로 묶어서 중앙값 확인\n",
    "\n",
    "train[['Pclass', 'Age']].groupby(by='Pclass').median()\n",
    "# Pclass 별로 탑승한 승객의 나이의 중앙값\n",
    "\n",
    "#Pclass = 1,2,3 : 숫자자료이지만 등급을 나타내는 범주형 자료 "
   ]
  },
  {
   "cell_type": "code",
   "execution_count": 13,
   "id": "2a29f32e",
   "metadata": {
    "ExecuteTime": {
     "end_time": "2023-08-28T03:49:19.891184Z",
     "start_time": "2023-08-28T03:49:19.878059Z"
    }
   },
   "outputs": [
    {
     "data": {
      "text/html": [
       "<div>\n",
       "<style scoped>\n",
       "    .dataframe tbody tr th:only-of-type {\n",
       "        vertical-align: middle;\n",
       "    }\n",
       "\n",
       "    .dataframe tbody tr th {\n",
       "        vertical-align: top;\n",
       "    }\n",
       "\n",
       "    .dataframe thead th {\n",
       "        text-align: right;\n",
       "    }\n",
       "</style>\n",
       "<table border=\"1\" class=\"dataframe\">\n",
       "  <thead>\n",
       "    <tr style=\"text-align: right;\">\n",
       "      <th></th>\n",
       "      <th></th>\n",
       "      <th>Age</th>\n",
       "    </tr>\n",
       "    <tr>\n",
       "      <th>Pclass</th>\n",
       "      <th>Sex</th>\n",
       "      <th></th>\n",
       "    </tr>\n",
       "  </thead>\n",
       "  <tbody>\n",
       "    <tr>\n",
       "      <th rowspan=\"2\" valign=\"top\">1</th>\n",
       "      <th>female</th>\n",
       "      <td>35.0</td>\n",
       "    </tr>\n",
       "    <tr>\n",
       "      <th>male</th>\n",
       "      <td>40.0</td>\n",
       "    </tr>\n",
       "    <tr>\n",
       "      <th rowspan=\"2\" valign=\"top\">2</th>\n",
       "      <th>female</th>\n",
       "      <td>28.0</td>\n",
       "    </tr>\n",
       "    <tr>\n",
       "      <th>male</th>\n",
       "      <td>30.0</td>\n",
       "    </tr>\n",
       "    <tr>\n",
       "      <th rowspan=\"2\" valign=\"top\">3</th>\n",
       "      <th>female</th>\n",
       "      <td>21.5</td>\n",
       "    </tr>\n",
       "    <tr>\n",
       "      <th>male</th>\n",
       "      <td>25.0</td>\n",
       "    </tr>\n",
       "  </tbody>\n",
       "</table>\n",
       "</div>"
      ],
      "text/plain": [
       "                Age\n",
       "Pclass Sex         \n",
       "1      female  35.0\n",
       "       male    40.0\n",
       "2      female  28.0\n",
       "       male    30.0\n",
       "3      female  21.5\n",
       "       male    25.0"
      ]
     },
     "execution_count": 13,
     "metadata": {},
     "output_type": "execute_result"
    }
   ],
   "source": [
    "# Age 컬럼을 Pclass 먼저, Sex 컬럼 추가하기 \n",
    "# Pclass 컬럼별로 탑승한 승객의 나이의 중앙값\n",
    "\n",
    "# 3개의 컬럼을 보기 위해서 age_table로 저장 (테이블 형태로)\n",
    "age_table= train[['Pclass','Sex','Age']].groupby(by=['Pclass','Sex']).median()\n",
    "age_table"
   ]
  },
  {
   "cell_type": "code",
   "execution_count": 14,
   "id": "6a7a764d",
   "metadata": {
    "ExecuteTime": {
     "end_time": "2023-08-28T03:49:19.907201Z",
     "start_time": "2023-08-28T03:49:19.892181Z"
    }
   },
   "outputs": [
    {
     "data": {
      "text/plain": [
       "PassengerId                         3\n",
       "Survived                            1\n",
       "Pclass                              3\n",
       "Name           Heikkinen, Miss. Laina\n",
       "Sex                            female\n",
       "Age                              26.0\n",
       "SibSp                               0\n",
       "Parch                               0\n",
       "Ticket               STON/O2. 3101282\n",
       "Fare                            7.925\n",
       "Cabin                             NaN\n",
       "Embarked                            S\n",
       "Name: 2, dtype: object"
      ]
     },
     "execution_count": 14,
     "metadata": {},
     "output_type": "execute_result"
    }
   ],
   "source": [
    "train.iloc[2]"
   ]
  },
  {
   "cell_type": "code",
   "execution_count": 15,
   "id": "e5962931",
   "metadata": {
    "ExecuteTime": {
     "end_time": "2023-08-28T03:49:19.923227Z",
     "start_time": "2023-08-28T03:49:19.908708Z"
    }
   },
   "outputs": [],
   "source": [
    "# 1. 함수 정의 \n",
    "# 하나의 행을 가져와서\n",
    "# Age가 결측치가 아닌 경우 --> 원래 가지고 있던 값을 그대로 사용\n",
    "# Age가 결측치라면 --> Pclass와 Sex 컬럼을 확인하고 해당하는 값을 age_table에서 검색해서 해당 값으로 채우기 \n",
    "# 꺼내오는 하나의 행 정보 : 넘파이 배열형태 \n",
    "import numpy as np\n",
    "\n",
    "# 함수를 만들 때 주의할 점 \n",
    "# 행단위로 데이터가 들어올 것으로 예상하고 만들기 \n",
    "def fill_age(person) : \n",
    "    if np.isnan(person['Age']) : # 꺼내온 정보에서 Age 컬럼이 결측치 0 \n",
    "        return age_table.loc[person['Pclass'], person['Sex']]['Age']\n",
    "        # 결측치라면 age_table의 객실등급과 성별을 확인하고 age 값을 적음\n",
    "    else : # Age 컬럼이 결측치가 아님\n",
    "        return person['Age'] #가지고 있는 값 사용 "
   ]
  },
  {
   "cell_type": "code",
   "execution_count": 17,
   "id": "89aa3ed2",
   "metadata": {
    "ExecuteTime": {
     "end_time": "2023-08-28T03:50:29.410404Z",
     "start_time": "2023-08-28T03:50:29.404483Z"
    }
   },
   "outputs": [
    {
     "data": {
      "text/plain": [
       "25.0"
      ]
     },
     "execution_count": 17,
     "metadata": {},
     "output_type": "execute_result"
    }
   ],
   "source": [
    "# 2. 사용자 승객의 정보를 확인하고 함수 적용 ==> apply()\n",
    "# apply() : 행과 열단위의 복잡한 계산을 할 때 사용하는 함수 \n",
    "age_table.loc[3, 'male']['Age']"
   ]
  },
  {
   "cell_type": "markdown",
   "id": "02282398",
   "metadata": {},
   "source": [
    "### 탐색적 데이터 분석 (EDA)"
   ]
  },
  {
   "cell_type": "markdown",
   "id": "1e329204",
   "metadata": {},
   "source": [
    "### 모델 선택 및 하이퍼 파라미터 튜닝"
   ]
  },
  {
   "cell_type": "markdown",
   "id": "fc9338c1",
   "metadata": {},
   "source": [
    "### 학습"
   ]
  },
  {
   "cell_type": "markdown",
   "id": "c6afab6b",
   "metadata": {},
   "source": [
    "### 평가 "
   ]
  }
 ],
 "metadata": {
  "kernelspec": {
   "display_name": "Python 3 (ipykernel)",
   "language": "python",
   "name": "python3"
  },
  "language_info": {
   "codemirror_mode": {
    "name": "ipython",
    "version": 3
   },
   "file_extension": ".py",
   "mimetype": "text/x-python",
   "name": "python",
   "nbconvert_exporter": "python",
   "pygments_lexer": "ipython3",
   "version": "3.10.9"
  },
  "toc": {
   "base_numbering": 1,
   "nav_menu": {},
   "number_sections": true,
   "sideBar": true,
   "skip_h1_title": false,
   "title_cell": "Table of Contents",
   "title_sidebar": "Contents",
   "toc_cell": false,
   "toc_position": {},
   "toc_section_display": true,
   "toc_window_display": false
  }
 },
 "nbformat": 4,
 "nbformat_minor": 5
}
