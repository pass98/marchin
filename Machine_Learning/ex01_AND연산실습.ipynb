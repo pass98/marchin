{
 "cells": [
  {
   "cell_type": "markdown",
   "id": "f3c75d32",
   "metadata": {},
   "source": [
    "# 문제정의\n",
    "- AND 연산 \n",
    "- 훈련데이터와 테스트 데이터 이해하기\n",
    "- AND 연산의 결과를 도출하는 머신러닝 모델 학습하고 이해하기 "
   ]
  },
  {
   "cell_type": "markdown",
   "id": "4c5a78fb",
   "metadata": {},
   "source": [
    "# 데이터 만들기\n"
   ]
  },
  {
   "cell_type": "code",
   "execution_count": 1,
   "id": "076cb038",
   "metadata": {
    "ExecuteTime": {
     "end_time": "2023-08-22T00:32:35.578669Z",
     "start_time": "2023-08-22T00:32:35.172213Z"
    }
   },
   "outputs": [],
   "source": [
    "# 필요한 도구 불러오기 \n",
    "import numpy as np\n",
    "import pandas as pd"
   ]
  },
  {
   "cell_type": "code",
   "execution_count": 2,
   "id": "ef910cbf",
   "metadata": {
    "ExecuteTime": {
     "end_time": "2023-08-22T00:32:35.609552Z",
     "start_time": "2023-08-22T00:32:35.582661Z"
    }
   },
   "outputs": [
    {
     "data": {
      "text/html": [
       "<div>\n",
       "<style scoped>\n",
       "    .dataframe tbody tr th:only-of-type {\n",
       "        vertical-align: middle;\n",
       "    }\n",
       "\n",
       "    .dataframe tbody tr th {\n",
       "        vertical-align: top;\n",
       "    }\n",
       "\n",
       "    .dataframe thead th {\n",
       "        text-align: right;\n",
       "    }\n",
       "</style>\n",
       "<table border=\"1\" class=\"dataframe\">\n",
       "  <thead>\n",
       "    <tr style=\"text-align: right;\">\n",
       "      <th></th>\n",
       "      <th>A</th>\n",
       "      <th>B</th>\n",
       "      <th>AandB</th>\n",
       "    </tr>\n",
       "  </thead>\n",
       "  <tbody>\n",
       "    <tr>\n",
       "      <th>0</th>\n",
       "      <td>0</td>\n",
       "      <td>0</td>\n",
       "      <td>0</td>\n",
       "    </tr>\n",
       "    <tr>\n",
       "      <th>1</th>\n",
       "      <td>0</td>\n",
       "      <td>1</td>\n",
       "      <td>0</td>\n",
       "    </tr>\n",
       "    <tr>\n",
       "      <th>2</th>\n",
       "      <td>1</td>\n",
       "      <td>0</td>\n",
       "      <td>0</td>\n",
       "    </tr>\n",
       "    <tr>\n",
       "      <th>3</th>\n",
       "      <td>1</td>\n",
       "      <td>1</td>\n",
       "      <td>1</td>\n",
       "    </tr>\n",
       "    <tr>\n",
       "      <th>4</th>\n",
       "      <td>1</td>\n",
       "      <td>0</td>\n",
       "      <td>0</td>\n",
       "    </tr>\n",
       "    <tr>\n",
       "      <th>5</th>\n",
       "      <td>0</td>\n",
       "      <td>0</td>\n",
       "      <td>0</td>\n",
       "    </tr>\n",
       "    <tr>\n",
       "      <th>6</th>\n",
       "      <td>1</td>\n",
       "      <td>1</td>\n",
       "      <td>1</td>\n",
       "    </tr>\n",
       "    <tr>\n",
       "      <th>7</th>\n",
       "      <td>0</td>\n",
       "      <td>1</td>\n",
       "      <td>0</td>\n",
       "    </tr>\n",
       "  </tbody>\n",
       "</table>\n",
       "</div>"
      ],
      "text/plain": [
       "   A  B  AandB\n",
       "0  0  0      0\n",
       "1  0  1      0\n",
       "2  1  0      0\n",
       "3  1  1      1\n",
       "4  1  0      0\n",
       "5  0  0      0\n",
       "6  1  1      1\n",
       "7  0  1      0"
      ]
     },
     "execution_count": 2,
     "metadata": {},
     "output_type": "execute_result"
    }
   ],
   "source": [
    "# 데이터프레임 형태로 만들기 \n",
    "# 행 : 8, 열 : 3\n",
    "dict = {\"A\" : [0, 0, 1, 1, 1, 0, 1, 0],\n",
    "        \"B\" : [0, 1, 0, 1, 0, 0, 1, 1],\n",
    "       \"AandB\" : [0, 0, 0, 1, 0, 0, 1, 0]}\n",
    "dataFrame = pd.DataFrame(dict)\n",
    "dataFrame"
   ]
  },
  {
   "cell_type": "markdown",
   "id": "e76aca5a",
   "metadata": {},
   "source": [
    "- 'A', 'B' : 문제데이터, 특성, feature, 독립변수, X(대문자), 속성\n",
    "- 'AandB' : 정답데이터, target, Label, 종속변수, y(소문자)"
   ]
  },
  {
   "cell_type": "markdown",
   "id": "0d822859",
   "metadata": {},
   "source": [
    "# 데이터 전처리 \n",
    "- 컬럼인덱싱으로 문제데이터(X)와 정답데이터(y)로 분리하기 \n",
    "- 문제를 전처리하기 위해서 문제와 정답을 분리한다"
   ]
  },
  {
   "cell_type": "code",
   "execution_count": 3,
   "id": "5a5671c5",
   "metadata": {
    "ExecuteTime": {
     "end_time": "2023-08-22T00:32:35.625040Z",
     "start_time": "2023-08-22T00:32:35.611518Z"
    }
   },
   "outputs": [
    {
     "data": {
      "text/html": [
       "<div>\n",
       "<style scoped>\n",
       "    .dataframe tbody tr th:only-of-type {\n",
       "        vertical-align: middle;\n",
       "    }\n",
       "\n",
       "    .dataframe tbody tr th {\n",
       "        vertical-align: top;\n",
       "    }\n",
       "\n",
       "    .dataframe thead th {\n",
       "        text-align: right;\n",
       "    }\n",
       "</style>\n",
       "<table border=\"1\" class=\"dataframe\">\n",
       "  <thead>\n",
       "    <tr style=\"text-align: right;\">\n",
       "      <th></th>\n",
       "      <th>A</th>\n",
       "      <th>B</th>\n",
       "    </tr>\n",
       "  </thead>\n",
       "  <tbody>\n",
       "    <tr>\n",
       "      <th>0</th>\n",
       "      <td>0</td>\n",
       "      <td>0</td>\n",
       "    </tr>\n",
       "    <tr>\n",
       "      <th>1</th>\n",
       "      <td>0</td>\n",
       "      <td>1</td>\n",
       "    </tr>\n",
       "    <tr>\n",
       "      <th>2</th>\n",
       "      <td>1</td>\n",
       "      <td>0</td>\n",
       "    </tr>\n",
       "    <tr>\n",
       "      <th>3</th>\n",
       "      <td>1</td>\n",
       "      <td>1</td>\n",
       "    </tr>\n",
       "    <tr>\n",
       "      <th>4</th>\n",
       "      <td>1</td>\n",
       "      <td>0</td>\n",
       "    </tr>\n",
       "    <tr>\n",
       "      <th>5</th>\n",
       "      <td>0</td>\n",
       "      <td>0</td>\n",
       "    </tr>\n",
       "    <tr>\n",
       "      <th>6</th>\n",
       "      <td>1</td>\n",
       "      <td>1</td>\n",
       "    </tr>\n",
       "    <tr>\n",
       "      <th>7</th>\n",
       "      <td>0</td>\n",
       "      <td>1</td>\n",
       "    </tr>\n",
       "  </tbody>\n",
       "</table>\n",
       "</div>"
      ],
      "text/plain": [
       "   A  B\n",
       "0  0  0\n",
       "1  0  1\n",
       "2  1  0\n",
       "3  1  1\n",
       "4  1  0\n",
       "5  0  0\n",
       "6  1  1\n",
       "7  0  1"
      ]
     },
     "execution_count": 3,
     "metadata": {},
     "output_type": "execute_result"
    }
   ],
   "source": [
    "# 문제데이터\n",
    "dataFrame[[\"A\",\"B\"]]\n",
    "dataFrame.iloc[:,0:2]\n",
    "X = dataFrame.loc[:,['A','B']]\n",
    "\n",
    "# 정답데이터\n",
    "y = dataFrame.loc[:,[\"AandB\"]]\n",
    "X"
   ]
  },
  {
   "cell_type": "markdown",
   "id": "afc26245",
   "metadata": {
    "ExecuteTime": {
     "end_time": "2023-08-21T03:28:11.866528Z",
     "start_time": "2023-08-21T03:28:11.861170Z"
    }
   },
   "source": [
    "## 학습을 위해 문제데이터를 훈련용 데이터와 테스트용 데이터로 분할\n",
    "- 훈련 ==> 학습용\n",
    "- 테스트 ==> 검증용"
   ]
  },
  {
   "cell_type": "code",
   "execution_count": 4,
   "id": "d8013a7c",
   "metadata": {
    "ExecuteTime": {
     "end_time": "2023-08-22T00:32:35.640232Z",
     "start_time": "2023-08-22T00:32:35.628548Z"
    }
   },
   "outputs": [],
   "source": [
    "# 훈련용과 테스트용 분할  (7:3으로 자주사용)\n",
    "# 훈련데이터 X,y: 0~5번까지 포함해서 행 슬라이싱\n",
    "# 테스트 데이터 X,y: 6~7번까지 포함해서 행 슬라이싱\n",
    "X_train = X.loc[:5, :] #훈련용 문제\n",
    "X_test =  X.loc[6:, :] #테스트용 문제\n",
    "y_train = y.loc[:5, :] #훈련용 정답\n",
    "y_test = y.loc[6:, :] #테스트용 정답 "
   ]
  },
  {
   "cell_type": "code",
   "execution_count": 5,
   "id": "ca138e5d",
   "metadata": {
    "ExecuteTime": {
     "end_time": "2023-08-22T00:32:35.655289Z",
     "start_time": "2023-08-22T00:32:35.642226Z"
    }
   },
   "outputs": [
    {
     "name": "stdout",
     "output_type": "stream",
     "text": [
      "훈련용 문제 : (6, 2)\n",
      "검증용 문제 : (2, 2)\n",
      "훈련용 정답 : (6, 1)\n",
      "검증용 정답 : (2, 1)\n"
     ]
    }
   ],
   "source": [
    "# 데이터 크기 확인 -> .shape \n",
    "print(\"훈련용 문제 :\",X_train.shape)\n",
    "print(\"검증용 문제 :\",X_test.shape)\n",
    "print(\"훈련용 정답 :\",y_train.shape)\n",
    "print(\"검증용 정답 :\",y_test.shape)"
   ]
  },
  {
   "cell_type": "markdown",
   "id": "575c4c25",
   "metadata": {},
   "source": [
    "- 전처리 다음단계가 탐색적 데이터분석(데이터 시각화 확인) 이지만 데이터가 간략하기 때문에 생략"
   ]
  },
  {
   "cell_type": "markdown",
   "id": "db0b2999",
   "metadata": {},
   "source": [
    "# 머신러닝 모델 학습하기\n"
   ]
  },
  {
   "cell_type": "markdown",
   "id": "f7d6c307",
   "metadata": {},
   "source": [
    "## 학습하기 위한 머신러닝 모델 불러오기"
   ]
  },
  {
   "cell_type": "code",
   "execution_count": 6,
   "id": "a0887eea",
   "metadata": {
    "ExecuteTime": {
     "end_time": "2023-08-22T00:32:39.680467Z",
     "start_time": "2023-08-22T00:32:35.656791Z"
    }
   },
   "outputs": [
    {
     "name": "stdout",
     "output_type": "stream",
     "text": [
      "Requirement already satisfied: scikit-learn in c:\\users\\gjaischool\\anaconda3\\lib\\site-packages (1.2.1)\n",
      "Requirement already satisfied: numpy>=1.17.3 in c:\\users\\gjaischool\\anaconda3\\lib\\site-packages (from scikit-learn) (1.23.5)\n",
      "Requirement already satisfied: threadpoolctl>=2.0.0 in c:\\users\\gjaischool\\anaconda3\\lib\\site-packages (from scikit-learn) (2.2.0)\n",
      "Requirement already satisfied: scipy>=1.3.2 in c:\\users\\gjaischool\\anaconda3\\lib\\site-packages (from scikit-learn) (1.10.0)\n",
      "Requirement already satisfied: joblib>=1.1.1 in c:\\users\\gjaischool\\anaconda3\\lib\\site-packages (from scikit-learn) (1.1.1)\n",
      "Note: you may need to restart the kernel to use updated packages.\n"
     ]
    }
   ],
   "source": [
    "pip install scikit-learn"
   ]
  },
  {
   "cell_type": "code",
   "execution_count": 7,
   "id": "fa9dc9ba",
   "metadata": {
    "ExecuteTime": {
     "end_time": "2023-08-22T00:32:40.396515Z",
     "start_time": "2023-08-22T00:32:39.682455Z"
    }
   },
   "outputs": [],
   "source": [
    "# scikit-learn 머신러닝용 패키지 라이브러리 p\n",
    "from sklearn.neighbors import KNeighborsClassifier # KNN 분류모델 "
   ]
  },
  {
   "cell_type": "markdown",
   "id": "d5fd555b",
   "metadata": {
    "ExecuteTime": {
     "end_time": "2023-08-22T00:21:01.748502Z",
     "start_time": "2023-08-22T00:21:01.742750Z"
    }
   },
   "source": [
    "## 모델 생성 및 하이퍼파리미터 정의 "
   ]
  },
  {
   "cell_type": "code",
   "execution_count": 8,
   "id": "733f5e6b",
   "metadata": {
    "ExecuteTime": {
     "end_time": "2023-08-22T00:32:40.412261Z",
     "start_time": "2023-08-22T00:32:40.398512Z"
    }
   },
   "outputs": [],
   "source": [
    "# 클래스이므로 소괄호안에서 shift + tab ==> class 내부에서 사용할 수 있는 속성을 확인할 수 있음.\n",
    "knn_model = KNeighborsClassifier(n_neighbors=1)\n",
    "#n_neighbors : 하이퍼파라미터(사용자가 입력하는 매개변수 기본값은 5)\n",
    "# 하이퍼 파라미터의 값에 따라 모델의 학습 결과가 달라진다. \n",
    "# 가장 가까운 이웃 1개의 실제 답만 확인하겠음. \n",
    "#==> 가장 가까운 이웃들의 답을 확인하고 그 답이 내것인것처럼 사용하겠다."
   ]
  },
  {
   "cell_type": "markdown",
   "id": "55d154a7",
   "metadata": {
    "ExecuteTime": {
     "end_time": "2023-08-22T00:28:53.885528Z",
     "start_time": "2023-08-22T00:28:53.869557Z"
    }
   },
   "source": [
    "## 모델 학습 "
   ]
  },
  {
   "cell_type": "code",
   "execution_count": 9,
   "id": "7137da32",
   "metadata": {
    "ExecuteTime": {
     "end_time": "2023-08-22T00:32:40.428769Z",
     "start_time": "2023-08-22T00:32:40.414251Z"
    }
   },
   "outputs": [
    {
     "name": "stderr",
     "output_type": "stream",
     "text": [
      "C:\\Users\\gjaischool\\anaconda3\\lib\\site-packages\\sklearn\\neighbors\\_classification.py:215: DataConversionWarning: A column-vector y was passed when a 1d array was expected. Please change the shape of y to (n_samples,), for example using ravel().\n",
      "  return self._fit(X, y)\n"
     ]
    },
    {
     "data": {
      "text/html": [
       "<style>#sk-container-id-1 {color: black;background-color: white;}#sk-container-id-1 pre{padding: 0;}#sk-container-id-1 div.sk-toggleable {background-color: white;}#sk-container-id-1 label.sk-toggleable__label {cursor: pointer;display: block;width: 100%;margin-bottom: 0;padding: 0.3em;box-sizing: border-box;text-align: center;}#sk-container-id-1 label.sk-toggleable__label-arrow:before {content: \"▸\";float: left;margin-right: 0.25em;color: #696969;}#sk-container-id-1 label.sk-toggleable__label-arrow:hover:before {color: black;}#sk-container-id-1 div.sk-estimator:hover label.sk-toggleable__label-arrow:before {color: black;}#sk-container-id-1 div.sk-toggleable__content {max-height: 0;max-width: 0;overflow: hidden;text-align: left;background-color: #f0f8ff;}#sk-container-id-1 div.sk-toggleable__content pre {margin: 0.2em;color: black;border-radius: 0.25em;background-color: #f0f8ff;}#sk-container-id-1 input.sk-toggleable__control:checked~div.sk-toggleable__content {max-height: 200px;max-width: 100%;overflow: auto;}#sk-container-id-1 input.sk-toggleable__control:checked~label.sk-toggleable__label-arrow:before {content: \"▾\";}#sk-container-id-1 div.sk-estimator input.sk-toggleable__control:checked~label.sk-toggleable__label {background-color: #d4ebff;}#sk-container-id-1 div.sk-label input.sk-toggleable__control:checked~label.sk-toggleable__label {background-color: #d4ebff;}#sk-container-id-1 input.sk-hidden--visually {border: 0;clip: rect(1px 1px 1px 1px);clip: rect(1px, 1px, 1px, 1px);height: 1px;margin: -1px;overflow: hidden;padding: 0;position: absolute;width: 1px;}#sk-container-id-1 div.sk-estimator {font-family: monospace;background-color: #f0f8ff;border: 1px dotted black;border-radius: 0.25em;box-sizing: border-box;margin-bottom: 0.5em;}#sk-container-id-1 div.sk-estimator:hover {background-color: #d4ebff;}#sk-container-id-1 div.sk-parallel-item::after {content: \"\";width: 100%;border-bottom: 1px solid gray;flex-grow: 1;}#sk-container-id-1 div.sk-label:hover label.sk-toggleable__label {background-color: #d4ebff;}#sk-container-id-1 div.sk-serial::before {content: \"\";position: absolute;border-left: 1px solid gray;box-sizing: border-box;top: 0;bottom: 0;left: 50%;z-index: 0;}#sk-container-id-1 div.sk-serial {display: flex;flex-direction: column;align-items: center;background-color: white;padding-right: 0.2em;padding-left: 0.2em;position: relative;}#sk-container-id-1 div.sk-item {position: relative;z-index: 1;}#sk-container-id-1 div.sk-parallel {display: flex;align-items: stretch;justify-content: center;background-color: white;position: relative;}#sk-container-id-1 div.sk-item::before, #sk-container-id-1 div.sk-parallel-item::before {content: \"\";position: absolute;border-left: 1px solid gray;box-sizing: border-box;top: 0;bottom: 0;left: 50%;z-index: -1;}#sk-container-id-1 div.sk-parallel-item {display: flex;flex-direction: column;z-index: 1;position: relative;background-color: white;}#sk-container-id-1 div.sk-parallel-item:first-child::after {align-self: flex-end;width: 50%;}#sk-container-id-1 div.sk-parallel-item:last-child::after {align-self: flex-start;width: 50%;}#sk-container-id-1 div.sk-parallel-item:only-child::after {width: 0;}#sk-container-id-1 div.sk-dashed-wrapped {border: 1px dashed gray;margin: 0 0.4em 0.5em 0.4em;box-sizing: border-box;padding-bottom: 0.4em;background-color: white;}#sk-container-id-1 div.sk-label label {font-family: monospace;font-weight: bold;display: inline-block;line-height: 1.2em;}#sk-container-id-1 div.sk-label-container {text-align: center;}#sk-container-id-1 div.sk-container {/* jupyter's `normalize.less` sets `[hidden] { display: none; }` but bootstrap.min.css set `[hidden] { display: none !important; }` so we also need the `!important` here to be able to override the default hidden behavior on the sphinx rendered scikit-learn.org. See: https://github.com/scikit-learn/scikit-learn/issues/21755 */display: inline-block !important;position: relative;}#sk-container-id-1 div.sk-text-repr-fallback {display: none;}</style><div id=\"sk-container-id-1\" class=\"sk-top-container\"><div class=\"sk-text-repr-fallback\"><pre>KNeighborsClassifier(n_neighbors=1)</pre><b>In a Jupyter environment, please rerun this cell to show the HTML representation or trust the notebook. <br />On GitHub, the HTML representation is unable to render, please try loading this page with nbviewer.org.</b></div><div class=\"sk-container\" hidden><div class=\"sk-item\"><div class=\"sk-estimator sk-toggleable\"><input class=\"sk-toggleable__control sk-hidden--visually\" id=\"sk-estimator-id-1\" type=\"checkbox\" checked><label for=\"sk-estimator-id-1\" class=\"sk-toggleable__label sk-toggleable__label-arrow\">KNeighborsClassifier</label><div class=\"sk-toggleable__content\"><pre>KNeighborsClassifier(n_neighbors=1)</pre></div></div></div></div></div>"
      ],
      "text/plain": [
       "KNeighborsClassifier(n_neighbors=1)"
      ]
     },
     "execution_count": 9,
     "metadata": {},
     "output_type": "execute_result"
    }
   ],
   "source": [
    "# 모델학습 --> fit()\n",
    "#fit의 역할 -> 학습을 통해 데이터 패턴, 성향 파악해서 규칙을 생성함.\n",
    "#fit(훈련용 문제, 훈련용 정답) \n",
    "# 위의 있는 값 1을 기반으로 훈련용 문제와 훈련용 정답을 통해 훈련시킴\n",
    "knn_model.fit(X_train, y_train) #훈련용 데이터에 맞춰서 학습 ( 지도학습 - 문제, 답)"
   ]
  },
  {
   "cell_type": "markdown",
   "id": "6ca285a2",
   "metadata": {
    "ExecuteTime": {
     "end_time": "2023-08-22T00:34:45.599388Z",
     "start_time": "2023-08-22T00:34:45.591886Z"
    },
    "code_folding": []
   },
   "source": [
    "## AND 연산 예측"
   ]
  },
  {
   "cell_type": "code",
   "execution_count": 39,
   "id": "97c8decd",
   "metadata": {
    "ExecuteTime": {
     "end_time": "2023-08-22T00:38:57.236022Z",
     "start_time": "2023-08-22T00:38:57.221845Z"
    }
   },
   "outputs": [
    {
     "data": {
      "text/html": [
       "<div>\n",
       "<style scoped>\n",
       "    .dataframe tbody tr th:only-of-type {\n",
       "        vertical-align: middle;\n",
       "    }\n",
       "\n",
       "    .dataframe tbody tr th {\n",
       "        vertical-align: top;\n",
       "    }\n",
       "\n",
       "    .dataframe thead th {\n",
       "        text-align: right;\n",
       "    }\n",
       "</style>\n",
       "<table border=\"1\" class=\"dataframe\">\n",
       "  <thead>\n",
       "    <tr style=\"text-align: right;\">\n",
       "      <th></th>\n",
       "      <th>A</th>\n",
       "      <th>B</th>\n",
       "    </tr>\n",
       "  </thead>\n",
       "  <tbody>\n",
       "    <tr>\n",
       "      <th>6</th>\n",
       "      <td>1</td>\n",
       "      <td>1</td>\n",
       "    </tr>\n",
       "    <tr>\n",
       "      <th>7</th>\n",
       "      <td>0</td>\n",
       "      <td>1</td>\n",
       "    </tr>\n",
       "  </tbody>\n",
       "</table>\n",
       "</div>"
      ],
      "text/plain": [
       "   A  B\n",
       "6  1  1\n",
       "7  0  1"
      ]
     },
     "execution_count": 39,
     "metadata": {},
     "output_type": "execute_result"
    }
   ],
   "source": [
    "X_test"
   ]
  },
  {
   "cell_type": "code",
   "execution_count": 38,
   "id": "0e969c9d",
   "metadata": {
    "ExecuteTime": {
     "end_time": "2023-08-22T00:38:29.893939Z",
     "start_time": "2023-08-22T00:38:29.871190Z"
    }
   },
   "outputs": [
    {
     "data": {
      "text/plain": [
       "array([1, 0], dtype=int64)"
      ]
     },
     "execution_count": 38,
     "metadata": {},
     "output_type": "execute_result"
    }
   ],
   "source": [
    "# predict(테스트용 문제)\n",
    "# and 연산 예측\n",
    "# 0, 0 --> 0\n",
    "# 1, 1 --> 1\n",
    "# 0 , 1 --> 1 이라면 오답\n",
    "\n",
    "knn_model.predict(X_test)\n",
    "\n",
    "\n",
    "pre = knn_model.predict(X_test) # 결과를 활용하기 위해 변수에 담기, 예측값이 됨.\n",
    "pre"
   ]
  },
  {
   "cell_type": "code",
   "execution_count": 40,
   "id": "b361dd9d",
   "metadata": {
    "ExecuteTime": {
     "end_time": "2023-08-22T00:39:29.395796Z",
     "start_time": "2023-08-22T00:39:29.375980Z"
    }
   },
   "outputs": [
    {
     "data": {
      "text/html": [
       "<div>\n",
       "<style scoped>\n",
       "    .dataframe tbody tr th:only-of-type {\n",
       "        vertical-align: middle;\n",
       "    }\n",
       "\n",
       "    .dataframe tbody tr th {\n",
       "        vertical-align: top;\n",
       "    }\n",
       "\n",
       "    .dataframe thead th {\n",
       "        text-align: right;\n",
       "    }\n",
       "</style>\n",
       "<table border=\"1\" class=\"dataframe\">\n",
       "  <thead>\n",
       "    <tr style=\"text-align: right;\">\n",
       "      <th></th>\n",
       "      <th>AandB</th>\n",
       "    </tr>\n",
       "  </thead>\n",
       "  <tbody>\n",
       "    <tr>\n",
       "      <th>6</th>\n",
       "      <td>1</td>\n",
       "    </tr>\n",
       "    <tr>\n",
       "      <th>7</th>\n",
       "      <td>0</td>\n",
       "    </tr>\n",
       "  </tbody>\n",
       "</table>\n",
       "</div>"
      ],
      "text/plain": [
       "   AandB\n",
       "6      1\n",
       "7      0"
      ]
     },
     "execution_count": 40,
     "metadata": {},
     "output_type": "execute_result"
    }
   ],
   "source": [
    "y_test"
   ]
  },
  {
   "cell_type": "markdown",
   "id": "6213dea6",
   "metadata": {},
   "source": [
    "# 평가"
   ]
  },
  {
   "cell_type": "markdown",
   "id": "04e93614",
   "metadata": {},
   "source": [
    "## 모델 평가하는 모듈 불러오기"
   ]
  },
  {
   "cell_type": "code",
   "execution_count": 42,
   "id": "cdb5775f",
   "metadata": {
    "ExecuteTime": {
     "end_time": "2023-08-22T00:41:51.601051Z",
     "start_time": "2023-08-22T00:41:51.583367Z"
    }
   },
   "outputs": [],
   "source": [
    "from sklearn.metrics import accuracy_score\n",
    "# sklearn.metrics : 예측값을 평가하는 모듈 ,  accuracy_scorec :점황도 점수 (모델의 성능을 평가하는 지표 )"
   ]
  },
  {
   "cell_type": "code",
   "execution_count": 44,
   "id": "8da2d987",
   "metadata": {
    "ExecuteTime": {
     "end_time": "2023-08-22T00:45:56.032946Z",
     "start_time": "2023-08-22T00:45:56.025369Z"
    }
   },
   "outputs": [
    {
     "data": {
      "text/plain": [
       "1.0"
      ]
     },
     "execution_count": 44,
     "metadata": {},
     "output_type": "execute_result"
    }
   ],
   "source": [
    "# 정확도 판별, 정확도 : 0 -> 0 잘맞춘 케이스\n",
    "#                       1 -> 1 오류\n",
    "# accuracy_score : KNN 모델이 가지고 있는 함수가 아니고 그냥 함수 자체적으로 역할을 함, 0.0 ~ 1.0\n",
    "# accuracy_score(실제 정답, 예측 값(pre변수 활용))\n",
    "accuracy_score(y_test, pre) # 확률정보로 값을 표시해줌. 1.0 => 100% 맞췄다는 의미\n",
    "# 0.0에 가까울 수록 모델의 성능이 좋지 못하다.\n",
    "# 1.0에 가까울 수록 모델의 성능이 나름대로 괜찮음."
   ]
  },
  {
   "cell_type": "code",
   "execution_count": null,
   "id": "2d459c76",
   "metadata": {},
   "outputs": [],
   "source": []
  },
  {
   "cell_type": "code",
   "execution_count": null,
   "id": "f044458b",
   "metadata": {},
   "outputs": [],
   "source": []
  },
  {
   "cell_type": "code",
   "execution_count": null,
   "id": "0b89e0b0",
   "metadata": {},
   "outputs": [],
   "source": []
  },
  {
   "cell_type": "code",
   "execution_count": null,
   "id": "fb2586ee",
   "metadata": {},
   "outputs": [],
   "source": []
  },
  {
   "cell_type": "code",
   "execution_count": null,
   "id": "3c2d2fee",
   "metadata": {},
   "outputs": [],
   "source": []
  }
 ],
 "metadata": {
  "kernelspec": {
   "display_name": "Python 3 (ipykernel)",
   "language": "python",
   "name": "python3"
  },
  "language_info": {
   "codemirror_mode": {
    "name": "ipython",
    "version": 3
   },
   "file_extension": ".py",
   "mimetype": "text/x-python",
   "name": "python",
   "nbconvert_exporter": "python",
   "pygments_lexer": "ipython3",
   "version": "3.10.9"
  },
  "toc": {
   "base_numbering": 1,
   "nav_menu": {},
   "number_sections": true,
   "sideBar": true,
   "skip_h1_title": false,
   "title_cell": "Table of Contents",
   "title_sidebar": "Contents",
   "toc_cell": false,
   "toc_position": {
    "height": "calc(100% - 180px)",
    "left": "10px",
    "top": "150px",
    "width": "165px"
   },
   "toc_section_display": true,
   "toc_window_display": true
  },
  "vscode": {
   "interpreter": {
    "hash": "aee8b7b246df8f9039afb4144a1f6fd8d2ca17a180786b69acc140d282b71a49"
   }
  }
 },
 "nbformat": 4,
 "nbformat_minor": 5
}
