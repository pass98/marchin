{
 "cells": [
  {
   "cell_type": "markdown",
   "id": "18edae74",
   "metadata": {},
   "source": [
    "###  선형회귀 이해하기\n",
    "- 성적 데이터를 기반으로 선형회귀를 이해해보자"
   ]
  },
  {
   "cell_type": "markdown",
   "id": "a46cedfd",
   "metadata": {},
   "source": [
    "- 선형모델 \n",
    "    : 입력 데이터를 설명할 수있는 선형 함수를 구하는 것\n",
    "    : 선형함수 기본식\n",
    "    : 문제가 1개 ==> y = wx + b\n",
    "    : 문제가 p개 ==> y = w1x1 + w2x2 + ... + wpxp + b\n",
    "    : 입력 데이터를 완벽하게 설명하는 선형함수를 찾는 것은 불가능 \n",
    "          ==> 오차가 가장 작은 선형함수 찾자 : MSE가 가장 작은 선형함수가 최선의 선형함수\n",
    "          그릴 수 있는 선형함수의 수가 무한대이기 때문에 모든 선형함수의 오차를 계산할 수 없음."
   ]
  },
  {
   "cell_type": "code",
   "execution_count": 1,
   "id": "89aa2c74",
   "metadata": {
    "ExecuteTime": {
     "end_time": "2023-09-04T01:29:21.570213Z",
     "start_time": "2023-09-04T01:29:20.478765Z"
    }
   },
   "outputs": [],
   "source": [
    "# 성적데이터 생서을 위한 라이브러리 꺼내오기\n",
    "import pandas as pd \n",
    "import matplotlib.pyplot as plt"
   ]
  },
  {
   "cell_type": "code",
   "execution_count": 2,
   "id": "c2ef271f",
   "metadata": {
    "ExecuteTime": {
     "end_time": "2023-09-04T01:29:21.585207Z",
     "start_time": "2023-09-04T01:29:21.572206Z"
    }
   },
   "outputs": [],
   "source": [
    "# 성적데이터 생성\n",
    "data = pd.DataFrame([[2, 20],[4,40],[8,80],[9,90]],\n",
    "            index = ['명인','한수','보원','한솔'],\n",
    "            columns=['시간','성적'])"
   ]
  },
  {
   "cell_type": "code",
   "execution_count": 3,
   "id": "91426337",
   "metadata": {
    "ExecuteTime": {
     "end_time": "2023-09-04T01:29:21.601167Z",
     "start_time": "2023-09-04T01:29:21.586200Z"
    }
   },
   "outputs": [
    {
     "data": {
      "text/html": [
       "<div>\n",
       "<style scoped>\n",
       "    .dataframe tbody tr th:only-of-type {\n",
       "        vertical-align: middle;\n",
       "    }\n",
       "\n",
       "    .dataframe tbody tr th {\n",
       "        vertical-align: top;\n",
       "    }\n",
       "\n",
       "    .dataframe thead th {\n",
       "        text-align: right;\n",
       "    }\n",
       "</style>\n",
       "<table border=\"1\" class=\"dataframe\">\n",
       "  <thead>\n",
       "    <tr style=\"text-align: right;\">\n",
       "      <th></th>\n",
       "      <th>시간</th>\n",
       "      <th>성적</th>\n",
       "    </tr>\n",
       "  </thead>\n",
       "  <tbody>\n",
       "    <tr>\n",
       "      <th>명인</th>\n",
       "      <td>2</td>\n",
       "      <td>20</td>\n",
       "    </tr>\n",
       "    <tr>\n",
       "      <th>한수</th>\n",
       "      <td>4</td>\n",
       "      <td>40</td>\n",
       "    </tr>\n",
       "    <tr>\n",
       "      <th>보원</th>\n",
       "      <td>8</td>\n",
       "      <td>80</td>\n",
       "    </tr>\n",
       "    <tr>\n",
       "      <th>한솔</th>\n",
       "      <td>9</td>\n",
       "      <td>90</td>\n",
       "    </tr>\n",
       "  </tbody>\n",
       "</table>\n",
       "</div>"
      ],
      "text/plain": [
       "    시간  성적\n",
       "명인   2  20\n",
       "한수   4  40\n",
       "보원   8  80\n",
       "한솔   9  90"
      ]
     },
     "execution_count": 3,
     "metadata": {},
     "output_type": "execute_result"
    }
   ],
   "source": [
    "data"
   ]
  },
  {
   "cell_type": "markdown",
   "id": "a05457d2",
   "metadata": {},
   "source": [
    "### MSE가 최소가 되는 최적의 w,b를 찾는 방법\n",
    "- MSE : 평균제곱오차(mean squeared error) --> 비용함수(cost)\n",
    "- 1. 수학 공식을 이용한 해석적 모델 : LinearRegression\n",
    "- 2. 경사하강법 : SGDRegressor --> XGBoost에서 오차를 계산하는 방법"
   ]
  },
  {
   "cell_type": "markdown",
   "id": "171b7cbf",
   "metadata": {},
   "source": [
    "### 수학 공식을 이용한 해석적 모델\n",
    "- LinearREgression\n",
    "- 공식을 이용해서 적은 계싼으로 한번에 최적의 선형함수를 찾는 방법 ==> 장점\n",
    "- 공식이 완벽하지 않을 경우 최적의 선형함수를 잘 못 찾을 수도 있고, => 단점\n",
    "- 공식이 잘못되었을 때 고칠 수 없다는 문제가 있음. -> 나중에 규제를 걸 예정\n"
   ]
  },
  {
   "cell_type": "code",
   "execution_count": 4,
   "id": "b147ce6a",
   "metadata": {
    "ExecuteTime": {
     "end_time": "2023-09-04T01:29:22.622276Z",
     "start_time": "2023-09-04T01:29:21.603154Z"
    }
   },
   "outputs": [
    {
     "data": {
      "text/html": [
       "<style>#sk-container-id-1 {color: black;background-color: white;}#sk-container-id-1 pre{padding: 0;}#sk-container-id-1 div.sk-toggleable {background-color: white;}#sk-container-id-1 label.sk-toggleable__label {cursor: pointer;display: block;width: 100%;margin-bottom: 0;padding: 0.3em;box-sizing: border-box;text-align: center;}#sk-container-id-1 label.sk-toggleable__label-arrow:before {content: \"▸\";float: left;margin-right: 0.25em;color: #696969;}#sk-container-id-1 label.sk-toggleable__label-arrow:hover:before {color: black;}#sk-container-id-1 div.sk-estimator:hover label.sk-toggleable__label-arrow:before {color: black;}#sk-container-id-1 div.sk-toggleable__content {max-height: 0;max-width: 0;overflow: hidden;text-align: left;background-color: #f0f8ff;}#sk-container-id-1 div.sk-toggleable__content pre {margin: 0.2em;color: black;border-radius: 0.25em;background-color: #f0f8ff;}#sk-container-id-1 input.sk-toggleable__control:checked~div.sk-toggleable__content {max-height: 200px;max-width: 100%;overflow: auto;}#sk-container-id-1 input.sk-toggleable__control:checked~label.sk-toggleable__label-arrow:before {content: \"▾\";}#sk-container-id-1 div.sk-estimator input.sk-toggleable__control:checked~label.sk-toggleable__label {background-color: #d4ebff;}#sk-container-id-1 div.sk-label input.sk-toggleable__control:checked~label.sk-toggleable__label {background-color: #d4ebff;}#sk-container-id-1 input.sk-hidden--visually {border: 0;clip: rect(1px 1px 1px 1px);clip: rect(1px, 1px, 1px, 1px);height: 1px;margin: -1px;overflow: hidden;padding: 0;position: absolute;width: 1px;}#sk-container-id-1 div.sk-estimator {font-family: monospace;background-color: #f0f8ff;border: 1px dotted black;border-radius: 0.25em;box-sizing: border-box;margin-bottom: 0.5em;}#sk-container-id-1 div.sk-estimator:hover {background-color: #d4ebff;}#sk-container-id-1 div.sk-parallel-item::after {content: \"\";width: 100%;border-bottom: 1px solid gray;flex-grow: 1;}#sk-container-id-1 div.sk-label:hover label.sk-toggleable__label {background-color: #d4ebff;}#sk-container-id-1 div.sk-serial::before {content: \"\";position: absolute;border-left: 1px solid gray;box-sizing: border-box;top: 0;bottom: 0;left: 50%;z-index: 0;}#sk-container-id-1 div.sk-serial {display: flex;flex-direction: column;align-items: center;background-color: white;padding-right: 0.2em;padding-left: 0.2em;position: relative;}#sk-container-id-1 div.sk-item {position: relative;z-index: 1;}#sk-container-id-1 div.sk-parallel {display: flex;align-items: stretch;justify-content: center;background-color: white;position: relative;}#sk-container-id-1 div.sk-item::before, #sk-container-id-1 div.sk-parallel-item::before {content: \"\";position: absolute;border-left: 1px solid gray;box-sizing: border-box;top: 0;bottom: 0;left: 50%;z-index: -1;}#sk-container-id-1 div.sk-parallel-item {display: flex;flex-direction: column;z-index: 1;position: relative;background-color: white;}#sk-container-id-1 div.sk-parallel-item:first-child::after {align-self: flex-end;width: 50%;}#sk-container-id-1 div.sk-parallel-item:last-child::after {align-self: flex-start;width: 50%;}#sk-container-id-1 div.sk-parallel-item:only-child::after {width: 0;}#sk-container-id-1 div.sk-dashed-wrapped {border: 1px dashed gray;margin: 0 0.4em 0.5em 0.4em;box-sizing: border-box;padding-bottom: 0.4em;background-color: white;}#sk-container-id-1 div.sk-label label {font-family: monospace;font-weight: bold;display: inline-block;line-height: 1.2em;}#sk-container-id-1 div.sk-label-container {text-align: center;}#sk-container-id-1 div.sk-container {/* jupyter's `normalize.less` sets `[hidden] { display: none; }` but bootstrap.min.css set `[hidden] { display: none !important; }` so we also need the `!important` here to be able to override the default hidden behavior on the sphinx rendered scikit-learn.org. See: https://github.com/scikit-learn/scikit-learn/issues/21755 */display: inline-block !important;position: relative;}#sk-container-id-1 div.sk-text-repr-fallback {display: none;}</style><div id=\"sk-container-id-1\" class=\"sk-top-container\"><div class=\"sk-text-repr-fallback\"><pre>LinearRegression()</pre><b>In a Jupyter environment, please rerun this cell to show the HTML representation or trust the notebook. <br />On GitHub, the HTML representation is unable to render, please try loading this page with nbviewer.org.</b></div><div class=\"sk-container\" hidden><div class=\"sk-item\"><div class=\"sk-estimator sk-toggleable\"><input class=\"sk-toggleable__control sk-hidden--visually\" id=\"sk-estimator-id-1\" type=\"checkbox\" checked><label for=\"sk-estimator-id-1\" class=\"sk-toggleable__label sk-toggleable__label-arrow\">LinearRegression</label><div class=\"sk-toggleable__content\"><pre>LinearRegression()</pre></div></div></div></div></div>"
      ],
      "text/plain": [
       "LinearRegression()"
      ]
     },
     "execution_count": 4,
     "metadata": {},
     "output_type": "execute_result"
    }
   ],
   "source": [
    "from sklearn.linear_model import LinearRegression\n",
    "\n",
    "# 모델 생성\n",
    "lm = LinearRegression()\n",
    "\n",
    "# 학습\n",
    "lm.fit(data[['시간']], data['성적']) # 문제는 2차원, 정답은 1차원"
   ]
  },
  {
   "cell_type": "code",
   "execution_count": 22,
   "id": "0d63883f",
   "metadata": {
    "ExecuteTime": {
     "end_time": "2023-09-04T01:32:45.764323Z",
     "start_time": "2023-09-04T01:32:45.744850Z"
    }
   },
   "outputs": [
    {
     "ename": "NameError",
     "evalue": "name 'x' is not defined",
     "output_type": "error",
     "traceback": [
      "\u001b[1;31m---------------------------------------------------------------------------\u001b[0m",
      "\u001b[1;31mNameError\u001b[0m                                 Traceback (most recent call last)",
      "Cell \u001b[1;32mIn[22], line 1\u001b[0m\n\u001b[1;32m----> 1\u001b[0m y \u001b[38;5;241m=\u001b[39m \u001b[43mx\u001b[49m \u001b[38;5;241m+\u001b[39m b\n",
      "\u001b[1;31mNameError\u001b[0m: name 'x' is not defined"
     ]
    }
   ],
   "source": [
    " y = wx + b #(1개의 문제)"
   ]
  },
  {
   "cell_type": "code",
   "execution_count": 17,
   "id": "40422f1d",
   "metadata": {
    "ExecuteTime": {
     "end_time": "2023-09-04T01:31:18.941886Z",
     "start_time": "2023-09-04T01:31:18.925938Z"
    }
   },
   "outputs": [
    {
     "name": "stdout",
     "output_type": "stream",
     "text": [
      "기울기, 가중치 : [10.]\n",
      "절편,편향 :  7.105427357601002e-15\n"
     ]
    }
   ],
   "source": [
    "# 기울기, 가중치 출력\n",
    "print('기울기, 가중치 :', lm.coef_)\n",
    "\n",
    "\n",
    "# 절편, 편향 출력 \n",
    "print('절편,편향 : ', lm.intercept_)"
   ]
  },
  {
   "cell_type": "code",
   "execution_count": 10,
   "id": "acf95860",
   "metadata": {
    "ExecuteTime": {
     "end_time": "2023-09-04T01:30:22.764783Z",
     "start_time": "2023-09-04T01:30:22.757833Z"
    },
    "scrolled": true
   },
   "outputs": [
    {
     "name": "stderr",
     "output_type": "stream",
     "text": [
      "C:\\Users\\gjaischool\\anaconda3\\lib\\site-packages\\sklearn\\base.py:420: UserWarning: X does not have valid feature names, but LinearRegression was fitted with feature names\n",
      "  warnings.warn(\n"
     ]
    },
    {
     "data": {
      "text/plain": [
       "array([70.])"
      ]
     },
     "execution_count": 10,
     "metadata": {},
     "output_type": "execute_result"
    }
   ],
   "source": [
    "# 수환씨가 7시간 공부했을 때 몇 점? - 예측\n",
    "lm.predict([[7]])"
   ]
  },
  {
   "cell_type": "markdown",
   "id": "b2113094",
   "metadata": {},
   "source": [
    "#### H(x)\n",
    "- 가설함수"
   ]
  },
  {
   "cell_type": "code",
   "execution_count": 18,
   "id": "c5882e04",
   "metadata": {
    "ExecuteTime": {
     "end_time": "2023-09-04T01:31:21.364792Z",
     "start_time": "2023-09-04T01:31:21.350871Z"
    }
   },
   "outputs": [],
   "source": [
    "# 함수 정의\n",
    "def h(w, x):\n",
    "    return w*x + 0"
   ]
  },
  {
   "cell_type": "markdown",
   "id": "f21fa4c5",
   "metadata": {},
   "source": [
    "#### 비용함수(Cost function)\n",
    "- 비용함수"
   ]
  },
  {
   "cell_type": "code",
   "execution_count": 26,
   "id": "08158709",
   "metadata": {
    "ExecuteTime": {
     "end_time": "2023-09-04T01:34:26.019068Z",
     "start_time": "2023-09-04T01:34:26.008613Z"
    }
   },
   "outputs": [],
   "source": [
    "# 비용함수 정의\n",
    "# data : 문제값\n",
    "# target : 정답(실제값)\n",
    "# weight : 가중치 \n",
    "\n",
    "def cost(data, target, weight) :\n",
    "    # 예측\n",
    "    y_pre= h(weight, data)\n",
    "    \n",
    "    # 평균제곱오차 = (내가 예측한 예측값 - 실제값 ** 2).mean()\n",
    "    error = ((y_pre - target) ** 2).mean() \n",
    "    return error"
   ]
  },
  {
   "cell_type": "code",
   "execution_count": 27,
   "id": "85887dd6",
   "metadata": {
    "ExecuteTime": {
     "end_time": "2023-09-04T01:34:27.589283Z",
     "start_time": "2023-09-04T01:34:27.582303Z"
    }
   },
   "outputs": [
    {
     "data": {
      "text/plain": [
       "3341.25"
      ]
     },
     "execution_count": 27,
     "metadata": {},
     "output_type": "execute_result"
    }
   ],
   "source": [
    "# 가중치에 따른 오차값 확인 \n",
    "cost(data['시간'], data['성적'], 1)"
   ]
  },
  {
   "cell_type": "code",
   "execution_count": 28,
   "id": "f9d47e56",
   "metadata": {
    "ExecuteTime": {
     "end_time": "2023-09-04T01:34:53.944649Z",
     "start_time": "2023-09-04T01:34:53.906007Z"
    }
   },
   "outputs": [
    {
     "data": {
      "text/plain": [
       "[16500.0,\n",
       " 14891.25,\n",
       " 13365.0,\n",
       " 11921.25,\n",
       " 10560.0,\n",
       " 9281.25,\n",
       " 8085.0,\n",
       " 6971.25,\n",
       " 5940.0,\n",
       " 4991.25,\n",
       " 4125.0,\n",
       " 3341.25,\n",
       " 2640.0,\n",
       " 2021.25,\n",
       " 1485.0,\n",
       " 1031.25,\n",
       " 660.0,\n",
       " 371.25,\n",
       " 165.0,\n",
       " 41.25,\n",
       " 0.0,\n",
       " 41.25,\n",
       " 165.0,\n",
       " 371.25,\n",
       " 660.0,\n",
       " 1031.25,\n",
       " 1485.0,\n",
       " 2021.25,\n",
       " 2640.0,\n",
       " 3341.25,\n",
       " 4125.0,\n",
       " 4991.25,\n",
       " 5940.0,\n",
       " 6971.25,\n",
       " 8085.0,\n",
       " 9281.25,\n",
       " 10560.0,\n",
       " 11921.25,\n",
       " 13365.0,\n",
       " 14891.25,\n",
       " 16500.0]"
      ]
     },
     "execution_count": 28,
     "metadata": {},
     "output_type": "execute_result"
    }
   ],
   "source": [
    "# 가중치 변화에 따른 비용 함수의 변화를 그래프로 확인하기 \n",
    "cost_list = []\n",
    "\n",
    "# -10 ~ 30 가중치 변화 \n",
    "for w in range(-10,31):\n",
    "   err = cost(data['시간'], data['성적'], w)\n",
    "   cost_list.append(err)\n",
    "cost_list    "
   ]
  },
  {
   "cell_type": "code",
   "execution_count": 29,
   "id": "1d130fd1",
   "metadata": {
    "ExecuteTime": {
     "end_time": "2023-09-04T01:35:50.557573Z",
     "start_time": "2023-09-04T01:35:50.347128Z"
    }
   },
   "outputs": [
    {
     "data": {
      "text/plain": [
       "[<matplotlib.lines.Line2D at 0x219cfd57e20>]"
      ]
     },
     "execution_count": 29,
     "metadata": {},
     "output_type": "execute_result"
    },
    {
     "data": {
      "image/png": "[encoded data removed]",
      "text/plain": [
       "<Figure size 640x480 with 1 Axes>"
      ]
     },
     "metadata": {},
     "output_type": "display_data"
    }
   ],
   "source": [
    "# 비용함수(MSE) 그래프 그리기\n",
    "plt.plot(range(-10,31),cost_list)"
   ]
  },
  {
   "cell_type": "code",
   "execution_count": 39,
   "id": "5dd106c5",
   "metadata": {
    "ExecuteTime": {
     "end_time": "2023-09-04T01:47:32.406660Z",
     "start_time": "2023-09-04T01:47:32.397561Z"
    }
   },
   "outputs": [
    {
     "data": {
      "text/plain": [
       "1.0"
      ]
     },
     "execution_count": 39,
     "metadata": {},
     "output_type": "execute_result"
    }
   ],
   "source": [
    "# 분류 모델 : 정확도 - score\n",
    "# 회귀 모델 : score (R2 스코어 - 유사도)\n",
    "\n",
    "lm.score(data[['시간']],data['성적'])"
   ]
  },
  {
   "cell_type": "markdown",
   "id": "1738f6cb",
   "metadata": {},
   "source": [
    "#### 경사하강법 \n",
    "- 깜깜한 산 정상에서 아래로 내려가는 방법을 찾는 바업\n",
    "- SGDRegressor \n",
    "- 점진적으로 오차가 작은 선형함수를 찾아가는 방법 \n",
    "- 오차를 수정하는 방향으로 그래프를 다시 그려줌.\n",
    "- 선형함수를 잘못 찾았을 경우 수정이 가능. ==> 장점\n",
    "- 점진적으로 찾아가므로 계산량이 많아 시간이 오래 걸림 ==> 단점\n",
    "- 학습율(learning rate)\n",
    "    - 너무 크게 설정하면 : 오차가 커짐(발산)\n",
    "    - 너무 작게 설정하면 : 국소지역점에 빠져서 최적의 해를 찾지 못함."
   ]
  },
  {
   "cell_type": "code",
   "execution_count": 33,
   "id": "dfe8a3d2",
   "metadata": {
    "ExecuteTime": {
     "end_time": "2023-09-04T01:41:39.652317Z",
     "start_time": "2023-09-04T01:41:39.624927Z"
    }
   },
   "outputs": [
    {
     "name": "stdout",
     "output_type": "stream",
     "text": [
      "-- Epoch 1\n",
      "Norm: 1.31, NNZs: 1, Bias: 0.182514, T: 4, Avg. loss: 1873.894792\n",
      "Total training time: 0.00 seconds.\n",
      "-- Epoch 2\n",
      "Norm: 2.17, NNZs: 1, Bias: 0.303291, T: 8, Avg. loss: 1450.241528\n",
      "Total training time: 0.00 seconds.\n",
      "-- Epoch 3\n",
      "Norm: 2.85, NNZs: 1, Bias: 0.399331, T: 12, Avg. loss: 1183.061713\n",
      "Total training time: 0.00 seconds.\n",
      "-- Epoch 4\n",
      "Norm: 3.43, NNZs: 1, Bias: 0.480520, T: 16, Avg. loss: 984.706432\n",
      "Total training time: 0.00 seconds.\n",
      "-- Epoch 5\n",
      "Norm: 3.94, NNZs: 1, Bias: 0.550660, T: 20, Avg. loss: 829.475348\n",
      "Total training time: 0.00 seconds.\n",
      "-- Epoch 6\n",
      "Norm: 4.38, NNZs: 1, Bias: 0.612149, T: 24, Avg. loss: 705.971803\n",
      "Total training time: 0.00 seconds.\n",
      "-- Epoch 7\n",
      "Norm: 4.77, NNZs: 1, Bias: 0.666779, T: 28, Avg. loss: 605.207432\n",
      "Total training time: 0.00 seconds.\n",
      "-- Epoch 8\n",
      "Norm: 5.12, NNZs: 1, Bias: 0.715786, T: 32, Avg. loss: 521.650618\n",
      "Total training time: 0.00 seconds.\n",
      "-- Epoch 9\n",
      "Norm: 5.44, NNZs: 1, Bias: 0.759976, T: 36, Avg. loss: 452.063539\n",
      "Total training time: 0.00 seconds.\n",
      "-- Epoch 10\n",
      "Norm: 5.73, NNZs: 1, Bias: 0.800012, T: 40, Avg. loss: 393.400238\n",
      "Total training time: 0.00 seconds.\n",
      "-- Epoch 11\n",
      "Norm: 5.99, NNZs: 1, Bias: 0.836539, T: 44, Avg. loss: 343.498241\n",
      "Total training time: 0.00 seconds.\n",
      "-- Epoch 12\n",
      "Norm: 6.23, NNZs: 1, Bias: 0.869948, T: 48, Avg. loss: 300.989273\n",
      "Total training time: 0.00 seconds.\n",
      "-- Epoch 13\n",
      "Norm: 6.45, NNZs: 1, Bias: 0.900551, T: 52, Avg. loss: 264.500476\n",
      "Total training time: 0.00 seconds.\n",
      "-- Epoch 14\n",
      "Norm: 6.66, NNZs: 1, Bias: 0.928750, T: 56, Avg. loss: 232.984675\n",
      "Total training time: 0.00 seconds.\n",
      "-- Epoch 15\n",
      "Norm: 6.84, NNZs: 1, Bias: 0.954771, T: 60, Avg. loss: 205.755352\n",
      "Total training time: 0.00 seconds.\n",
      "-- Epoch 16\n",
      "Norm: 7.02, NNZs: 1, Bias: 0.978780, T: 64, Avg. loss: 182.102360\n",
      "Total training time: 0.00 seconds.\n",
      "-- Epoch 17\n",
      "Norm: 7.18, NNZs: 1, Bias: 1.001050, T: 68, Avg. loss: 161.458130\n",
      "Total training time: 0.00 seconds.\n",
      "-- Epoch 18\n",
      "Norm: 7.33, NNZs: 1, Bias: 1.021727, T: 72, Avg. loss: 143.443090\n",
      "Total training time: 0.00 seconds.\n",
      "-- Epoch 19\n",
      "Norm: 7.47, NNZs: 1, Bias: 1.040903, T: 76, Avg. loss: 127.658328\n",
      "Total training time: 0.00 seconds.\n",
      "-- Epoch 20\n",
      "Norm: 7.60, NNZs: 1, Bias: 1.058777, T: 80, Avg. loss: 113.773773\n",
      "Total training time: 0.00 seconds.\n",
      "-- Epoch 21\n",
      "Norm: 7.72, NNZs: 1, Bias: 1.075448, T: 84, Avg. loss: 101.565885\n",
      "Total training time: 0.00 seconds.\n",
      "-- Epoch 22\n",
      "Norm: 7.83, NNZs: 1, Bias: 1.090969, T: 88, Avg. loss: 90.797812\n",
      "Total training time: 0.00 seconds.\n",
      "-- Epoch 23\n",
      "Norm: 7.94, NNZs: 1, Bias: 1.105490, T: 92, Avg. loss: 81.268017\n",
      "Total training time: 0.00 seconds.\n",
      "-- Epoch 24\n",
      "Norm: 8.04, NNZs: 1, Bias: 1.119081, T: 96, Avg. loss: 72.838816\n",
      "Total training time: 0.00 seconds.\n",
      "-- Epoch 25\n",
      "Norm: 8.13, NNZs: 1, Bias: 1.131773, T: 100, Avg. loss: 65.363833\n",
      "Total training time: 0.00 seconds.\n",
      "-- Epoch 26\n",
      "Norm: 8.22, NNZs: 1, Bias: 1.143683, T: 104, Avg. loss: 58.715491\n",
      "Total training time: 0.00 seconds.\n",
      "-- Epoch 27\n",
      "Norm: 8.30, NNZs: 1, Bias: 1.154861, T: 108, Avg. loss: 52.806078\n",
      "Total training time: 0.00 seconds.\n",
      "-- Epoch 28\n",
      "Norm: 8.38, NNZs: 1, Bias: 1.165325, T: 112, Avg. loss: 47.542332\n",
      "Total training time: 0.00 seconds.\n",
      "-- Epoch 29\n",
      "Norm: 8.45, NNZs: 1, Bias: 1.175167, T: 116, Avg. loss: 42.841204\n",
      "Total training time: 0.00 seconds.\n",
      "-- Epoch 30\n",
      "Norm: 8.52, NNZs: 1, Bias: 1.184426, T: 120, Avg. loss: 38.645310\n",
      "Total training time: 0.00 seconds.\n",
      "-- Epoch 31\n",
      "Norm: 8.58, NNZs: 1, Bias: 1.193111, T: 124, Avg. loss: 34.893789\n",
      "Total training time: 0.00 seconds.\n",
      "-- Epoch 32\n",
      "Norm: 8.64, NNZs: 1, Bias: 1.201295, T: 128, Avg. loss: 31.531344\n",
      "Total training time: 0.00 seconds.\n",
      "-- Epoch 33\n",
      "Norm: 8.70, NNZs: 1, Bias: 1.209009, T: 132, Avg. loss: 28.519615\n",
      "Total training time: 0.00 seconds.\n",
      "-- Epoch 34\n",
      "Norm: 8.75, NNZs: 1, Bias: 1.216257, T: 136, Avg. loss: 25.818106\n",
      "Total training time: 0.00 seconds.\n",
      "-- Epoch 35\n",
      "Norm: 8.80, NNZs: 1, Bias: 1.223098, T: 140, Avg. loss: 23.389305\n",
      "Total training time: 0.00 seconds.\n",
      "-- Epoch 36\n",
      "Norm: 8.85, NNZs: 1, Bias: 1.229556, T: 144, Avg. loss: 21.207101\n",
      "Total training time: 0.00 seconds.\n",
      "-- Epoch 37\n",
      "Norm: 8.90, NNZs: 1, Bias: 1.235631, T: 148, Avg. loss: 19.244114\n",
      "Total training time: 0.00 seconds.\n",
      "-- Epoch 38\n",
      "Norm: 8.94, NNZs: 1, Bias: 1.241374, T: 152, Avg. loss: 17.474495\n",
      "Total training time: 0.00 seconds.\n",
      "-- Epoch 39\n",
      "Norm: 8.98, NNZs: 1, Bias: 1.246802, T: 156, Avg. loss: 15.880190\n",
      "Total training time: 0.00 seconds.\n",
      "-- Epoch 40\n",
      "Norm: 9.02, NNZs: 1, Bias: 1.251914, T: 160, Avg. loss: 14.442443\n",
      "Total training time: 0.00 seconds.\n",
      "-- Epoch 41\n",
      "Norm: 9.06, NNZs: 1, Bias: 1.256751, T: 164, Avg. loss: 13.143192\n",
      "Total training time: 0.00 seconds.\n",
      "-- Epoch 42\n",
      "Norm: 9.09, NNZs: 1, Bias: 1.261328, T: 168, Avg. loss: 11.969790\n",
      "Total training time: 0.00 seconds.\n",
      "-- Epoch 43\n",
      "Norm: 9.13, NNZs: 1, Bias: 1.265643, T: 172, Avg. loss: 10.909240\n",
      "Total training time: 0.00 seconds.\n",
      "-- Epoch 44\n",
      "Norm: 9.16, NNZs: 1, Bias: 1.269730, T: 176, Avg. loss: 9.948771\n",
      "Total training time: 0.00 seconds.\n",
      "-- Epoch 45\n",
      "Norm: 9.19, NNZs: 1, Bias: 1.273600, T: 180, Avg. loss: 9.079416\n",
      "Total training time: 0.00 seconds.\n",
      "-- Epoch 46\n",
      "Norm: 9.21, NNZs: 1, Bias: 1.277251, T: 184, Avg. loss: 8.292085\n",
      "Total training time: 0.00 seconds.\n",
      "-- Epoch 47\n",
      "Norm: 9.24, NNZs: 1, Bias: 1.280712, T: 188, Avg. loss: 7.577651\n",
      "Total training time: 0.00 seconds.\n",
      "-- Epoch 48\n",
      "Norm: 9.27, NNZs: 1, Bias: 1.283991, T: 192, Avg. loss: 6.929687\n",
      "Total training time: 0.00 seconds.\n",
      "-- Epoch 49\n",
      "Norm: 9.29, NNZs: 1, Bias: 1.287086, T: 196, Avg. loss: 6.341785\n",
      "Total training time: 0.00 seconds.\n",
      "-- Epoch 50\n",
      "Norm: 9.31, NNZs: 1, Bias: 1.290022, T: 200, Avg. loss: 5.807359\n",
      "Total training time: 0.00 seconds.\n",
      "-- Epoch 51\n",
      "Norm: 9.34, NNZs: 1, Bias: 1.292805, T: 204, Avg. loss: 5.321759\n",
      "Total training time: 0.00 seconds.\n",
      "-- Epoch 52\n",
      "Norm: 9.36, NNZs: 1, Bias: 1.295433, T: 208, Avg. loss: 4.880435\n",
      "Total training time: 0.00 seconds.\n",
      "-- Epoch 53\n",
      "Norm: 9.38, NNZs: 1, Bias: 1.297926, T: 212, Avg. loss: 4.478595\n",
      "Total training time: 0.00 seconds.\n",
      "-- Epoch 54\n",
      "Norm: 9.40, NNZs: 1, Bias: 1.300291, T: 216, Avg. loss: 4.112843\n",
      "Total training time: 0.00 seconds.\n",
      "-- Epoch 55\n",
      "Norm: 9.41, NNZs: 1, Bias: 1.302523, T: 220, Avg. loss: 3.779932\n",
      "Total training time: 0.00 seconds.\n",
      "-- Epoch 56\n",
      "Norm: 9.43, NNZs: 1, Bias: 1.304642, T: 224, Avg. loss: 3.476346\n",
      "Total training time: 0.00 seconds.\n",
      "-- Epoch 57\n",
      "Norm: 9.45, NNZs: 1, Bias: 1.306653, T: 228, Avg. loss: 3.199584\n",
      "Total training time: 0.00 seconds.\n",
      "-- Epoch 58\n",
      "Norm: 9.46, NNZs: 1, Bias: 1.308551, T: 232, Avg. loss: 2.947319\n",
      "Total training time: 0.00 seconds.\n",
      "-- Epoch 59\n",
      "Norm: 9.48, NNZs: 1, Bias: 1.310353, T: 236, Avg. loss: 2.716952\n",
      "Total training time: 0.00 seconds.\n",
      "-- Epoch 60\n",
      "Norm: 9.49, NNZs: 1, Bias: 1.312062, T: 240, Avg. loss: 2.506626\n",
      "Total training time: 0.00 seconds.\n",
      "-- Epoch 61\n",
      "Norm: 9.50, NNZs: 1, Bias: 1.313675, T: 244, Avg. loss: 2.314669\n",
      "Total training time: 0.00 seconds.\n",
      "-- Epoch 62\n",
      "Norm: 9.52, NNZs: 1, Bias: 1.315206, T: 248, Avg. loss: 2.139144\n",
      "Total training time: 0.00 seconds.\n",
      "-- Epoch 63\n",
      "Norm: 9.53, NNZs: 1, Bias: 1.316659, T: 252, Avg. loss: 1.978665\n",
      "Total training time: 0.00 seconds.\n",
      "-- Epoch 64\n",
      "Norm: 9.54, NNZs: 1, Bias: 1.318029, T: 256, Avg. loss: 1.832027\n",
      "Total training time: 0.00 seconds.\n",
      "-- Epoch 65\n",
      "Norm: 9.55, NNZs: 1, Bias: 1.319329, T: 260, Avg. loss: 1.697778\n",
      "Total training time: 0.00 seconds.\n",
      "-- Epoch 66\n",
      "Norm: 9.56, NNZs: 1, Bias: 1.320562, T: 264, Avg. loss: 1.574872\n",
      "Total training time: 0.00 seconds.\n",
      "-- Epoch 67\n",
      "Norm: 9.57, NNZs: 1, Bias: 1.321724, T: 268, Avg. loss: 1.462443\n",
      "Total training time: 0.00 seconds.\n",
      "-- Epoch 68\n",
      "Norm: 9.58, NNZs: 1, Bias: 1.322827, T: 272, Avg. loss: 1.359393\n",
      "Total training time: 0.00 seconds.\n",
      "-- Epoch 69\n",
      "Norm: 9.59, NNZs: 1, Bias: 1.323871, T: 276, Avg. loss: 1.264932\n",
      "Total training time: 0.00 seconds.\n",
      "-- Epoch 70\n",
      "Norm: 9.60, NNZs: 1, Bias: 1.324855, T: 280, Avg. loss: 1.178434\n",
      "Total training time: 0.00 seconds.\n",
      "-- Epoch 71\n",
      "Norm: 9.61, NNZs: 1, Bias: 1.325787, T: 284, Avg. loss: 1.099066\n",
      "Total training time: 0.00 seconds.\n",
      "-- Epoch 72\n",
      "Norm: 9.62, NNZs: 1, Bias: 1.326670, T: 288, Avg. loss: 1.026224\n",
      "Total training time: 0.00 seconds.\n",
      "-- Epoch 73\n",
      "Norm: 9.63, NNZs: 1, Bias: 1.327500, T: 292, Avg. loss: 0.959460\n",
      "Total training time: 0.00 seconds.\n",
      "-- Epoch 74\n",
      "Norm: 9.63, NNZs: 1, Bias: 1.328286, T: 296, Avg. loss: 0.898137\n",
      "Total training time: 0.00 seconds.\n",
      "-- Epoch 75\n",
      "Norm: 9.64, NNZs: 1, Bias: 1.329030, T: 300, Avg. loss: 0.841789\n",
      "Total training time: 0.00 seconds.\n",
      "-- Epoch 76\n",
      "Norm: 9.65, NNZs: 1, Bias: 1.329727, T: 304, Avg. loss: 0.790099\n",
      "Total training time: 0.00 seconds.\n",
      "-- Epoch 77\n",
      "Norm: 9.65, NNZs: 1, Bias: 1.330387, T: 308, Avg. loss: 0.742573\n",
      "Total training time: 0.00 seconds.\n",
      "-- Epoch 78\n",
      "Norm: 9.66, NNZs: 1, Bias: 1.331010, T: 312, Avg. loss: 0.698855\n",
      "Total training time: 0.00 seconds.\n",
      "-- Epoch 79\n",
      "Norm: 9.67, NNZs: 1, Bias: 1.331593, T: 316, Avg. loss: 0.658717\n",
      "Total training time: 0.00 seconds.\n",
      "-- Epoch 80\n",
      "Norm: 9.67, NNZs: 1, Bias: 1.332144, T: 320, Avg. loss: 0.621779\n",
      "Total training time: 0.00 seconds.\n",
      "-- Epoch 81\n",
      "Norm: 9.68, NNZs: 1, Bias: 1.332663, T: 324, Avg. loss: 0.587761\n",
      "Total training time: 0.00 seconds.\n",
      "-- Epoch 82\n",
      "Norm: 9.68, NNZs: 1, Bias: 1.333147, T: 328, Avg. loss: 0.556507\n",
      "Total training time: 0.00 seconds.\n",
      "-- Epoch 83\n",
      "Norm: 9.69, NNZs: 1, Bias: 1.333603, T: 332, Avg. loss: 0.527718\n",
      "Total training time: 0.00 seconds.\n",
      "-- Epoch 84\n",
      "Norm: 9.69, NNZs: 1, Bias: 1.334032, T: 336, Avg. loss: 0.501177\n",
      "Total training time: 0.00 seconds.\n",
      "-- Epoch 85\n",
      "Norm: 9.70, NNZs: 1, Bias: 1.334431, T: 340, Avg. loss: 0.476775\n",
      "Total training time: 0.00 seconds.\n",
      "-- Epoch 86\n",
      "Norm: 9.70, NNZs: 1, Bias: 1.334805, T: 344, Avg. loss: 0.454278\n",
      "Total training time: 0.00 seconds.\n",
      "-- Epoch 87\n",
      "Norm: 9.71, NNZs: 1, Bias: 1.335155, T: 348, Avg. loss: 0.433515\n",
      "Total training time: 0.00 seconds.\n",
      "-- Epoch 88\n",
      "Norm: 9.71, NNZs: 1, Bias: 1.335479, T: 352, Avg. loss: 0.414413\n",
      "Total training time: 0.00 seconds.\n",
      "-- Epoch 89\n",
      "Norm: 9.71, NNZs: 1, Bias: 1.335782, T: 356, Avg. loss: 0.396788\n",
      "Total training time: 0.00 seconds.\n",
      "-- Epoch 90\n",
      "Norm: 9.72, NNZs: 1, Bias: 1.336065, T: 360, Avg. loss: 0.380504\n",
      "Total training time: 0.00 seconds.\n",
      "-- Epoch 91\n",
      "Norm: 9.72, NNZs: 1, Bias: 1.336323, T: 364, Avg. loss: 0.365514\n",
      "Total training time: 0.00 seconds.\n",
      "-- Epoch 92\n",
      "Norm: 9.72, NNZs: 1, Bias: 1.336564, T: 368, Avg. loss: 0.351672\n",
      "Total training time: 0.00 seconds.\n",
      "-- Epoch 93\n",
      "Norm: 9.73, NNZs: 1, Bias: 1.336788, T: 372, Avg. loss: 0.338868\n",
      "Total training time: 0.00 seconds.\n",
      "-- Epoch 94\n",
      "Norm: 9.73, NNZs: 1, Bias: 1.336990, T: 376, Avg. loss: 0.327076\n",
      "Total training time: 0.00 seconds.\n",
      "-- Epoch 95\n",
      "Norm: 9.73, NNZs: 1, Bias: 1.337177, T: 380, Avg. loss: 0.316178\n",
      "Total training time: 0.00 seconds.\n",
      "-- Epoch 96\n",
      "Norm: 9.74, NNZs: 1, Bias: 1.337349, T: 384, Avg. loss: 0.306086\n",
      "Total training time: 0.00 seconds.\n",
      "-- Epoch 97\n",
      "Norm: 9.74, NNZs: 1, Bias: 1.337502, T: 388, Avg. loss: 0.296788\n",
      "Total training time: 0.00 seconds.\n",
      "-- Epoch 98\n",
      "Norm: 9.74, NNZs: 1, Bias: 1.337642, T: 392, Avg. loss: 0.288188\n",
      "Total training time: 0.00 seconds.\n",
      "-- Epoch 99\n",
      "Norm: 9.75, NNZs: 1, Bias: 1.337768, T: 396, Avg. loss: 0.280214\n",
      "Total training time: 0.00 seconds.\n",
      "-- Epoch 100\n",
      "Norm: 9.75, NNZs: 1, Bias: 1.337878, T: 400, Avg. loss: 0.272865\n",
      "Total training time: 0.00 seconds.\n",
      "-- Epoch 101\n",
      "Norm: 9.75, NNZs: 1, Bias: 1.337977, T: 404, Avg. loss: 0.266062\n",
      "Total training time: 0.00 seconds.\n",
      "-- Epoch 102\n",
      "Norm: 9.75, NNZs: 1, Bias: 1.338064, T: 408, Avg. loss: 0.259747\n",
      "Total training time: 0.00 seconds.\n",
      "-- Epoch 103\n",
      "Norm: 9.75, NNZs: 1, Bias: 1.338137, T: 412, Avg. loss: 0.253924\n",
      "Total training time: 0.00 seconds.\n",
      "-- Epoch 104\n",
      "Norm: 9.76, NNZs: 1, Bias: 1.338199, T: 416, Avg. loss: 0.248530\n",
      "Total training time: 0.00 seconds.\n",
      "-- Epoch 105\n",
      "Norm: 9.76, NNZs: 1, Bias: 1.338252, T: 420, Avg. loss: 0.243516\n",
      "Total training time: 0.00 seconds.\n",
      "-- Epoch 106\n",
      "Norm: 9.76, NNZs: 1, Bias: 1.338292, T: 424, Avg. loss: 0.238893\n",
      "Total training time: 0.00 seconds.\n",
      "-- Epoch 107\n",
      "Norm: 9.76, NNZs: 1, Bias: 1.338323, T: 428, Avg. loss: 0.234605\n",
      "Total training time: 0.00 seconds.\n",
      "-- Epoch 108\n",
      "Norm: 9.76, NNZs: 1, Bias: 1.338346, T: 432, Avg. loss: 0.230614\n",
      "Total training time: 0.00 seconds.\n",
      "-- Epoch 109\n",
      "Norm: 9.77, NNZs: 1, Bias: 1.338357, T: 436, Avg. loss: 0.226934\n",
      "Total training time: 0.00 seconds.\n",
      "-- Epoch 110\n",
      "Norm: 9.77, NNZs: 1, Bias: 1.338360, T: 440, Avg. loss: 0.223518\n",
      "Total training time: 0.00 seconds.\n",
      "-- Epoch 111\n",
      "Norm: 9.77, NNZs: 1, Bias: 1.338357, T: 444, Avg. loss: 0.220333\n",
      "Total training time: 0.00 seconds.\n",
      "-- Epoch 112\n",
      "Norm: 9.77, NNZs: 1, Bias: 1.338342, T: 448, Avg. loss: 0.217396\n",
      "Total training time: 0.00 seconds.\n",
      "-- Epoch 113\n",
      "Norm: 9.77, NNZs: 1, Bias: 1.338322, T: 452, Avg. loss: 0.214667\n",
      "Total training time: 0.00 seconds.\n",
      "-- Epoch 114\n",
      "Norm: 9.77, NNZs: 1, Bias: 1.338295, T: 456, Avg. loss: 0.212119\n",
      "Total training time: 0.00 seconds.\n",
      "-- Epoch 115\n",
      "Norm: 9.78, NNZs: 1, Bias: 1.338259, T: 460, Avg. loss: 0.209770\n",
      "Total training time: 0.00 seconds.\n",
      "-- Epoch 116\n",
      "Norm: 9.78, NNZs: 1, Bias: 1.338217, T: 464, Avg. loss: 0.207584\n",
      "Total training time: 0.00 seconds.\n",
      "-- Epoch 117\n",
      "Norm: 9.78, NNZs: 1, Bias: 1.338170, T: 468, Avg. loss: 0.205540\n",
      "Total training time: 0.00 seconds.\n",
      "-- Epoch 118\n",
      "Norm: 9.78, NNZs: 1, Bias: 1.338114, T: 472, Avg. loss: 0.203655\n",
      "Total training time: 0.00 seconds.\n",
      "-- Epoch 119\n",
      "Norm: 9.78, NNZs: 1, Bias: 1.338054, T: 476, Avg. loss: 0.201899\n",
      "Total training time: 0.00 seconds.\n",
      "-- Epoch 120\n",
      "Norm: 9.78, NNZs: 1, Bias: 1.337989, T: 480, Avg. loss: 0.200254\n",
      "Total training time: 0.00 seconds.\n",
      "-- Epoch 121\n",
      "Norm: 9.78, NNZs: 1, Bias: 1.337916, T: 484, Avg. loss: 0.198737\n",
      "Total training time: 0.00 seconds.\n",
      "-- Epoch 122\n",
      "Norm: 9.78, NNZs: 1, Bias: 1.337840, T: 488, Avg. loss: 0.197323\n",
      "Total training time: 0.00 seconds.\n",
      "-- Epoch 123\n",
      "Norm: 9.79, NNZs: 1, Bias: 1.337759, T: 492, Avg. loss: 0.195995\n",
      "Total training time: 0.00 seconds.\n",
      "-- Epoch 124\n",
      "Norm: 9.79, NNZs: 1, Bias: 1.337672, T: 496, Avg. loss: 0.194771\n",
      "Total training time: 0.00 seconds.\n",
      "-- Epoch 125\n",
      "Norm: 9.79, NNZs: 1, Bias: 1.337581, T: 500, Avg. loss: 0.193628\n",
      "Total training time: 0.00 seconds.\n",
      "-- Epoch 126\n",
      "Norm: 9.79, NNZs: 1, Bias: 1.337486, T: 504, Avg. loss: 0.192552\n",
      "Total training time: 0.00 seconds.\n",
      "-- Epoch 127\n",
      "Norm: 9.79, NNZs: 1, Bias: 1.337386, T: 508, Avg. loss: 0.191560\n",
      "Total training time: 0.00 seconds.\n",
      "-- Epoch 128\n",
      "Norm: 9.79, NNZs: 1, Bias: 1.337282, T: 512, Avg. loss: 0.190633\n",
      "Total training time: 0.00 seconds.\n",
      "-- Epoch 129\n",
      "Norm: 9.79, NNZs: 1, Bias: 1.337176, T: 516, Avg. loss: 0.189758\n",
      "Total training time: 0.00 seconds.\n",
      "-- Epoch 130\n",
      "Norm: 9.79, NNZs: 1, Bias: 1.337064, T: 520, Avg. loss: 0.188952\n",
      "Total training time: 0.00 seconds.\n",
      "-- Epoch 131\n",
      "Norm: 9.79, NNZs: 1, Bias: 1.336950, T: 524, Avg. loss: 0.188197\n",
      "Total training time: 0.00 seconds.\n",
      "Convergence after 131 epochs took 0.00 seconds\n"
     ]
    },
    {
     "data": {
      "text/html": [
       "<style>#sk-container-id-2 {color: black;background-color: white;}#sk-container-id-2 pre{padding: 0;}#sk-container-id-2 div.sk-toggleable {background-color: white;}#sk-container-id-2 label.sk-toggleable__label {cursor: pointer;display: block;width: 100%;margin-bottom: 0;padding: 0.3em;box-sizing: border-box;text-align: center;}#sk-container-id-2 label.sk-toggleable__label-arrow:before {content: \"▸\";float: left;margin-right: 0.25em;color: #696969;}#sk-container-id-2 label.sk-toggleable__label-arrow:hover:before {color: black;}#sk-container-id-2 div.sk-estimator:hover label.sk-toggleable__label-arrow:before {color: black;}#sk-container-id-2 div.sk-toggleable__content {max-height: 0;max-width: 0;overflow: hidden;text-align: left;background-color: #f0f8ff;}#sk-container-id-2 div.sk-toggleable__content pre {margin: 0.2em;color: black;border-radius: 0.25em;background-color: #f0f8ff;}#sk-container-id-2 input.sk-toggleable__control:checked~div.sk-toggleable__content {max-height: 200px;max-width: 100%;overflow: auto;}#sk-container-id-2 input.sk-toggleable__control:checked~label.sk-toggleable__label-arrow:before {content: \"▾\";}#sk-container-id-2 div.sk-estimator input.sk-toggleable__control:checked~label.sk-toggleable__label {background-color: #d4ebff;}#sk-container-id-2 div.sk-label input.sk-toggleable__control:checked~label.sk-toggleable__label {background-color: #d4ebff;}#sk-container-id-2 input.sk-hidden--visually {border: 0;clip: rect(1px 1px 1px 1px);clip: rect(1px, 1px, 1px, 1px);height: 1px;margin: -1px;overflow: hidden;padding: 0;position: absolute;width: 1px;}#sk-container-id-2 div.sk-estimator {font-family: monospace;background-color: #f0f8ff;border: 1px dotted black;border-radius: 0.25em;box-sizing: border-box;margin-bottom: 0.5em;}#sk-container-id-2 div.sk-estimator:hover {background-color: #d4ebff;}#sk-container-id-2 div.sk-parallel-item::after {content: \"\";width: 100%;border-bottom: 1px solid gray;flex-grow: 1;}#sk-container-id-2 div.sk-label:hover label.sk-toggleable__label {background-color: #d4ebff;}#sk-container-id-2 div.sk-serial::before {content: \"\";position: absolute;border-left: 1px solid gray;box-sizing: border-box;top: 0;bottom: 0;left: 50%;z-index: 0;}#sk-container-id-2 div.sk-serial {display: flex;flex-direction: column;align-items: center;background-color: white;padding-right: 0.2em;padding-left: 0.2em;position: relative;}#sk-container-id-2 div.sk-item {position: relative;z-index: 1;}#sk-container-id-2 div.sk-parallel {display: flex;align-items: stretch;justify-content: center;background-color: white;position: relative;}#sk-container-id-2 div.sk-item::before, #sk-container-id-2 div.sk-parallel-item::before {content: \"\";position: absolute;border-left: 1px solid gray;box-sizing: border-box;top: 0;bottom: 0;left: 50%;z-index: -1;}#sk-container-id-2 div.sk-parallel-item {display: flex;flex-direction: column;z-index: 1;position: relative;background-color: white;}#sk-container-id-2 div.sk-parallel-item:first-child::after {align-self: flex-end;width: 50%;}#sk-container-id-2 div.sk-parallel-item:last-child::after {align-self: flex-start;width: 50%;}#sk-container-id-2 div.sk-parallel-item:only-child::after {width: 0;}#sk-container-id-2 div.sk-dashed-wrapped {border: 1px dashed gray;margin: 0 0.4em 0.5em 0.4em;box-sizing: border-box;padding-bottom: 0.4em;background-color: white;}#sk-container-id-2 div.sk-label label {font-family: monospace;font-weight: bold;display: inline-block;line-height: 1.2em;}#sk-container-id-2 div.sk-label-container {text-align: center;}#sk-container-id-2 div.sk-container {/* jupyter's `normalize.less` sets `[hidden] { display: none; }` but bootstrap.min.css set `[hidden] { display: none !important; }` so we also need the `!important` here to be able to override the default hidden behavior on the sphinx rendered scikit-learn.org. See: https://github.com/scikit-learn/scikit-learn/issues/21755 */display: inline-block !important;position: relative;}#sk-container-id-2 div.sk-text-repr-fallback {display: none;}</style><div id=\"sk-container-id-2\" class=\"sk-top-container\"><div class=\"sk-text-repr-fallback\"><pre>SGDRegressor(eta0=0.001, max_iter=5000, verbose=1)</pre><b>In a Jupyter environment, please rerun this cell to show the HTML representation or trust the notebook. <br />On GitHub, the HTML representation is unable to render, please try loading this page with nbviewer.org.</b></div><div class=\"sk-container\" hidden><div class=\"sk-item\"><div class=\"sk-estimator sk-toggleable\"><input class=\"sk-toggleable__control sk-hidden--visually\" id=\"sk-estimator-id-2\" type=\"checkbox\" checked><label for=\"sk-estimator-id-2\" class=\"sk-toggleable__label sk-toggleable__label-arrow\">SGDRegressor</label><div class=\"sk-toggleable__content\"><pre>SGDRegressor(eta0=0.001, max_iter=5000, verbose=1)</pre></div></div></div></div></div>"
      ],
      "text/plain": [
       "SGDRegressor(eta0=0.001, max_iter=5000, verbose=1)"
      ]
     },
     "execution_count": 33,
     "metadata": {},
     "output_type": "execute_result"
    }
   ],
   "source": [
    "from sklearn.linear_model import SGDRegressor\n",
    "\n",
    "# 모델 생성 \n",
    "sgd_model = SGDRegressor(max_iter=5000,\n",
    "                        eta0=0.001,\n",
    "                        verbose=1)\n",
    "\n",
    "# 학습\n",
    "sgd_model.fit(data[['시간']], data['성적'])"
   ]
  },
  {
   "cell_type": "code",
   "execution_count": 35,
   "id": "52d82ebc",
   "metadata": {
    "ExecuteTime": {
     "end_time": "2023-09-04T01:44:19.832981Z",
     "start_time": "2023-09-04T01:44:19.818324Z"
    }
   },
   "outputs": [
    {
     "name": "stderr",
     "output_type": "stream",
     "text": [
      "C:\\Users\\gjaischool\\anaconda3\\lib\\site-packages\\sklearn\\base.py:420: UserWarning: X does not have valid feature names, but SGDRegressor was fitted with feature names\n",
      "  warnings.warn(\n"
     ]
    },
    {
     "data": {
      "text/plain": [
       "array([69.88279285])"
      ]
     },
     "execution_count": 35,
     "metadata": {},
     "output_type": "execute_result"
    }
   ],
   "source": [
    "# 예측\n",
    "sgd_model.predict([[7]])"
   ]
  },
  {
   "cell_type": "code",
   "execution_count": 40,
   "id": "aeb086ec",
   "metadata": {
    "ExecuteTime": {
     "end_time": "2023-09-04T01:48:14.145749Z",
     "start_time": "2023-09-04T01:48:14.138768Z"
    }
   },
   "outputs": [
    {
     "name": "stdout",
     "output_type": "stream",
     "text": [
      "가중치 :  [9.79226332]\n",
      "절편 :  [1.3369496]\n"
     ]
    }
   ],
   "source": [
    "# 가중치, 절편 확인하기\n",
    "print('가중치 : ',sgd_model.coef_)\n",
    "print('절편 : ',sgd_model.intercept_)"
   ]
  },
  {
   "cell_type": "code",
   "execution_count": 41,
   "id": "ad139044",
   "metadata": {
    "ExecuteTime": {
     "end_time": "2023-09-04T01:49:05.625716Z",
     "start_time": "2023-09-04T01:49:05.613747Z"
    }
   },
   "outputs": [
    {
     "data": {
      "text/plain": [
       "0.9995436658345412"
      ]
     },
     "execution_count": 41,
     "metadata": {},
     "output_type": "execute_result"
    }
   ],
   "source": [
    "sgd_model.score(data[['시간']], data['성적'])\n",
    "\n",
    "# 회귀 score : 모델의 예측 성능 판단\n",
    "# 1에 가까울수록 모델이 예측ㅎ나 성능이 높다고 판단"
   ]
  }
 ],
 "metadata": {
  "kernelspec": {
   "display_name": "Python 3 (ipykernel)",
   "language": "python",
   "name": "python3"
  },
  "language_info": {
   "codemirror_mode": {
    "name": "ipython",
    "version": 3
   },
   "file_extension": ".py",
   "mimetype": "text/x-python",
   "name": "python",
   "nbconvert_exporter": "python",
   "pygments_lexer": "ipython3",
   "version": "3.10.9"
  },
  "toc": {
   "base_numbering": 1,
   "nav_menu": {},
   "number_sections": true,
   "sideBar": true,
   "skip_h1_title": false,
   "title_cell": "Table of Contents",
   "title_sidebar": "Contents",
   "toc_cell": false,
   "toc_position": {
    "height": "calc(100% - 180px)",
    "left": "10px",
    "top": "150px",
    "width": "279.273px"
   },
   "toc_section_display": true,
   "toc_window_display": true
  }
 },
 "nbformat": 4,
 "nbformat_minor": 5
}
