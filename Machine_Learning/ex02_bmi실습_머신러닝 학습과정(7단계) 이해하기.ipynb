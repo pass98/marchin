{
 "cells": [
  {
   "cell_type": "markdown",
   "id": "192ede4a",
   "metadata": {},
   "source": [
    "[목표]\n",
    "- 500명의 키와 몸무게, 비만도 라벨을 이용하여 비만을 판단하는 모델을 만들어보자\n",
    "- 머신러닝 전체 과정의 흐름을 이해해보자"
   ]
  },
  {
   "cell_type": "markdown",
   "id": "aed550d9",
   "metadata": {
    "ExecuteTime": {
     "end_time": "2023-08-22T01:19:10.474727Z",
     "start_time": "2023-08-22T01:19:10.456091Z"
    }
   },
   "source": [
    "### 문제정의\n",
    "- 머신러닝을 통해서 어떤 문제를  해결할 것인가?\n",
    "- 지도 vs 비지도 vs 강화\n",
    "- 지도 : 정답과 문제를 알려주고 선택, 분류와 회귀로 구분 됨.\n",
    "- 비만을 판단하는 모델을 만들자 ==> 지도학습 - 분류"
   ]
  },
  {
   "cell_type": "markdown",
   "id": "d5eee61c",
   "metadata": {},
   "source": [
    "### 데이터 수집\n",
    "- csv 파일로 이루어진 데이터수집\n",
    "- 500명의 성별, 키, 몸무게, 비만도 등급"
   ]
  },
  {
   "cell_type": "code",
   "execution_count": 4,
   "id": "61b26f23",
   "metadata": {
    "ExecuteTime": {
     "end_time": "2023-08-22T01:29:03.644588Z",
     "start_time": "2023-08-22T01:29:03.611248Z"
    }
   },
   "outputs": [
    {
     "data": {
      "text/html": [
       "<div>\n",
       "<style scoped>\n",
       "    .dataframe tbody tr th:only-of-type {\n",
       "        vertical-align: middle;\n",
       "    }\n",
       "\n",
       "    .dataframe tbody tr th {\n",
       "        vertical-align: top;\n",
       "    }\n",
       "\n",
       "    .dataframe thead th {\n",
       "        text-align: right;\n",
       "    }\n",
       "</style>\n",
       "<table border=\"1\" class=\"dataframe\">\n",
       "  <thead>\n",
       "    <tr style=\"text-align: right;\">\n",
       "      <th></th>\n",
       "      <th>Gender</th>\n",
       "      <th>Height</th>\n",
       "      <th>Weight</th>\n",
       "      <th>Label</th>\n",
       "    </tr>\n",
       "  </thead>\n",
       "  <tbody>\n",
       "    <tr>\n",
       "      <th>0</th>\n",
       "      <td>Male</td>\n",
       "      <td>174</td>\n",
       "      <td>96</td>\n",
       "      <td>Obesity</td>\n",
       "    </tr>\n",
       "    <tr>\n",
       "      <th>1</th>\n",
       "      <td>Male</td>\n",
       "      <td>189</td>\n",
       "      <td>87</td>\n",
       "      <td>Normal</td>\n",
       "    </tr>\n",
       "    <tr>\n",
       "      <th>2</th>\n",
       "      <td>Female</td>\n",
       "      <td>185</td>\n",
       "      <td>110</td>\n",
       "      <td>Obesity</td>\n",
       "    </tr>\n",
       "    <tr>\n",
       "      <th>3</th>\n",
       "      <td>Female</td>\n",
       "      <td>195</td>\n",
       "      <td>104</td>\n",
       "      <td>Overweight</td>\n",
       "    </tr>\n",
       "    <tr>\n",
       "      <th>4</th>\n",
       "      <td>Male</td>\n",
       "      <td>149</td>\n",
       "      <td>61</td>\n",
       "      <td>Overweight</td>\n",
       "    </tr>\n",
       "    <tr>\n",
       "      <th>...</th>\n",
       "      <td>...</td>\n",
       "      <td>...</td>\n",
       "      <td>...</td>\n",
       "      <td>...</td>\n",
       "    </tr>\n",
       "    <tr>\n",
       "      <th>495</th>\n",
       "      <td>Female</td>\n",
       "      <td>150</td>\n",
       "      <td>153</td>\n",
       "      <td>Extreme Obesity</td>\n",
       "    </tr>\n",
       "    <tr>\n",
       "      <th>496</th>\n",
       "      <td>Female</td>\n",
       "      <td>184</td>\n",
       "      <td>121</td>\n",
       "      <td>Obesity</td>\n",
       "    </tr>\n",
       "    <tr>\n",
       "      <th>497</th>\n",
       "      <td>Female</td>\n",
       "      <td>141</td>\n",
       "      <td>136</td>\n",
       "      <td>Extreme Obesity</td>\n",
       "    </tr>\n",
       "    <tr>\n",
       "      <th>498</th>\n",
       "      <td>Male</td>\n",
       "      <td>150</td>\n",
       "      <td>95</td>\n",
       "      <td>Extreme Obesity</td>\n",
       "    </tr>\n",
       "    <tr>\n",
       "      <th>499</th>\n",
       "      <td>Male</td>\n",
       "      <td>173</td>\n",
       "      <td>131</td>\n",
       "      <td>Extreme Obesity</td>\n",
       "    </tr>\n",
       "  </tbody>\n",
       "</table>\n",
       "<p>500 rows × 4 columns</p>\n",
       "</div>"
      ],
      "text/plain": [
       "     Gender  Height  Weight            Label\n",
       "0      Male     174      96          Obesity\n",
       "1      Male     189      87           Normal\n",
       "2    Female     185     110          Obesity\n",
       "3    Female     195     104       Overweight\n",
       "4      Male     149      61       Overweight\n",
       "..      ...     ...     ...              ...\n",
       "495  Female     150     153  Extreme Obesity\n",
       "496  Female     184     121          Obesity\n",
       "497  Female     141     136  Extreme Obesity\n",
       "498    Male     150      95  Extreme Obesity\n",
       "499    Male     173     131  Extreme Obesity\n",
       "\n",
       "[500 rows x 4 columns]"
      ]
     },
     "execution_count": 4,
     "metadata": {},
     "output_type": "execute_result"
    }
   ],
   "source": [
    "# 데이터 꺼내오기\n",
    "import pandas as pd\n",
    "bmi=pd.read_csv('./Data/bmi_500.csv')\n",
    "bmi"
   ]
  },
  {
   "cell_type": "markdown",
   "id": "1619cbea",
   "metadata": {},
   "source": [
    "### 데이터 전처리\n",
    "- 1. 결측치 처리 : 비어있는 데이터를 채워주기\n",
    "- 2. 이상치 처리 : 정상적인 범위를 벗언나 데이터 수정하기"
   ]
  },
  {
   "cell_type": "markdown",
   "id": "3de9bfd0",
   "metadata": {},
   "source": [
    "#### 결측치 확인\n",
    "- 데이터 프레임의 형태를 갖춘후 info() 함수 사용"
   ]
  },
  {
   "cell_type": "code",
   "execution_count": 5,
   "id": "97b66d1d",
   "metadata": {
    "ExecuteTime": {
     "end_time": "2023-08-22T01:34:10.140731Z",
     "start_time": "2023-08-22T01:34:10.114176Z"
    }
   },
   "outputs": [
    {
     "name": "stdout",
     "output_type": "stream",
     "text": [
      "<class 'pandas.core.frame.DataFrame'>\n",
      "RangeIndex: 500 entries, 0 to 499\n",
      "Data columns (total 4 columns):\n",
      " #   Column  Non-Null Count  Dtype \n",
      "---  ------  --------------  ----- \n",
      " 0   Gender  500 non-null    object\n",
      " 1   Height  500 non-null    int64 \n",
      " 2   Weight  500 non-null    int64 \n",
      " 3   Label   500 non-null    object\n",
      "dtypes: int64(2), object(2)\n",
      "memory usage: 15.8+ KB\n"
     ]
    }
   ],
   "source": [
    "bmi.info()"
   ]
  },
  {
   "cell_type": "markdown",
   "id": "68665bf6",
   "metadata": {},
   "source": [
    "#### 이상치 확인\n",
    "- 데이터 프레임의 형태를 갖춘 후 describe() 함수 사용\n",
    "- describe() : 수치형 데이터만 분석가능, 기술통계"
   ]
  },
  {
   "cell_type": "code",
   "execution_count": 7,
   "id": "00d54afa",
   "metadata": {
    "ExecuteTime": {
     "end_time": "2023-08-22T01:38:51.676289Z",
     "start_time": "2023-08-22T01:38:51.661395Z"
    }
   },
   "outputs": [
    {
     "data": {
      "text/html": [
       "<div>\n",
       "<style scoped>\n",
       "    .dataframe tbody tr th:only-of-type {\n",
       "        vertical-align: middle;\n",
       "    }\n",
       "\n",
       "    .dataframe tbody tr th {\n",
       "        vertical-align: top;\n",
       "    }\n",
       "\n",
       "    .dataframe thead th {\n",
       "        text-align: right;\n",
       "    }\n",
       "</style>\n",
       "<table border=\"1\" class=\"dataframe\">\n",
       "  <thead>\n",
       "    <tr style=\"text-align: right;\">\n",
       "      <th></th>\n",
       "      <th>Height</th>\n",
       "      <th>Weight</th>\n",
       "    </tr>\n",
       "  </thead>\n",
       "  <tbody>\n",
       "    <tr>\n",
       "      <th>count</th>\n",
       "      <td>500.000000</td>\n",
       "      <td>500.000000</td>\n",
       "    </tr>\n",
       "    <tr>\n",
       "      <th>mean</th>\n",
       "      <td>169.944000</td>\n",
       "      <td>106.000000</td>\n",
       "    </tr>\n",
       "    <tr>\n",
       "      <th>std</th>\n",
       "      <td>16.375261</td>\n",
       "      <td>32.382607</td>\n",
       "    </tr>\n",
       "    <tr>\n",
       "      <th>min</th>\n",
       "      <td>140.000000</td>\n",
       "      <td>50.000000</td>\n",
       "    </tr>\n",
       "    <tr>\n",
       "      <th>25%</th>\n",
       "      <td>156.000000</td>\n",
       "      <td>80.000000</td>\n",
       "    </tr>\n",
       "    <tr>\n",
       "      <th>50%</th>\n",
       "      <td>170.500000</td>\n",
       "      <td>106.000000</td>\n",
       "    </tr>\n",
       "    <tr>\n",
       "      <th>75%</th>\n",
       "      <td>184.000000</td>\n",
       "      <td>136.000000</td>\n",
       "    </tr>\n",
       "    <tr>\n",
       "      <th>max</th>\n",
       "      <td>199.000000</td>\n",
       "      <td>160.000000</td>\n",
       "    </tr>\n",
       "  </tbody>\n",
       "</table>\n",
       "</div>"
      ],
      "text/plain": [
       "           Height      Weight\n",
       "count  500.000000  500.000000\n",
       "mean   169.944000  106.000000\n",
       "std     16.375261   32.382607\n",
       "min    140.000000   50.000000\n",
       "25%    156.000000   80.000000\n",
       "50%    170.500000  106.000000\n",
       "75%    184.000000  136.000000\n",
       "max    199.000000  160.000000"
      ]
     },
     "execution_count": 7,
     "metadata": {},
     "output_type": "execute_result"
    }
   ],
   "source": [
    "bmi.describe()\n",
    "# count : 데이터 수\n",
    "# mean : 평균 값\n",
    "# std : 표준 편차\n",
    "# min : 최소값\n",
    "# 25% : 1분위수 \n",
    "# 50% : 중앙값\n",
    "# 75% : 3분위수\n",
    "# max : 최대값\n",
    "\n",
    "# 1, min, max 확인하기\n",
    "# 2. 평균(mean), 중앙값(50%) 확인하기 ==> 두 수치가 비슷한지 확인\n",
    "# 3. 두 수치가(평균, 중앙값)가 비슷하지 않을 경우 : min ~ max까지 5개의 간격을 확인하기 \n",
    "# ==> 각 구간의 데이터가 고르게 분포가 되어있는지 확인 \n",
    "\n",
    "\n",
    "# 우리의 데이틑 정상적으로 판단이 됨."
   ]
  },
  {
   "cell_type": "markdown",
   "id": "428b416d",
   "metadata": {},
   "source": [
    "### 데이터 탐색 분석(EDA)\n",
    "- 데이터를 자세하게 살펴보자\n",
    "- 비만도별로 데이터가 잘 나뉘어져 있는지 확인"
   ]
  },
  {
   "cell_type": "markdown",
   "id": "c0e53aab",
   "metadata": {},
   "source": [
    "#### 비만도 등급 확인 "
   ]
  },
  {
   "cell_type": "code",
   "execution_count": 8,
   "id": "9cb27632",
   "metadata": {
    "ExecuteTime": {
     "end_time": "2023-08-22T02:05:02.978691Z",
     "start_time": "2023-08-22T02:05:02.970502Z"
    }
   },
   "outputs": [
    {
     "data": {
      "text/plain": [
       "array(['Obesity', 'Normal', 'Overweight', 'Extreme Obesity', 'Weak',\n",
       "       'Extremely Weak'], dtype=object)"
      ]
     },
     "execution_count": 8,
     "metadata": {},
     "output_type": "execute_result"
    }
   ],
   "source": [
    "# 중복  값은 제거하고 확인 - unique()\n",
    "bmi['Label'].unique()\n",
    "\n",
    "#'Obesity', 비만\n",
    "#'Normal',  정상\n",
    "#'Overweight', 과체중\n",
    "#'Extreme Obesity', 고도비만\n",
    "#'Weak',    저체중\n",
    "#'Extremely Weak'  극심한 저체중"
   ]
  },
  {
   "cell_type": "markdown",
   "id": "89f389ce",
   "metadata": {
    "ExecuteTime": {
     "end_time": "2023-08-22T02:07:24.736576Z",
     "start_time": "2023-08-22T02:07:24.720293Z"
    }
   },
   "source": [
    "#### Label이 Weak인 사람들만 추려보기"
   ]
  },
  {
   "cell_type": "code",
   "execution_count": 16,
   "id": "f49921ba",
   "metadata": {
    "ExecuteTime": {
     "end_time": "2023-08-22T02:12:29.143964Z",
     "start_time": "2023-08-22T02:12:29.132551Z"
    }
   },
   "outputs": [
    {
     "data": {
      "text/html": [
       "<div>\n",
       "<style scoped>\n",
       "    .dataframe tbody tr th:only-of-type {\n",
       "        vertical-align: middle;\n",
       "    }\n",
       "\n",
       "    .dataframe tbody tr th {\n",
       "        vertical-align: top;\n",
       "    }\n",
       "\n",
       "    .dataframe thead th {\n",
       "        text-align: right;\n",
       "    }\n",
       "</style>\n",
       "<table border=\"1\" class=\"dataframe\">\n",
       "  <thead>\n",
       "    <tr style=\"text-align: right;\">\n",
       "      <th></th>\n",
       "      <th>Gender</th>\n",
       "      <th>Height</th>\n",
       "      <th>Weight</th>\n",
       "      <th>Label</th>\n",
       "    </tr>\n",
       "  </thead>\n",
       "  <tbody>\n",
       "    <tr>\n",
       "      <th>27</th>\n",
       "      <td>Male</td>\n",
       "      <td>187</td>\n",
       "      <td>62</td>\n",
       "      <td>Weak</td>\n",
       "    </tr>\n",
       "    <tr>\n",
       "      <th>31</th>\n",
       "      <td>Male</td>\n",
       "      <td>178</td>\n",
       "      <td>52</td>\n",
       "      <td>Weak</td>\n",
       "    </tr>\n",
       "    <tr>\n",
       "      <th>32</th>\n",
       "      <td>Female</td>\n",
       "      <td>195</td>\n",
       "      <td>65</td>\n",
       "      <td>Weak</td>\n",
       "    </tr>\n",
       "    <tr>\n",
       "      <th>51</th>\n",
       "      <td>Female</td>\n",
       "      <td>176</td>\n",
       "      <td>54</td>\n",
       "      <td>Weak</td>\n",
       "    </tr>\n",
       "    <tr>\n",
       "      <th>98</th>\n",
       "      <td>Male</td>\n",
       "      <td>195</td>\n",
       "      <td>69</td>\n",
       "      <td>Weak</td>\n",
       "    </tr>\n",
       "    <tr>\n",
       "      <th>200</th>\n",
       "      <td>Male</td>\n",
       "      <td>184</td>\n",
       "      <td>57</td>\n",
       "      <td>Weak</td>\n",
       "    </tr>\n",
       "    <tr>\n",
       "      <th>242</th>\n",
       "      <td>Male</td>\n",
       "      <td>191</td>\n",
       "      <td>62</td>\n",
       "      <td>Weak</td>\n",
       "    </tr>\n",
       "    <tr>\n",
       "      <th>269</th>\n",
       "      <td>Male</td>\n",
       "      <td>168</td>\n",
       "      <td>50</td>\n",
       "      <td>Weak</td>\n",
       "    </tr>\n",
       "    <tr>\n",
       "      <th>279</th>\n",
       "      <td>Male</td>\n",
       "      <td>188</td>\n",
       "      <td>57</td>\n",
       "      <td>Weak</td>\n",
       "    </tr>\n",
       "    <tr>\n",
       "      <th>280</th>\n",
       "      <td>Male</td>\n",
       "      <td>193</td>\n",
       "      <td>65</td>\n",
       "      <td>Weak</td>\n",
       "    </tr>\n",
       "    <tr>\n",
       "      <th>308</th>\n",
       "      <td>Male</td>\n",
       "      <td>196</td>\n",
       "      <td>69</td>\n",
       "      <td>Weak</td>\n",
       "    </tr>\n",
       "    <tr>\n",
       "      <th>358</th>\n",
       "      <td>Female</td>\n",
       "      <td>180</td>\n",
       "      <td>58</td>\n",
       "      <td>Weak</td>\n",
       "    </tr>\n",
       "    <tr>\n",
       "      <th>360</th>\n",
       "      <td>Female</td>\n",
       "      <td>193</td>\n",
       "      <td>61</td>\n",
       "      <td>Weak</td>\n",
       "    </tr>\n",
       "    <tr>\n",
       "      <th>372</th>\n",
       "      <td>Male</td>\n",
       "      <td>185</td>\n",
       "      <td>60</td>\n",
       "      <td>Weak</td>\n",
       "    </tr>\n",
       "    <tr>\n",
       "      <th>381</th>\n",
       "      <td>Male</td>\n",
       "      <td>191</td>\n",
       "      <td>62</td>\n",
       "      <td>Weak</td>\n",
       "    </tr>\n",
       "    <tr>\n",
       "      <th>410</th>\n",
       "      <td>Male</td>\n",
       "      <td>179</td>\n",
       "      <td>56</td>\n",
       "      <td>Weak</td>\n",
       "    </tr>\n",
       "    <tr>\n",
       "      <th>420</th>\n",
       "      <td>Female</td>\n",
       "      <td>195</td>\n",
       "      <td>61</td>\n",
       "      <td>Weak</td>\n",
       "    </tr>\n",
       "    <tr>\n",
       "      <th>424</th>\n",
       "      <td>Male</td>\n",
       "      <td>174</td>\n",
       "      <td>54</td>\n",
       "      <td>Weak</td>\n",
       "    </tr>\n",
       "    <tr>\n",
       "      <th>425</th>\n",
       "      <td>Female</td>\n",
       "      <td>180</td>\n",
       "      <td>59</td>\n",
       "      <td>Weak</td>\n",
       "    </tr>\n",
       "    <tr>\n",
       "      <th>438</th>\n",
       "      <td>Male</td>\n",
       "      <td>188</td>\n",
       "      <td>65</td>\n",
       "      <td>Weak</td>\n",
       "    </tr>\n",
       "    <tr>\n",
       "      <th>462</th>\n",
       "      <td>Male</td>\n",
       "      <td>179</td>\n",
       "      <td>56</td>\n",
       "      <td>Weak</td>\n",
       "    </tr>\n",
       "    <tr>\n",
       "      <th>493</th>\n",
       "      <td>Female</td>\n",
       "      <td>170</td>\n",
       "      <td>53</td>\n",
       "      <td>Weak</td>\n",
       "    </tr>\n",
       "  </tbody>\n",
       "</table>\n",
       "</div>"
      ],
      "text/plain": [
       "     Gender  Height  Weight Label\n",
       "27     Male     187      62  Weak\n",
       "31     Male     178      52  Weak\n",
       "32   Female     195      65  Weak\n",
       "51   Female     176      54  Weak\n",
       "98     Male     195      69  Weak\n",
       "200    Male     184      57  Weak\n",
       "242    Male     191      62  Weak\n",
       "269    Male     168      50  Weak\n",
       "279    Male     188      57  Weak\n",
       "280    Male     193      65  Weak\n",
       "308    Male     196      69  Weak\n",
       "358  Female     180      58  Weak\n",
       "360  Female     193      61  Weak\n",
       "372    Male     185      60  Weak\n",
       "381    Male     191      62  Weak\n",
       "410    Male     179      56  Weak\n",
       "420  Female     195      61  Weak\n",
       "424    Male     174      54  Weak\n",
       "425  Female     180      59  Weak\n",
       "438    Male     188      65  Weak\n",
       "462    Male     179      56  Weak\n",
       "493  Female     170      53  Weak"
      ]
     },
     "execution_count": 16,
     "metadata": {},
     "output_type": "execute_result"
    }
   ],
   "source": [
    "# 불리언 인덱싱\n",
    "# bmi[bmi['Label'] == 'Weak']\n",
    "\n",
    "bol = bmi['Label'] == 'Weak' # 불리언 인덱싱한 결과를 사용하기 위해 변수에 저장\n",
    "data = bmi.loc[bol] # 라벨이 Weak인 전체 행에 대한 데이터를 가져옴\n",
    "data "
   ]
  },
  {
   "cell_type": "markdown",
   "id": "dea1bb80",
   "metadata": {
    "ExecuteTime": {
     "end_time": "2023-08-22T02:13:00.516423Z",
     "start_time": "2023-08-22T02:13:00.497378Z"
    }
   },
   "source": [
    "#### Weak인 사람들을 그래프로 그려보기 \n",
    "- 산점도 그래프로 확인하기"
   ]
  },
  {
   "cell_type": "code",
   "execution_count": 26,
   "id": "c2e6d428",
   "metadata": {
    "ExecuteTime": {
     "end_time": "2023-08-22T02:18:44.121930Z",
     "start_time": "2023-08-22T02:18:43.959254Z"
    }
   },
   "outputs": [
    {
     "data": {
      "image/png": "[encoded data removed]",
      "text/plain": [
       "<Figure size 640x480 with 1 Axes>"
      ]
     },
     "metadata": {},
     "output_type": "display_data"
    }
   ],
   "source": [
    "# 그래프 그려주는 도구 꺼내오기 \n",
    "import matplotlib.pyplot as plt\n",
    "\n",
    "#plt.scatter(x, y) # x축 : 키값, y축 : 몸무게값\n",
    "plt.scatter(data['Height'], data['Weight'],\n",
    "           color = 'yellow', label = 'Weak')\n",
    "plt.legend() # 그래프에 범례(label) 표시 \n",
    "plt.show()"
   ]
  },
  {
   "cell_type": "markdown",
   "id": "7ca1c13b",
   "metadata": {},
   "source": [
    "#### OverWeight 그래프 그리기\n",
    "- 보라색으로 그리기"
   ]
  },
  {
   "cell_type": "code",
   "execution_count": 38,
   "id": "d93fa382",
   "metadata": {
    "ExecuteTime": {
     "end_time": "2023-08-22T02:31:46.173688Z",
     "start_time": "2023-08-22T02:31:46.161488Z"
    }
   },
   "outputs": [],
   "source": [
    "def myScatter(label, color) : \n",
    "    bol2 = bmi['Label'] == label # Overweight의 비만도인 불리언 인덱싱값 변수 저장\n",
    "    data2 = bmi.loc[bol2] # 변수값에 대한 전체 행에 대한 데이터를 가져옴 -> 변수로 저장\n",
    "    plt.scatter(data2['Height'], data2['Weight'],\n",
    "               color = color, label = label)"
   ]
  },
  {
   "cell_type": "code",
   "execution_count": 39,
   "id": "76cfc93b",
   "metadata": {
    "ExecuteTime": {
     "end_time": "2023-08-22T02:31:59.849405Z",
     "start_time": "2023-08-22T02:31:59.832415Z"
    }
   },
   "outputs": [],
   "source": [
    "#### 전체 그래프 그리기"
   ]
  },
  {
   "cell_type": "markdown",
   "id": "ad28de85",
   "metadata": {
    "ExecuteTime": {
     "end_time": "2023-08-22T02:29:40.084943Z",
     "start_time": "2023-08-22T02:29:40.076958Z"
    }
   },
   "source": [
    "#### 함수로 만들어져 그래프 그리기\n",
    "- 반복되는 부분을 함수로 간략화"
   ]
  },
  {
   "cell_type": "code",
   "execution_count": 36,
   "id": "9d5961c9",
   "metadata": {
    "ExecuteTime": {
     "end_time": "2023-08-22T02:25:16.603816Z",
     "start_time": "2023-08-22T02:25:16.440215Z"
    }
   },
   "outputs": [
    {
     "data": {
      "image/png": "[encoded data removed]",
      "text/plain": [
       "<Figure size 640x480 with 1 Axes>"
      ]
     },
     "metadata": {},
     "output_type": "display_data"
    }
   ],
   "source": [
    "plt.scatter(data2['Height'], data2['Weight'],\n",
    "           color = 'purple', label = 'Overweigh')\n",
    "plt.legend()  # 그래프에\n",
    "plt.show()"
   ]
  },
  {
   "cell_type": "markdown",
   "id": "7e85eee3",
   "metadata": {},
   "source": [
    "#### 전체 그래프 그리기"
   ]
  },
  {
   "cell_type": "code",
   "execution_count": null,
   "id": "27c85ff5",
   "metadata": {},
   "outputs": [],
   "source": []
  },
  {
   "cell_type": "code",
   "execution_count": null,
   "id": "7f8fc9e2",
   "metadata": {},
   "outputs": [],
   "source": []
  },
  {
   "cell_type": "code",
   "execution_count": 55,
   "id": "72b25e33",
   "metadata": {
    "ExecuteTime": {
     "end_time": "2023-08-22T02:47:47.022462Z",
     "start_time": "2023-08-22T02:47:46.747893Z"
    }
   },
   "outputs": [
    {
     "data": {
      "image/png": "[encoded data removed]",
      "text/plain": [
       "<Figure size 1200x800 with 1 Axes>"
      ]
     },
     "metadata": {},
     "output_type": "display_data"
    }
   ],
   "source": [
    "plt.figure(figsize=(12, 8))  # 그래프의 크기 사이즈를 조절하는 함수, 그래프 그리기 전에 크기를 조정하며, 크기는 인치로 적용됨.\n",
    "\n",
    "myScatter('Obesity', 'red')\n",
    "myScatter('Normal',  'blue')\n",
    "myScatter('Overweight','black')\n",
    "myScatter('Extreme Obesity', 'pink')\n",
    "myScatter('Weak',   'yellow')\n",
    "myScatter('Extremely Weak', 'lightgreen')\n",
    "plt.legend()\n",
    "plt.show()"
   ]
  },
  {
   "cell_type": "code",
   "execution_count": 43,
   "id": "f684b06e",
   "metadata": {
    "ExecuteTime": {
     "end_time": "2023-08-22T02:41:16.188494Z",
     "start_time": "2023-08-22T02:41:16.168779Z"
    }
   },
   "outputs": [
    {
     "data": {
      "text/html": [
       "<div>\n",
       "<style scoped>\n",
       "    .dataframe tbody tr th:only-of-type {\n",
       "        vertical-align: middle;\n",
       "    }\n",
       "\n",
       "    .dataframe tbody tr th {\n",
       "        vertical-align: top;\n",
       "    }\n",
       "\n",
       "    .dataframe thead th {\n",
       "        text-align: right;\n",
       "    }\n",
       "</style>\n",
       "<table border=\"1\" class=\"dataframe\">\n",
       "  <thead>\n",
       "    <tr style=\"text-align: right;\">\n",
       "      <th></th>\n",
       "      <th>Gender</th>\n",
       "      <th>Height</th>\n",
       "      <th>Weight</th>\n",
       "      <th>Label</th>\n",
       "    </tr>\n",
       "  </thead>\n",
       "  <tbody>\n",
       "    <tr>\n",
       "      <th>15</th>\n",
       "      <td>Female</td>\n",
       "      <td>153</td>\n",
       "      <td>107</td>\n",
       "      <td>Extreme Obesity</td>\n",
       "    </tr>\n",
       "    <tr>\n",
       "      <th>21</th>\n",
       "      <td>Female</td>\n",
       "      <td>153</td>\n",
       "      <td>149</td>\n",
       "      <td>Extreme Obesity</td>\n",
       "    </tr>\n",
       "    <tr>\n",
       "      <th>30</th>\n",
       "      <td>Male</td>\n",
       "      <td>153</td>\n",
       "      <td>121</td>\n",
       "      <td>Extreme Obesity</td>\n",
       "    </tr>\n",
       "    <tr>\n",
       "      <th>70</th>\n",
       "      <td>Female</td>\n",
       "      <td>153</td>\n",
       "      <td>51</td>\n",
       "      <td>Normal</td>\n",
       "    </tr>\n",
       "    <tr>\n",
       "      <th>212</th>\n",
       "      <td>Female</td>\n",
       "      <td>153</td>\n",
       "      <td>146</td>\n",
       "      <td>Extreme Obesity</td>\n",
       "    </tr>\n",
       "    <tr>\n",
       "      <th>231</th>\n",
       "      <td>Female</td>\n",
       "      <td>153</td>\n",
       "      <td>78</td>\n",
       "      <td>Normal</td>\n",
       "    </tr>\n",
       "    <tr>\n",
       "      <th>250</th>\n",
       "      <td>Male</td>\n",
       "      <td>153</td>\n",
       "      <td>70</td>\n",
       "      <td>Overweight</td>\n",
       "    </tr>\n",
       "    <tr>\n",
       "      <th>322</th>\n",
       "      <td>Male</td>\n",
       "      <td>153</td>\n",
       "      <td>104</td>\n",
       "      <td>Extreme Obesity</td>\n",
       "    </tr>\n",
       "    <tr>\n",
       "      <th>428</th>\n",
       "      <td>Female</td>\n",
       "      <td>153</td>\n",
       "      <td>77</td>\n",
       "      <td>Obesity</td>\n",
       "    </tr>\n",
       "    <tr>\n",
       "      <th>436</th>\n",
       "      <td>Female</td>\n",
       "      <td>153</td>\n",
       "      <td>133</td>\n",
       "      <td>Extreme Obesity</td>\n",
       "    </tr>\n",
       "  </tbody>\n",
       "</table>\n",
       "</div>"
      ],
      "text/plain": [
       "     Gender  Height  Weight            Label\n",
       "15   Female     153     107  Extreme Obesity\n",
       "21   Female     153     149  Extreme Obesity\n",
       "30     Male     153     121  Extreme Obesity\n",
       "70   Female     153      51           Normal\n",
       "212  Female     153     146  Extreme Obesity\n",
       "231  Female     153      78           Normal\n",
       "250    Male     153      70       Overweight\n",
       "322    Male     153     104  Extreme Obesity\n",
       "428  Female     153      77          Obesity\n",
       "436  Female     153     133  Extreme Obesity"
      ]
     },
     "execution_count": 43,
     "metadata": {},
     "output_type": "execute_result"
    }
   ],
   "source": [
    "bmi[bmi['Label'] == 'Normal'] # 우리가 찾으려는 값 : 153정도의 키, 78정[도의 몸무게\n",
    "h_153 = bmi[bmi['Height'] == 153] #231번째의 비만도는 Noraml이 아니라 obestiy로 변경해야함\n",
    "h_153"
   ]
  },
  {
   "cell_type": "code",
   "execution_count": 44,
   "id": "4f202e3c",
   "metadata": {
    "ExecuteTime": {
     "end_time": "2023-08-22T02:44:48.181476Z",
     "start_time": "2023-08-22T02:44:48.174410Z"
    }
   },
   "outputs": [],
   "source": [
    "# 키가 153이고 몸무게가 78킬로인 여성을 Normal로 잘못 표기된 것을 Obesity로 수정 \n",
    "bmi.loc[231, 'Label'] = 'Obesity'"
   ]
  },
  {
   "cell_type": "code",
   "execution_count": 54,
   "id": "f46b3913",
   "metadata": {
    "ExecuteTime": {
     "end_time": "2023-08-22T02:47:42.104788Z",
     "start_time": "2023-08-22T02:47:42.082342Z"
    }
   },
   "outputs": [
    {
     "data": {
      "text/html": [
       "<div>\n",
       "<style scoped>\n",
       "    .dataframe tbody tr th:only-of-type {\n",
       "        vertical-align: middle;\n",
       "    }\n",
       "\n",
       "    .dataframe tbody tr th {\n",
       "        vertical-align: top;\n",
       "    }\n",
       "\n",
       "    .dataframe thead th {\n",
       "        text-align: right;\n",
       "    }\n",
       "</style>\n",
       "<table border=\"1\" class=\"dataframe\">\n",
       "  <thead>\n",
       "    <tr style=\"text-align: right;\">\n",
       "      <th></th>\n",
       "      <th>Gender</th>\n",
       "      <th>Height</th>\n",
       "      <th>Weight</th>\n",
       "      <th>Label</th>\n",
       "    </tr>\n",
       "  </thead>\n",
       "  <tbody>\n",
       "    <tr>\n",
       "      <th>165</th>\n",
       "      <td>Male</td>\n",
       "      <td>181</td>\n",
       "      <td>78</td>\n",
       "      <td>Normal</td>\n",
       "    </tr>\n",
       "    <tr>\n",
       "      <th>231</th>\n",
       "      <td>Female</td>\n",
       "      <td>153</td>\n",
       "      <td>78</td>\n",
       "      <td>Obesity</td>\n",
       "    </tr>\n",
       "    <tr>\n",
       "      <th>234</th>\n",
       "      <td>Male</td>\n",
       "      <td>145</td>\n",
       "      <td>78</td>\n",
       "      <td>Obesity</td>\n",
       "    </tr>\n",
       "  </tbody>\n",
       "</table>\n",
       "</div>"
      ],
      "text/plain": [
       "     Gender  Height  Weight    Label\n",
       "165    Male     181      78   Normal\n",
       "231  Female     153      78  Obesity\n",
       "234    Male     145      78  Obesity"
      ]
     },
     "execution_count": 54,
     "metadata": {},
     "output_type": "execute_result"
    }
   ],
   "source": [
    "bmi.loc[bmi['Weight'] == 78]"
   ]
  },
  {
   "cell_type": "markdown",
   "id": "ce87fd72",
   "metadata": {},
   "source": [
    "### 모델 선택및 하이퍼파라미터 튜닝\n",
    "- 머신러닝의 모델을 불러와서 사용하는 단계\n",
    "- 모델을 가져와서 학습과 학습용과 검증용으로 해야함."
   ]
  },
  {
   "cell_type": "code",
   "execution_count": null,
   "id": "0dfeb16f",
   "metadata": {},
   "outputs": [],
   "source": []
  },
  {
   "cell_type": "code",
   "execution_count": null,
   "id": "4f646e3d",
   "metadata": {},
   "outputs": [],
   "source": []
  },
  {
   "cell_type": "markdown",
   "id": "93ab83ba",
   "metadata": {},
   "source": [
    "### 학습"
   ]
  },
  {
   "cell_type": "markdown",
   "id": "c43c0749",
   "metadata": {},
   "source": [
    "### 평가"
   ]
  },
  {
   "cell_type": "code",
   "execution_count": null,
   "id": "3b7d21af",
   "metadata": {},
   "outputs": [],
   "source": []
  },
  {
   "cell_type": "code",
   "execution_count": null,
   "id": "1da0dac5",
   "metadata": {},
   "outputs": [],
   "source": []
  },
  {
   "cell_type": "code",
   "execution_count": null,
   "id": "02091ecd",
   "metadata": {},
   "outputs": [],
   "source": []
  }
 ],
 "metadata": {
  "kernelspec": {
   "display_name": "Python 3 (ipykernel)",
   "language": "python",
   "name": "python3"
  },
  "language_info": {
   "codemirror_mode": {
    "name": "ipython",
    "version": 3
   },
   "file_extension": ".py",
   "mimetype": "text/x-python",
   "name": "python",
   "nbconvert_exporter": "python",
   "pygments_lexer": "ipython3",
   "version": "3.10.9"
  },
  "toc": {
   "base_numbering": 1,
   "nav_menu": {},
   "number_sections": true,
   "sideBar": true,
   "skip_h1_title": false,
   "title_cell": "Table of Contents",
   "title_sidebar": "Contents",
   "toc_cell": false,
   "toc_position": {},
   "toc_section_display": true,
   "toc_window_display": false
  }
 },
 "nbformat": 4,
 "nbformat_minor": 5
}
