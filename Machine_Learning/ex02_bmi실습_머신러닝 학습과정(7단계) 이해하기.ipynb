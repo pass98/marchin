{
 "cells": [
  {
   "cell_type": "markdown",
   "id": "65897d69",
   "metadata": {},
   "source": [
    "[목표]\n",
    "- 500명의 키와 몸무게, 비만도 라벨을 이용하여 비만을 판단하는 모델을 만들어보자\n",
    "- 머신러닝 전체 과정의 흐름을 이해하자"
   ]
  },
  {
   "cell_type": "markdown",
   "id": "e5ad4201",
   "metadata": {},
   "source": [
    "머신러닝 학습 - 7단계 \n",
    "AND 연산\n",
    "1. 문제정의\n",
    "2. 데이터 만들기\n",
    "3. 데이터 전처리\n",
    "4. 탐색적 데이터 분석(EDA) => 생략\n",
    "5. 모델생성, 하이퍼파라미터 정의(튜닝)\n",
    "6. 학습\n",
    "7. 평가"
   ]
  },
  {
   "cell_type": "markdown",
   "id": "361bdcb9",
   "metadata": {},
   "source": [
    "### 문제정의\n",
    "- 머신러닝을 통해서 어떤 문제를 해결할 것인가? \n",
    "- 지도 vs 비지도 vs 강화\n",
    "- 지도 : 분류 vs 회귀\n",
    "- 비만을 판단하는 모델을 만들자 ==> 지도학습 - 분류 "
   ]
  },
  {
   "cell_type": "markdown",
   "id": "569dfa12",
   "metadata": {},
   "source": [
    "### 데이터 수집\n",
    "- csv 파일로 이루어진 데이터 수집 \n",
    "- 500명의 성별, 키, 몸무게, 비만도 등급 "
   ]
  },
  {
   "cell_type": "code",
   "execution_count": 1,
   "id": "79eeeb6b",
   "metadata": {
    "ExecuteTime": {
     "end_time": "2023-08-22T03:42:37.121050Z",
     "start_time": "2023-08-22T03:42:36.690274Z"
    }
   },
   "outputs": [
    {
     "data": {
      "text/html": [
       "<div>\n",
       "<style scoped>\n",
       "    .dataframe tbody tr th:only-of-type {\n",
       "        vertical-align: middle;\n",
       "    }\n",
       "\n",
       "    .dataframe tbody tr th {\n",
       "        vertical-align: top;\n",
       "    }\n",
       "\n",
       "    .dataframe thead th {\n",
       "        text-align: right;\n",
       "    }\n",
       "</style>\n",
       "<table border=\"1\" class=\"dataframe\">\n",
       "  <thead>\n",
       "    <tr style=\"text-align: right;\">\n",
       "      <th></th>\n",
       "      <th>Gender</th>\n",
       "      <th>Height</th>\n",
       "      <th>Weight</th>\n",
       "      <th>Label</th>\n",
       "    </tr>\n",
       "  </thead>\n",
       "  <tbody>\n",
       "    <tr>\n",
       "      <th>0</th>\n",
       "      <td>Male</td>\n",
       "      <td>174</td>\n",
       "      <td>96</td>\n",
       "      <td>Obesity</td>\n",
       "    </tr>\n",
       "    <tr>\n",
       "      <th>1</th>\n",
       "      <td>Male</td>\n",
       "      <td>189</td>\n",
       "      <td>87</td>\n",
       "      <td>Normal</td>\n",
       "    </tr>\n",
       "    <tr>\n",
       "      <th>2</th>\n",
       "      <td>Female</td>\n",
       "      <td>185</td>\n",
       "      <td>110</td>\n",
       "      <td>Obesity</td>\n",
       "    </tr>\n",
       "    <tr>\n",
       "      <th>3</th>\n",
       "      <td>Female</td>\n",
       "      <td>195</td>\n",
       "      <td>104</td>\n",
       "      <td>Overweight</td>\n",
       "    </tr>\n",
       "    <tr>\n",
       "      <th>4</th>\n",
       "      <td>Male</td>\n",
       "      <td>149</td>\n",
       "      <td>61</td>\n",
       "      <td>Overweight</td>\n",
       "    </tr>\n",
       "    <tr>\n",
       "      <th>...</th>\n",
       "      <td>...</td>\n",
       "      <td>...</td>\n",
       "      <td>...</td>\n",
       "      <td>...</td>\n",
       "    </tr>\n",
       "    <tr>\n",
       "      <th>495</th>\n",
       "      <td>Female</td>\n",
       "      <td>150</td>\n",
       "      <td>153</td>\n",
       "      <td>Extreme Obesity</td>\n",
       "    </tr>\n",
       "    <tr>\n",
       "      <th>496</th>\n",
       "      <td>Female</td>\n",
       "      <td>184</td>\n",
       "      <td>121</td>\n",
       "      <td>Obesity</td>\n",
       "    </tr>\n",
       "    <tr>\n",
       "      <th>497</th>\n",
       "      <td>Female</td>\n",
       "      <td>141</td>\n",
       "      <td>136</td>\n",
       "      <td>Extreme Obesity</td>\n",
       "    </tr>\n",
       "    <tr>\n",
       "      <th>498</th>\n",
       "      <td>Male</td>\n",
       "      <td>150</td>\n",
       "      <td>95</td>\n",
       "      <td>Extreme Obesity</td>\n",
       "    </tr>\n",
       "    <tr>\n",
       "      <th>499</th>\n",
       "      <td>Male</td>\n",
       "      <td>173</td>\n",
       "      <td>131</td>\n",
       "      <td>Extreme Obesity</td>\n",
       "    </tr>\n",
       "  </tbody>\n",
       "</table>\n",
       "<p>500 rows × 4 columns</p>\n",
       "</div>"
      ],
      "text/plain": [
       "     Gender  Height  Weight            Label\n",
       "0      Male     174      96          Obesity\n",
       "1      Male     189      87           Normal\n",
       "2    Female     185     110          Obesity\n",
       "3    Female     195     104       Overweight\n",
       "4      Male     149      61       Overweight\n",
       "..      ...     ...     ...              ...\n",
       "495  Female     150     153  Extreme Obesity\n",
       "496  Female     184     121          Obesity\n",
       "497  Female     141     136  Extreme Obesity\n",
       "498    Male     150      95  Extreme Obesity\n",
       "499    Male     173     131  Extreme Obesity\n",
       "\n",
       "[500 rows x 4 columns]"
      ]
     },
     "execution_count": 1,
     "metadata": {},
     "output_type": "execute_result"
    }
   ],
   "source": [
    "# 데이터 꺼내오기 \n",
    "import pandas as pd \n",
    "bmi = pd.read_csv('./data/bmi_500.csv')\n",
    "bmi"
   ]
  },
  {
   "cell_type": "markdown",
   "id": "aad5769a",
   "metadata": {},
   "source": [
    "### 데이터 전처리 (내가 수집한 데이터의 오류나 빈값이 없는지 확인)\n",
    "- 1. 결측치 처리 : 비어있는 데이터를 채워주기 \n",
    "- 2. 이상치 처리 : 정상적인 범위를 벗어난 데이터 수정하기 "
   ]
  },
  {
   "cell_type": "markdown",
   "id": "f58d1481",
   "metadata": {},
   "source": [
    "#### 결측치 확인\n",
    "- 데이터프레임의 형태를 갖춘 후 info() 함수 사용"
   ]
  },
  {
   "cell_type": "code",
   "execution_count": 2,
   "id": "d70557b3",
   "metadata": {
    "ExecuteTime": {
     "end_time": "2023-08-22T03:42:37.136233Z",
     "start_time": "2023-08-22T03:42:37.122050Z"
    },
    "scrolled": true
   },
   "outputs": [
    {
     "name": "stdout",
     "output_type": "stream",
     "text": [
      "<class 'pandas.core.frame.DataFrame'>\n",
      "RangeIndex: 500 entries, 0 to 499\n",
      "Data columns (total 4 columns):\n",
      " #   Column  Non-Null Count  Dtype \n",
      "---  ------  --------------  ----- \n",
      " 0   Gender  500 non-null    object\n",
      " 1   Height  500 non-null    int64 \n",
      " 2   Weight  500 non-null    int64 \n",
      " 3   Label   500 non-null    object\n",
      "dtypes: int64(2), object(2)\n",
      "memory usage: 15.8+ KB\n"
     ]
    }
   ],
   "source": [
    "bmi.info()"
   ]
  },
  {
   "cell_type": "markdown",
   "id": "1db0af70",
   "metadata": {},
   "source": [
    "#### 이상치 확인\n",
    "- 데이터프레임의 형태를 갖춘 후 describe() 함수 사용\n",
    "- describe() : 수치형 데이터만 분석가능, 기술통계"
   ]
  },
  {
   "cell_type": "code",
   "execution_count": 3,
   "id": "dee2853c",
   "metadata": {
    "ExecuteTime": {
     "end_time": "2023-08-22T03:42:37.152246Z",
     "start_time": "2023-08-22T03:42:37.138217Z"
    }
   },
   "outputs": [
    {
     "data": {
      "text/html": [
       "<div>\n",
       "<style scoped>\n",
       "    .dataframe tbody tr th:only-of-type {\n",
       "        vertical-align: middle;\n",
       "    }\n",
       "\n",
       "    .dataframe tbody tr th {\n",
       "        vertical-align: top;\n",
       "    }\n",
       "\n",
       "    .dataframe thead th {\n",
       "        text-align: right;\n",
       "    }\n",
       "</style>\n",
       "<table border=\"1\" class=\"dataframe\">\n",
       "  <thead>\n",
       "    <tr style=\"text-align: right;\">\n",
       "      <th></th>\n",
       "      <th>Height</th>\n",
       "      <th>Weight</th>\n",
       "    </tr>\n",
       "  </thead>\n",
       "  <tbody>\n",
       "    <tr>\n",
       "      <th>count</th>\n",
       "      <td>500.000000</td>\n",
       "      <td>500.000000</td>\n",
       "    </tr>\n",
       "    <tr>\n",
       "      <th>mean</th>\n",
       "      <td>169.944000</td>\n",
       "      <td>106.000000</td>\n",
       "    </tr>\n",
       "    <tr>\n",
       "      <th>std</th>\n",
       "      <td>16.375261</td>\n",
       "      <td>32.382607</td>\n",
       "    </tr>\n",
       "    <tr>\n",
       "      <th>min</th>\n",
       "      <td>140.000000</td>\n",
       "      <td>50.000000</td>\n",
       "    </tr>\n",
       "    <tr>\n",
       "      <th>25%</th>\n",
       "      <td>156.000000</td>\n",
       "      <td>80.000000</td>\n",
       "    </tr>\n",
       "    <tr>\n",
       "      <th>50%</th>\n",
       "      <td>170.500000</td>\n",
       "      <td>106.000000</td>\n",
       "    </tr>\n",
       "    <tr>\n",
       "      <th>75%</th>\n",
       "      <td>184.000000</td>\n",
       "      <td>136.000000</td>\n",
       "    </tr>\n",
       "    <tr>\n",
       "      <th>max</th>\n",
       "      <td>199.000000</td>\n",
       "      <td>160.000000</td>\n",
       "    </tr>\n",
       "  </tbody>\n",
       "</table>\n",
       "</div>"
      ],
      "text/plain": [
       "           Height      Weight\n",
       "count  500.000000  500.000000\n",
       "mean   169.944000  106.000000\n",
       "std     16.375261   32.382607\n",
       "min    140.000000   50.000000\n",
       "25%    156.000000   80.000000\n",
       "50%    170.500000  106.000000\n",
       "75%    184.000000  136.000000\n",
       "max    199.000000  160.000000"
      ]
     },
     "execution_count": 3,
     "metadata": {},
     "output_type": "execute_result"
    }
   ],
   "source": [
    "bmi.describe()\n",
    "# count : 데이터 수\n",
    "# mean : 평균값\n",
    "# std : 표준편차\n",
    "# min : 최소값\n",
    "# 25% : 1분위수\n",
    "# 50% : 중앙값\n",
    "# 75% : 3분위수\n",
    "# max : 최대값 \n",
    "\n",
    "# 1. min, max 확인하기 \n",
    "# 2. 평균(mean), 중앙값(50%) 확인하기 ==> 두 수치가 비슷한지 확인 : 우리의 데이터는 이상치 X\n",
    "# 3. 두 수치(평균, 중앙값)가 비슷하지 않을 경우 : min ~ max까지 5개의 간격을 확인하기\n",
    "#     ==> 각 구간의 데이터가 고르게 분포가 되어있는지 확인 \n",
    "\n",
    "\n",
    "# 우리의 데이터는 정상적인 데이터로 판단이 됨 "
   ]
  },
  {
   "cell_type": "markdown",
   "id": "9b508208",
   "metadata": {},
   "source": [
    "### 탐색적 데이터 분석(EDA)\n",
    "- 데이터를 자세하게 살펴보자\n",
    "- 비만도별로 데이터가 잘 나뉘어져있는지 확인 "
   ]
  },
  {
   "cell_type": "markdown",
   "id": "150b90a5",
   "metadata": {},
   "source": [
    "#### 비만도 등급 확인"
   ]
  },
  {
   "cell_type": "code",
   "execution_count": 4,
   "id": "c5e70375",
   "metadata": {
    "ExecuteTime": {
     "end_time": "2023-08-22T03:42:37.167719Z",
     "start_time": "2023-08-22T03:42:37.154241Z"
    }
   },
   "outputs": [
    {
     "data": {
      "text/plain": [
       "array(['Obesity', 'Normal', 'Overweight', 'Extreme Obesity', 'Weak',\n",
       "       'Extremely Weak'], dtype=object)"
      ]
     },
     "execution_count": 4,
     "metadata": {},
     "output_type": "execute_result"
    }
   ],
   "source": [
    "# 중복 값을 제거하고 확인 - unique()\n",
    "bmi['Label'].unique()\n",
    "\n",
    "# 'Obesity',   비만\n",
    "# 'Normal',    정상\n",
    "# 'Overweight', 과체중\n",
    "# 'Extreme Obesity', 고도비만\n",
    "# 'Weak',       저체중    \n",
    "# 'Extremely Weak'   극심한 저체중 "
   ]
  },
  {
   "cell_type": "markdown",
   "id": "756c2519",
   "metadata": {},
   "source": [
    "#### Label이 Weak인 사람들만 추려보기"
   ]
  },
  {
   "cell_type": "code",
   "execution_count": 5,
   "id": "c649b395",
   "metadata": {
    "ExecuteTime": {
     "end_time": "2023-08-22T03:42:37.183304Z",
     "start_time": "2023-08-22T03:42:37.170257Z"
    }
   },
   "outputs": [
    {
     "data": {
      "text/html": [
       "<div>\n",
       "<style scoped>\n",
       "    .dataframe tbody tr th:only-of-type {\n",
       "        vertical-align: middle;\n",
       "    }\n",
       "\n",
       "    .dataframe tbody tr th {\n",
       "        vertical-align: top;\n",
       "    }\n",
       "\n",
       "    .dataframe thead th {\n",
       "        text-align: right;\n",
       "    }\n",
       "</style>\n",
       "<table border=\"1\" class=\"dataframe\">\n",
       "  <thead>\n",
       "    <tr style=\"text-align: right;\">\n",
       "      <th></th>\n",
       "      <th>Gender</th>\n",
       "      <th>Height</th>\n",
       "      <th>Weight</th>\n",
       "      <th>Label</th>\n",
       "    </tr>\n",
       "  </thead>\n",
       "  <tbody>\n",
       "    <tr>\n",
       "      <th>27</th>\n",
       "      <td>Male</td>\n",
       "      <td>187</td>\n",
       "      <td>62</td>\n",
       "      <td>Weak</td>\n",
       "    </tr>\n",
       "    <tr>\n",
       "      <th>31</th>\n",
       "      <td>Male</td>\n",
       "      <td>178</td>\n",
       "      <td>52</td>\n",
       "      <td>Weak</td>\n",
       "    </tr>\n",
       "    <tr>\n",
       "      <th>32</th>\n",
       "      <td>Female</td>\n",
       "      <td>195</td>\n",
       "      <td>65</td>\n",
       "      <td>Weak</td>\n",
       "    </tr>\n",
       "    <tr>\n",
       "      <th>51</th>\n",
       "      <td>Female</td>\n",
       "      <td>176</td>\n",
       "      <td>54</td>\n",
       "      <td>Weak</td>\n",
       "    </tr>\n",
       "    <tr>\n",
       "      <th>98</th>\n",
       "      <td>Male</td>\n",
       "      <td>195</td>\n",
       "      <td>69</td>\n",
       "      <td>Weak</td>\n",
       "    </tr>\n",
       "    <tr>\n",
       "      <th>200</th>\n",
       "      <td>Male</td>\n",
       "      <td>184</td>\n",
       "      <td>57</td>\n",
       "      <td>Weak</td>\n",
       "    </tr>\n",
       "    <tr>\n",
       "      <th>242</th>\n",
       "      <td>Male</td>\n",
       "      <td>191</td>\n",
       "      <td>62</td>\n",
       "      <td>Weak</td>\n",
       "    </tr>\n",
       "    <tr>\n",
       "      <th>269</th>\n",
       "      <td>Male</td>\n",
       "      <td>168</td>\n",
       "      <td>50</td>\n",
       "      <td>Weak</td>\n",
       "    </tr>\n",
       "    <tr>\n",
       "      <th>279</th>\n",
       "      <td>Male</td>\n",
       "      <td>188</td>\n",
       "      <td>57</td>\n",
       "      <td>Weak</td>\n",
       "    </tr>\n",
       "    <tr>\n",
       "      <th>280</th>\n",
       "      <td>Male</td>\n",
       "      <td>193</td>\n",
       "      <td>65</td>\n",
       "      <td>Weak</td>\n",
       "    </tr>\n",
       "    <tr>\n",
       "      <th>308</th>\n",
       "      <td>Male</td>\n",
       "      <td>196</td>\n",
       "      <td>69</td>\n",
       "      <td>Weak</td>\n",
       "    </tr>\n",
       "    <tr>\n",
       "      <th>358</th>\n",
       "      <td>Female</td>\n",
       "      <td>180</td>\n",
       "      <td>58</td>\n",
       "      <td>Weak</td>\n",
       "    </tr>\n",
       "    <tr>\n",
       "      <th>360</th>\n",
       "      <td>Female</td>\n",
       "      <td>193</td>\n",
       "      <td>61</td>\n",
       "      <td>Weak</td>\n",
       "    </tr>\n",
       "    <tr>\n",
       "      <th>372</th>\n",
       "      <td>Male</td>\n",
       "      <td>185</td>\n",
       "      <td>60</td>\n",
       "      <td>Weak</td>\n",
       "    </tr>\n",
       "    <tr>\n",
       "      <th>381</th>\n",
       "      <td>Male</td>\n",
       "      <td>191</td>\n",
       "      <td>62</td>\n",
       "      <td>Weak</td>\n",
       "    </tr>\n",
       "    <tr>\n",
       "      <th>410</th>\n",
       "      <td>Male</td>\n",
       "      <td>179</td>\n",
       "      <td>56</td>\n",
       "      <td>Weak</td>\n",
       "    </tr>\n",
       "    <tr>\n",
       "      <th>420</th>\n",
       "      <td>Female</td>\n",
       "      <td>195</td>\n",
       "      <td>61</td>\n",
       "      <td>Weak</td>\n",
       "    </tr>\n",
       "    <tr>\n",
       "      <th>424</th>\n",
       "      <td>Male</td>\n",
       "      <td>174</td>\n",
       "      <td>54</td>\n",
       "      <td>Weak</td>\n",
       "    </tr>\n",
       "    <tr>\n",
       "      <th>425</th>\n",
       "      <td>Female</td>\n",
       "      <td>180</td>\n",
       "      <td>59</td>\n",
       "      <td>Weak</td>\n",
       "    </tr>\n",
       "    <tr>\n",
       "      <th>438</th>\n",
       "      <td>Male</td>\n",
       "      <td>188</td>\n",
       "      <td>65</td>\n",
       "      <td>Weak</td>\n",
       "    </tr>\n",
       "    <tr>\n",
       "      <th>462</th>\n",
       "      <td>Male</td>\n",
       "      <td>179</td>\n",
       "      <td>56</td>\n",
       "      <td>Weak</td>\n",
       "    </tr>\n",
       "    <tr>\n",
       "      <th>493</th>\n",
       "      <td>Female</td>\n",
       "      <td>170</td>\n",
       "      <td>53</td>\n",
       "      <td>Weak</td>\n",
       "    </tr>\n",
       "  </tbody>\n",
       "</table>\n",
       "</div>"
      ],
      "text/plain": [
       "     Gender  Height  Weight Label\n",
       "27     Male     187      62  Weak\n",
       "31     Male     178      52  Weak\n",
       "32   Female     195      65  Weak\n",
       "51   Female     176      54  Weak\n",
       "98     Male     195      69  Weak\n",
       "200    Male     184      57  Weak\n",
       "242    Male     191      62  Weak\n",
       "269    Male     168      50  Weak\n",
       "279    Male     188      57  Weak\n",
       "280    Male     193      65  Weak\n",
       "308    Male     196      69  Weak\n",
       "358  Female     180      58  Weak\n",
       "360  Female     193      61  Weak\n",
       "372    Male     185      60  Weak\n",
       "381    Male     191      62  Weak\n",
       "410    Male     179      56  Weak\n",
       "420  Female     195      61  Weak\n",
       "424    Male     174      54  Weak\n",
       "425  Female     180      59  Weak\n",
       "438    Male     188      65  Weak\n",
       "462    Male     179      56  Weak\n",
       "493  Female     170      53  Weak"
      ]
     },
     "execution_count": 5,
     "metadata": {},
     "output_type": "execute_result"
    }
   ],
   "source": [
    "# 불리언 인덱싱\n",
    "# bmi[bmi['Label'] == 'Weak']\n",
    "\n",
    "bol = bmi['Label'] == 'Weak'  # 불리언 인덱싱한 결과를 사용하기 위해 변수에 저장\n",
    "data = bmi.loc[bol]  # 라벨이 Weak인 전체 행에 대한 데이터를 가져옴 --> 변수에 저장 \n",
    "data"
   ]
  },
  {
   "cell_type": "markdown",
   "id": "87d93729",
   "metadata": {},
   "source": [
    "#### Weak인 사람들을 그래프로 그려보기\n",
    "- 산점도"
   ]
  },
  {
   "cell_type": "code",
   "execution_count": 6,
   "id": "6ba9a719",
   "metadata": {
    "ExecuteTime": {
     "end_time": "2023-08-22T03:42:37.774221Z",
     "start_time": "2023-08-22T03:42:37.186294Z"
    }
   },
   "outputs": [
    {
     "data": {
      "image/png": "[encoded data removed]",
      "text/plain": [
       "<Figure size 640x480 with 1 Axes>"
      ]
     },
     "metadata": {},
     "output_type": "display_data"
    }
   ],
   "source": [
    "# 그래프 그려주는 도구 꺼내오기\n",
    "import matplotlib.pyplot as plt\n",
    "\n",
    "#plt.scatter(x, y)   # X축 : 키, Y축 : 몸무게\n",
    "plt.scatter(data['Height'], data['Weight'],\n",
    "           color = 'yellow', label = 'Weak')\n",
    "plt.legend()  # 그래프에 범례(label) 표시\n",
    "plt.show()"
   ]
  },
  {
   "cell_type": "markdown",
   "id": "b1dbda5a",
   "metadata": {},
   "source": [
    "#### OverWeight 그래프 그리기\n",
    "- 보라색으로 그리기"
   ]
  },
  {
   "cell_type": "code",
   "execution_count": 7,
   "id": "dcb05952",
   "metadata": {
    "ExecuteTime": {
     "end_time": "2023-08-22T03:42:37.930112Z",
     "start_time": "2023-08-22T03:42:37.775698Z"
    }
   },
   "outputs": [
    {
     "data": {
      "image/png": "[encoded data removed]",
      "text/plain": [
       "<Figure size 640x480 with 1 Axes>"
      ]
     },
     "metadata": {},
     "output_type": "display_data"
    }
   ],
   "source": [
    "bol = bmi['Label'] == 'Overweight'  # 불리언 인덱싱한 결과를 사용하기 위해 변수에 저장\n",
    "data = bmi.loc[bol]  # 라벨이 Weak인 전체 행에 대한 데이터를 가져옴 --> 변수에 저장 \n",
    "\n",
    "plt.scatter(data['Height'], data['Weight'],\n",
    "           color = 'purple', label = 'Overweight')\n",
    "plt.legend()  # 그래프에 범례(label) 표시\n",
    "plt.show()"
   ]
  },
  {
   "cell_type": "markdown",
   "id": "7b66f566",
   "metadata": {},
   "source": [
    "#### 함수로 만들어서 그래프 그리기\n",
    "- 반복되는 부분을 함수로 간략화"
   ]
  },
  {
   "cell_type": "code",
   "execution_count": 8,
   "id": "14d706a1",
   "metadata": {
    "ExecuteTime": {
     "end_time": "2023-08-22T03:42:37.945105Z",
     "start_time": "2023-08-22T03:42:37.932472Z"
    }
   },
   "outputs": [],
   "source": [
    "def myScatter(label, color) :  \n",
    "    bol = bmi['Label'] == label  \n",
    "    data = bmi.loc[bol]  \n",
    "    plt.scatter(data['Height'], data['Weight'],\n",
    "               color = color, label = label)"
   ]
  },
  {
   "cell_type": "markdown",
   "id": "252837e5",
   "metadata": {},
   "source": [
    "#### 전체 그래프 그리기"
   ]
  },
  {
   "cell_type": "code",
   "execution_count": 9,
   "id": "7f34eb4d",
   "metadata": {
    "ExecuteTime": {
     "end_time": "2023-08-22T03:42:38.225328Z",
     "start_time": "2023-08-22T03:42:37.947105Z"
    }
   },
   "outputs": [
    {
     "data": {
      "image/png": "[encoded data removed]",
      "text/plain": [
       "<Figure size 1200x800 with 1 Axes>"
      ]
     },
     "metadata": {},
     "output_type": "display_data"
    }
   ],
   "source": [
    "plt.figure(figsize=(12, 8))\n",
    "\n",
    "myScatter('Obesity', 'red')\n",
    "myScatter('Normal', 'blue')\n",
    "myScatter('Overweight', 'black')\n",
    "myScatter('Extreme Obesity', 'pink')\n",
    "myScatter('Weak', 'yellow')\n",
    "myScatter('Extremely Weak', 'lightgreen')\n",
    "\n",
    "plt.legend()\n",
    "plt.show()"
   ]
  },
  {
   "cell_type": "code",
   "execution_count": 10,
   "id": "60c1b4d6",
   "metadata": {
    "ExecuteTime": {
     "end_time": "2023-08-22T03:42:38.240370Z",
     "start_time": "2023-08-22T03:42:38.227322Z"
    }
   },
   "outputs": [
    {
     "data": {
      "text/html": [
       "<div>\n",
       "<style scoped>\n",
       "    .dataframe tbody tr th:only-of-type {\n",
       "        vertical-align: middle;\n",
       "    }\n",
       "\n",
       "    .dataframe tbody tr th {\n",
       "        vertical-align: top;\n",
       "    }\n",
       "\n",
       "    .dataframe thead th {\n",
       "        text-align: right;\n",
       "    }\n",
       "</style>\n",
       "<table border=\"1\" class=\"dataframe\">\n",
       "  <thead>\n",
       "    <tr style=\"text-align: right;\">\n",
       "      <th></th>\n",
       "      <th>Gender</th>\n",
       "      <th>Height</th>\n",
       "      <th>Weight</th>\n",
       "      <th>Label</th>\n",
       "    </tr>\n",
       "  </thead>\n",
       "  <tbody>\n",
       "    <tr>\n",
       "      <th>15</th>\n",
       "      <td>Female</td>\n",
       "      <td>153</td>\n",
       "      <td>107</td>\n",
       "      <td>Extreme Obesity</td>\n",
       "    </tr>\n",
       "    <tr>\n",
       "      <th>21</th>\n",
       "      <td>Female</td>\n",
       "      <td>153</td>\n",
       "      <td>149</td>\n",
       "      <td>Extreme Obesity</td>\n",
       "    </tr>\n",
       "    <tr>\n",
       "      <th>30</th>\n",
       "      <td>Male</td>\n",
       "      <td>153</td>\n",
       "      <td>121</td>\n",
       "      <td>Extreme Obesity</td>\n",
       "    </tr>\n",
       "    <tr>\n",
       "      <th>70</th>\n",
       "      <td>Female</td>\n",
       "      <td>153</td>\n",
       "      <td>51</td>\n",
       "      <td>Normal</td>\n",
       "    </tr>\n",
       "    <tr>\n",
       "      <th>212</th>\n",
       "      <td>Female</td>\n",
       "      <td>153</td>\n",
       "      <td>146</td>\n",
       "      <td>Extreme Obesity</td>\n",
       "    </tr>\n",
       "    <tr>\n",
       "      <th>231</th>\n",
       "      <td>Female</td>\n",
       "      <td>153</td>\n",
       "      <td>78</td>\n",
       "      <td>Normal</td>\n",
       "    </tr>\n",
       "    <tr>\n",
       "      <th>250</th>\n",
       "      <td>Male</td>\n",
       "      <td>153</td>\n",
       "      <td>70</td>\n",
       "      <td>Overweight</td>\n",
       "    </tr>\n",
       "    <tr>\n",
       "      <th>322</th>\n",
       "      <td>Male</td>\n",
       "      <td>153</td>\n",
       "      <td>104</td>\n",
       "      <td>Extreme Obesity</td>\n",
       "    </tr>\n",
       "    <tr>\n",
       "      <th>428</th>\n",
       "      <td>Female</td>\n",
       "      <td>153</td>\n",
       "      <td>77</td>\n",
       "      <td>Obesity</td>\n",
       "    </tr>\n",
       "    <tr>\n",
       "      <th>436</th>\n",
       "      <td>Female</td>\n",
       "      <td>153</td>\n",
       "      <td>133</td>\n",
       "      <td>Extreme Obesity</td>\n",
       "    </tr>\n",
       "  </tbody>\n",
       "</table>\n",
       "</div>"
      ],
      "text/plain": [
       "     Gender  Height  Weight            Label\n",
       "15   Female     153     107  Extreme Obesity\n",
       "21   Female     153     149  Extreme Obesity\n",
       "30     Male     153     121  Extreme Obesity\n",
       "70   Female     153      51           Normal\n",
       "212  Female     153     146  Extreme Obesity\n",
       "231  Female     153      78           Normal\n",
       "250    Male     153      70       Overweight\n",
       "322    Male     153     104  Extreme Obesity\n",
       "428  Female     153      77          Obesity\n",
       "436  Female     153     133  Extreme Obesity"
      ]
     },
     "execution_count": 10,
     "metadata": {},
     "output_type": "execute_result"
    }
   ],
   "source": [
    "bmi[bmi['Label'] == 'Normal']  # 153정도의 키, 78정도의 몸무게\n",
    "h_153 = bmi[bmi['Height'] == 153]  \n",
    "h_153\n",
    "# 231\tFemale\t153\t78\tNormal ==> Obesity로 변경 "
   ]
  },
  {
   "cell_type": "code",
   "execution_count": 11,
   "id": "f421cc33",
   "metadata": {
    "ExecuteTime": {
     "end_time": "2023-08-22T03:42:38.255907Z",
     "start_time": "2023-08-22T03:42:38.243387Z"
    }
   },
   "outputs": [],
   "source": [
    "# 키가 153이고 몸무게가 78킬로인 여성을 Normal로 잘못 표기된 것을 Obesity로 수정\n",
    "bmi.loc[231, 'Label'] = 'Obesity'"
   ]
  },
  {
   "cell_type": "code",
   "execution_count": 12,
   "id": "97e39681",
   "metadata": {
    "ExecuteTime": {
     "end_time": "2023-08-22T03:42:38.271920Z",
     "start_time": "2023-08-22T03:42:38.257887Z"
    }
   },
   "outputs": [
    {
     "data": {
      "text/html": [
       "<div>\n",
       "<style scoped>\n",
       "    .dataframe tbody tr th:only-of-type {\n",
       "        vertical-align: middle;\n",
       "    }\n",
       "\n",
       "    .dataframe tbody tr th {\n",
       "        vertical-align: top;\n",
       "    }\n",
       "\n",
       "    .dataframe thead th {\n",
       "        text-align: right;\n",
       "    }\n",
       "</style>\n",
       "<table border=\"1\" class=\"dataframe\">\n",
       "  <thead>\n",
       "    <tr style=\"text-align: right;\">\n",
       "      <th></th>\n",
       "      <th>Gender</th>\n",
       "      <th>Height</th>\n",
       "      <th>Weight</th>\n",
       "      <th>Label</th>\n",
       "    </tr>\n",
       "  </thead>\n",
       "  <tbody>\n",
       "    <tr>\n",
       "      <th>165</th>\n",
       "      <td>Male</td>\n",
       "      <td>181</td>\n",
       "      <td>78</td>\n",
       "      <td>Normal</td>\n",
       "    </tr>\n",
       "    <tr>\n",
       "      <th>231</th>\n",
       "      <td>Female</td>\n",
       "      <td>153</td>\n",
       "      <td>78</td>\n",
       "      <td>Obesity</td>\n",
       "    </tr>\n",
       "    <tr>\n",
       "      <th>234</th>\n",
       "      <td>Male</td>\n",
       "      <td>145</td>\n",
       "      <td>78</td>\n",
       "      <td>Obesity</td>\n",
       "    </tr>\n",
       "  </tbody>\n",
       "</table>\n",
       "</div>"
      ],
      "text/plain": [
       "     Gender  Height  Weight    Label\n",
       "165    Male     181      78   Normal\n",
       "231  Female     153      78  Obesity\n",
       "234    Male     145      78  Obesity"
      ]
     },
     "execution_count": 12,
     "metadata": {},
     "output_type": "execute_result"
    }
   ],
   "source": [
    "bmi.loc[bmi['Weight'] == 78]"
   ]
  },
  {
   "cell_type": "markdown",
   "id": "8ce0d998",
   "metadata": {},
   "source": [
    "### 모델 선택 및 하이퍼파라미터 튜닝\n",
    "- 머신러닝의 모델 불러와서 사용하는 단계 "
   ]
  },
  {
   "cell_type": "markdown",
   "id": "769ac9f1",
   "metadata": {},
   "source": [
    "####  모델 불러오기\n",
    "- KNN 모델"
   ]
  },
  {
   "cell_type": "code",
   "execution_count": 13,
   "id": "9463f6f8",
   "metadata": {
    "ExecuteTime": {
     "end_time": "2023-08-22T03:42:39.018948Z",
     "start_time": "2023-08-22T03:42:38.272910Z"
    }
   },
   "outputs": [],
   "source": [
    "from sklearn.neighbors import KNeighborsClassifier\n",
    "knn_model = KNeighborsClassifier() # 기본값"
   ]
  },
  {
   "cell_type": "markdown",
   "id": "e4d529dc",
   "metadata": {},
   "source": [
    "#### 문제데이터와 정답데이터로 분리"
   ]
  },
  {
   "cell_type": "code",
   "execution_count": 14,
   "id": "41245ef7",
   "metadata": {
    "ExecuteTime": {
     "end_time": "2023-08-22T03:42:39.034845Z",
     "start_time": "2023-08-22T03:42:39.020838Z"
    }
   },
   "outputs": [],
   "source": [
    "# 문제 : Height, Weight\n",
    "X = bmi.loc[:,'Height' : 'Weight']\n",
    "# 정답 : Label\n",
    "y = bmi.loc[:,'Label']"
   ]
  },
  {
   "cell_type": "markdown",
   "id": "0912ae40",
   "metadata": {},
   "source": [
    "#### 학습을 위해 훈련용(train)과 평가용(test)로 분리 , 데이터를 전체로 학습시키면 시간이 많이 들기 때문에 비중을 나눔 8:2까지는 허용\n",
    "- 훈련 : 평가 = 7 : 3 "
   ]
  },
  {
   "cell_type": "code",
   "execution_count": 15,
   "id": "7f72b7c4",
   "metadata": {
    "ExecuteTime": {
     "end_time": "2023-08-22T03:42:39.049870Z",
     "start_time": "2023-08-22T03:42:39.036840Z"
    }
   },
   "outputs": [],
   "source": [
    "X_train = X.iloc[ :350] # 0~ 349 훈련용 문제\n",
    "X_test =  X.iloc[350 : ]  # 350 ~ 499 평가용 문제\n",
    "y_train = y.iloc[ :350]\n",
    "y_test = y.iloc[350:]"
   ]
  },
  {
   "cell_type": "code",
   "execution_count": 16,
   "id": "b223925d",
   "metadata": {
    "ExecuteTime": {
     "end_time": "2023-08-22T03:42:39.065858Z",
     "start_time": "2023-08-22T03:42:39.050868Z"
    }
   },
   "outputs": [
    {
     "name": "stdout",
     "output_type": "stream",
     "text": [
      "훈련용 문제 :  (350, 2)\n",
      "평가용 문제 :  (150, 2)\n",
      "훈련용 정답 :  (350,)\n",
      "평가용 정답 :  (150,)\n"
     ]
    }
   ],
   "source": [
    "print('훈련용 문제 : ', X_train.shape) \n",
    "print('평가용 문제 : ' , X_test.shape)  \n",
    "print('훈련용 정답 : ', y_train.shape)\n",
    "print('평가용 정답 : ', y_test.shape)"
   ]
  },
  {
   "cell_type": "markdown",
   "id": "ab70613c",
   "metadata": {},
   "source": [
    "### 학습"
   ]
  },
  {
   "cell_type": "code",
   "execution_count": 22,
   "id": "55d0ce5b",
   "metadata": {
    "ExecuteTime": {
     "end_time": "2023-08-22T03:43:09.558664Z",
     "start_time": "2023-08-22T03:43:09.547122Z"
    }
   },
   "outputs": [
    {
     "data": {
      "text/html": [
       "<style>#sk-container-id-2 {color: black;background-color: white;}#sk-container-id-2 pre{padding: 0;}#sk-container-id-2 div.sk-toggleable {background-color: white;}#sk-container-id-2 label.sk-toggleable__label {cursor: pointer;display: block;width: 100%;margin-bottom: 0;padding: 0.3em;box-sizing: border-box;text-align: center;}#sk-container-id-2 label.sk-toggleable__label-arrow:before {content: \"▸\";float: left;margin-right: 0.25em;color: #696969;}#sk-container-id-2 label.sk-toggleable__label-arrow:hover:before {color: black;}#sk-container-id-2 div.sk-estimator:hover label.sk-toggleable__label-arrow:before {color: black;}#sk-container-id-2 div.sk-toggleable__content {max-height: 0;max-width: 0;overflow: hidden;text-align: left;background-color: #f0f8ff;}#sk-container-id-2 div.sk-toggleable__content pre {margin: 0.2em;color: black;border-radius: 0.25em;background-color: #f0f8ff;}#sk-container-id-2 input.sk-toggleable__control:checked~div.sk-toggleable__content {max-height: 200px;max-width: 100%;overflow: auto;}#sk-container-id-2 input.sk-toggleable__control:checked~label.sk-toggleable__label-arrow:before {content: \"▾\";}#sk-container-id-2 div.sk-estimator input.sk-toggleable__control:checked~label.sk-toggleable__label {background-color: #d4ebff;}#sk-container-id-2 div.sk-label input.sk-toggleable__control:checked~label.sk-toggleable__label {background-color: #d4ebff;}#sk-container-id-2 input.sk-hidden--visually {border: 0;clip: rect(1px 1px 1px 1px);clip: rect(1px, 1px, 1px, 1px);height: 1px;margin: -1px;overflow: hidden;padding: 0;position: absolute;width: 1px;}#sk-container-id-2 div.sk-estimator {font-family: monospace;background-color: #f0f8ff;border: 1px dotted black;border-radius: 0.25em;box-sizing: border-box;margin-bottom: 0.5em;}#sk-container-id-2 div.sk-estimator:hover {background-color: #d4ebff;}#sk-container-id-2 div.sk-parallel-item::after {content: \"\";width: 100%;border-bottom: 1px solid gray;flex-grow: 1;}#sk-container-id-2 div.sk-label:hover label.sk-toggleable__label {background-color: #d4ebff;}#sk-container-id-2 div.sk-serial::before {content: \"\";position: absolute;border-left: 1px solid gray;box-sizing: border-box;top: 0;bottom: 0;left: 50%;z-index: 0;}#sk-container-id-2 div.sk-serial {display: flex;flex-direction: column;align-items: center;background-color: white;padding-right: 0.2em;padding-left: 0.2em;position: relative;}#sk-container-id-2 div.sk-item {position: relative;z-index: 1;}#sk-container-id-2 div.sk-parallel {display: flex;align-items: stretch;justify-content: center;background-color: white;position: relative;}#sk-container-id-2 div.sk-item::before, #sk-container-id-2 div.sk-parallel-item::before {content: \"\";position: absolute;border-left: 1px solid gray;box-sizing: border-box;top: 0;bottom: 0;left: 50%;z-index: -1;}#sk-container-id-2 div.sk-parallel-item {display: flex;flex-direction: column;z-index: 1;position: relative;background-color: white;}#sk-container-id-2 div.sk-parallel-item:first-child::after {align-self: flex-end;width: 50%;}#sk-container-id-2 div.sk-parallel-item:last-child::after {align-self: flex-start;width: 50%;}#sk-container-id-2 div.sk-parallel-item:only-child::after {width: 0;}#sk-container-id-2 div.sk-dashed-wrapped {border: 1px dashed gray;margin: 0 0.4em 0.5em 0.4em;box-sizing: border-box;padding-bottom: 0.4em;background-color: white;}#sk-container-id-2 div.sk-label label {font-family: monospace;font-weight: bold;display: inline-block;line-height: 1.2em;}#sk-container-id-2 div.sk-label-container {text-align: center;}#sk-container-id-2 div.sk-container {/* jupyter's `normalize.less` sets `[hidden] { display: none; }` but bootstrap.min.css set `[hidden] { display: none !important; }` so we also need the `!important` here to be able to override the default hidden behavior on the sphinx rendered scikit-learn.org. See: https://github.com/scikit-learn/scikit-learn/issues/21755 */display: inline-block !important;position: relative;}#sk-container-id-2 div.sk-text-repr-fallback {display: none;}</style><div id=\"sk-container-id-2\" class=\"sk-top-container\"><div class=\"sk-text-repr-fallback\"><pre>KNeighborsClassifier()</pre><b>In a Jupyter environment, please rerun this cell to show the HTML representation or trust the notebook. <br />On GitHub, the HTML representation is unable to render, please try loading this page with nbviewer.org.</b></div><div class=\"sk-container\" hidden><div class=\"sk-item\"><div class=\"sk-estimator sk-toggleable\"><input class=\"sk-toggleable__control sk-hidden--visually\" id=\"sk-estimator-id-2\" type=\"checkbox\" checked><label for=\"sk-estimator-id-2\" class=\"sk-toggleable__label sk-toggleable__label-arrow\">KNeighborsClassifier</label><div class=\"sk-toggleable__content\"><pre>KNeighborsClassifier()</pre></div></div></div></div></div>"
      ],
      "text/plain": [
       "KNeighborsClassifier()"
      ]
     },
     "execution_count": 22,
     "metadata": {},
     "output_type": "execute_result"
    }
   ],
   "source": [
    "# fit(문제, 정답) 을 통해서 값을 제공하고 그에 따른 규칙을 알아내는 과정\n",
    "knn_model.fit(X_train, y_train)\n",
    "# X 데이터(키, 몸무게)를 통해서 y 데이터(비만도 등급)의 규칙을 찾음."
   ]
  },
  {
   "cell_type": "markdown",
   "id": "3e694b08",
   "metadata": {},
   "source": [
    "### 평가\n",
    "- 모델이 제대로 만들어졌는지 평가\n",
    "- 새로운 데이터(평가용으로 남겨둔 데이터)에 대해서 잘 예측하는지 확인 "
   ]
  },
  {
   "cell_type": "code",
   "execution_count": 23,
   "id": "26ad588a",
   "metadata": {
    "ExecuteTime": {
     "end_time": "2023-08-22T03:43:22.661548Z",
     "start_time": "2023-08-22T03:43:22.647029Z"
    }
   },
   "outputs": [],
   "source": [
    "import warnings\n",
    "warnings.filterwarnings('ignore') # 주황색 워닝 문자를 없애는 법"
   ]
  },
  {
   "cell_type": "code",
   "execution_count": 19,
   "id": "4cd43d75",
   "metadata": {
    "ExecuteTime": {
     "end_time": "2023-08-22T03:42:39.112960Z",
     "start_time": "2023-08-22T03:42:39.099440Z"
    }
   },
   "outputs": [
    {
     "data": {
      "text/plain": [
       "array(['Normal'], dtype=object)"
      ]
     },
     "execution_count": 19,
     "metadata": {},
     "output_type": "execute_result"
    }
   ],
   "source": [
    "# 예측 \n",
    "knn_model.predict([[187, 80]]) "
   ]
  },
  {
   "cell_type": "code",
   "execution_count": 24,
   "id": "7a57200f",
   "metadata": {
    "ExecuteTime": {
     "end_time": "2023-08-22T03:43:45.707166Z",
     "start_time": "2023-08-22T03:43:45.680675Z"
    }
   },
   "outputs": [
    {
     "data": {
      "text/plain": [
       "0.9066666666666666"
      ]
     },
     "execution_count": 24,
     "metadata": {},
     "output_type": "execute_result"
    }
   ],
   "source": [
    "# 만들어진 모델 평가 ==> 학습에 사용하지 않는 새로운 문제와 정답으로 확인\n",
    "# score(문제데이터, 정답데이터)\n",
    "knn_model.score(X_test, y_test) # score 함수를 통해서 수치로 표현함\n",
    "\n",
    "# 정답데이터와 예측정답을 비교\n",
    "# 0 ~ 1 까지 값을 출력 \n",
    "# 0: 모델의 성능이 좋지 않다. 규칙이 엉망이다 -> 규칙을 찾지 못함\n",
    "# 1: 모델의 성능이 괜찮다. 규칙을 잘 찾음.\n",
    "\n",
    "# 0.9 : 10개 문제 중에서 9개는 맞추는 경우 "
   ]
  },
  {
   "cell_type": "code",
   "execution_count": 26,
   "id": "b15c5995",
   "metadata": {
    "ExecuteTime": {
     "end_time": "2023-08-22T03:44:18.448510Z",
     "start_time": "2023-08-22T03:44:18.422864Z"
    }
   },
   "outputs": [
    {
     "data": {
      "text/plain": [
       "0.9285714285714286"
      ]
     },
     "execution_count": 26,
     "metadata": {},
     "output_type": "execute_result"
    }
   ],
   "source": [
    "# 훈련용 데이터의 정확도\n",
    "knn_model.score(X_train, y_train)\n",
    "\n",
    "#규칙을 찾는데 사용된 데이터이기 때문에 test보다는 score 값이 높음. 학습 하는데 사용한 정답지 이기 때문 "
   ]
  },
  {
   "cell_type": "markdown",
   "id": "22770efd",
   "metadata": {},
   "source": [
    "#### 학습을 하면서 발견된 사항\n",
    "- train에 사용한 score 가 일반적으로 높음\n",
    "- test를 사용한 score가 일반적으로 낮음  ==> 정상적인 범주\n",
    "\n",
    "- train에 사용한 score가 낮음 ==> 과소적합, 머신러닝의 학습이 제대로 안되서 규칙을 정확히 찾지 못하는 경우  <--->   과대적합\n",
    "- test를 사용한 score가 높음 ==> test는 운으로 잘 맞춤(비정상). 규칙을 잘못 참음 "
   ]
  },
  {
   "cell_type": "code",
   "execution_count": null,
   "id": "16763544",
   "metadata": {},
   "outputs": [],
   "source": []
  },
  {
   "cell_type": "code",
   "execution_count": null,
   "id": "0c2aa95f",
   "metadata": {},
   "outputs": [],
   "source": []
  },
  {
   "cell_type": "code",
   "execution_count": null,
   "id": "c1cb95f7",
   "metadata": {},
   "outputs": [],
   "source": []
  },
  {
   "cell_type": "code",
   "execution_count": null,
   "id": "cab7ec33",
   "metadata": {},
   "outputs": [],
   "source": []
  },
  {
   "cell_type": "code",
   "execution_count": null,
   "id": "b0102c2e",
   "metadata": {},
   "outputs": [],
   "source": []
  },
  {
   "cell_type": "code",
   "execution_count": null,
   "id": "c5238d92",
   "metadata": {},
   "outputs": [],
   "source": []
  },
  {
   "cell_type": "code",
   "execution_count": null,
   "id": "c11d7837",
   "metadata": {},
   "outputs": [],
   "source": []
  },
  {
   "cell_type": "code",
   "execution_count": null,
   "id": "f5395cc8",
   "metadata": {},
   "outputs": [],
   "source": []
  }
 ],
 "metadata": {
  "kernelspec": {
   "display_name": "Python 3 (ipykernel)",
   "language": "python",
   "name": "python3"
  },
  "language_info": {
   "codemirror_mode": {
    "name": "ipython",
    "version": 3
   },
   "file_extension": ".py",
   "mimetype": "text/x-python",
   "name": "python",
   "nbconvert_exporter": "python",
   "pygments_lexer": "ipython3",
   "version": "3.10.9"
  },
  "toc": {
   "base_numbering": 1,
   "nav_menu": {},
   "number_sections": true,
   "sideBar": true,
   "skip_h1_title": false,
   "title_cell": "Table of Contents",
   "title_sidebar": "Contents",
   "toc_cell": false,
   "toc_position": {
    "height": "calc(100% - 180px)",
    "left": "10px",
    "top": "150px",
    "width": "219.425px"
   },
   "toc_section_display": true,
   "toc_window_display": true
  }
 },
 "nbformat": 4,
 "nbformat_minor": 5
}
